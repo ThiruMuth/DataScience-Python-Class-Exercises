{
 "cells": [
  {
   "cell_type": "markdown",
   "metadata": {},
   "source": [
    "## Exercise 1: Write a function to sort the list based on the first letter of the second element\n",
    "\n",
    "lst=[(19542209, \"New York\") ,(4887871, \"Alabama\"), (1420491, \"Hawaii\"), (626299, \"Vermont\"), (1805832, \"West Virginia\"), (39865590, \"California\")]\n"
   ]
  },
  {
   "cell_type": "code",
   "execution_count": 1,
   "metadata": {},
   "outputs": [
    {
     "name": "stdout",
     "output_type": "stream",
     "text": [
      "Original list: [(19542209, 'New York'), (4887871, 'Alabama'), (1420491, 'Hawaii'), (626299, 'Vermont'), (1805832, 'West Virginia'), (39865590, 'California')]\n",
      "Sorted list: [(4887871, 'Alabama'), (39865590, 'California'), (1420491, 'Hawaii'), (19542209, 'New York'), (626299, 'Vermont'), (1805832, 'West Virginia')]\n"
     ]
    }
   ],
   "source": []
  },
  {
   "cell_type": "code",
   "execution_count": 78,
   "metadata": {},
   "outputs": [
    {
     "name": "stdout",
     "output_type": "stream",
     "text": [
      "Original list : [(19542209, 'New York'), (4887871, 'Alabama'), (1420491, 'Hawaii'), (626299, 'Vermont'), (1805832, 'West Virginia'), (39865590, 'California')]\n",
      "Sorted list : [(4887871, 'Alabama'), (39865590, 'California'), (1420491, 'Hawaii'), (19542209, 'New York'), (626299, 'Vermont'), (1805832, 'West Virginia')]\n"
     ]
    }
   ],
   "source": [
    "import pandas as pd\n",
    "lst=[(19542209, \"New York\") ,(4887871, \"Alabama\"), (1420491, \"Hawaii\"), (626299, \"Vermont\"), (1805832, \"West Virginia\"), (39865590, \"California\")]\n",
    "sorted_lst = lst.copy()\n",
    "sorted_lst.sort(key=lambda x:x[1])\n",
    "print(\"Original list :\",lst)\n",
    "print(\"Sorted list :\",sorted_lst)"
   ]
  },
  {
   "cell_type": "markdown",
   "metadata": {},
   "source": [
    "## Exercise 2:  Write a function to sort the list based on the last letter of the second element\n",
    "\n",
    "Use list from previous question"
   ]
  },
  {
   "cell_type": "code",
   "execution_count": 79,
   "metadata": {},
   "outputs": [
    {
     "name": "stdout",
     "output_type": "stream",
     "text": [
      "Original list : [(19542209, 'New York'), (4887871, 'Alabama'), (1420491, 'Hawaii'), (626299, 'Vermont'), (1805832, 'West Virginia'), (39865590, 'California')]\n",
      "Sorted list : [(4887871, 'Alabama'), (1805832, 'West Virginia'), (39865590, 'California'), (1420491, 'Hawaii'), (19542209, 'New York'), (626299, 'Vermont')]\n"
     ]
    }
   ],
   "source": [
    "lst=[(19542209, \"New York\") ,(4887871, \"Alabama\"), (1420491, \"Hawaii\"), (626299, \"Vermont\"), (1805832, \"West Virginia\"), (39865590, \"California\")]\n",
    "sorted_lst = lst.copy()\n",
    "sorted_lst.sort(key=lambda x:x[1][-1])\n",
    "print(\"Original list :\",lst)\n",
    "print(\"Sorted list :\",sorted_lst)"
   ]
  },
  {
   "cell_type": "code",
   "execution_count": 2,
   "metadata": {},
   "outputs": [
    {
     "name": "stdout",
     "output_type": "stream",
     "text": [
      "Original list [(19542209, 'New York'), (4887871, 'Alabama'), (1420491, 'Hawaii'), (626299, 'Vermont'), (1805832, 'West Virginia'), (39865590, 'California')]\n",
      "Sorted list [(4887871, 'Alabama'), (1805832, 'West Virginia'), (39865590, 'California'), (1420491, 'Hawaii'), (19542209, 'New York'), (626299, 'Vermont')]\n"
     ]
    }
   ],
   "source": []
  },
  {
   "cell_type": "markdown",
   "metadata": {},
   "source": [
    "## Exercise 3: Create a range from 1 to 8 merge the given list and together to create a new list of tuples.\n",
    "\n",
    "lst1=[\"Energy\", \"Agriculture\", \"Industry\", \"Technology\", \"Finance\", \"Forestry\", \"Transport\"]"
   ]
  },
  {
   "cell_type": "markdown",
   "metadata": {},
   "source": [
    "[('Energy', 1), ('Agriculture', 2), ('Industry', 3), ('Technology', 4), ('Finance', 5), ('Forestry', 6), ('Transport', 7)]"
   ]
  },
  {
   "cell_type": "code",
   "execution_count": 65,
   "metadata": {},
   "outputs": [
    {
     "name": "stdout",
     "output_type": "stream",
     "text": [
      "[('Energy', 1), ('Agriculture', 2), ('Industry', 3), ('Technology', 4), ('Finance', 5), ('Forestry', 6), ('Transport', 7)]\n"
     ]
    }
   ],
   "source": [
    "lst1=[\"Energy\", \"Agriculture\", \"Industry\", \"Technology\", \"Finance\", \"Forestry\", \"Transport\"]\n",
    "lst2=list(range(1,8))\n",
    "lst3=[]\n",
    "for i,j in zip(lst1,lst2):\n",
    "    lst3.append((i,j))\n",
    "print(lst3)"
   ]
  },
  {
   "cell_type": "code",
   "execution_count": null,
   "metadata": {},
   "outputs": [],
   "source": []
  },
  {
   "cell_type": "markdown",
   "metadata": {},
   "source": [
    "## Exercise 4: Write a function and create a list consisted of the number of occurence of letter: a (all a's).\n",
    "\n",
    "lst1=[\"Antartica\", \"America\", \"Armania\", \"Australia\", \"Albania\", \"Afganistan\",\"Alaska\"]"
   ]
  },
  {
   "cell_type": "code",
   "execution_count": 4,
   "metadata": {},
   "outputs": [
    {
     "name": "stdout",
     "output_type": "stream",
     "text": [
      "[3, 2, 3, 3, 3, 3, 3]\n"
     ]
    }
   ],
   "source": []
  },
  {
   "cell_type": "code",
   "execution_count": 54,
   "metadata": {},
   "outputs": [
    {
     "data": {
      "text/plain": [
       "[3, 2, 3, 3, 3, 3, 3]"
      ]
     },
     "execution_count": 54,
     "metadata": {},
     "output_type": "execute_result"
    }
   ],
   "source": [
    "lst1=[\"Antartica\", \"America\", \"Armania\", \"Australia\", \"Albania\", \"Afganistan\",\"Alaska\"]\n",
    "lst2=[]\n",
    "def counta(str1):\n",
    "    count=0\n",
    "    for j in list(str1):\n",
    "        if (j in ['A','a']):\n",
    "            count=count+1\n",
    "    return(count)\n",
    "  \n",
    "list(map(counta,lst1)) "
   ]
  },
  {
   "cell_type": "markdown",
   "metadata": {},
   "source": [
    "## Exercise 5: Write a function filter all the vowels in a given string using filter.\n",
    "\n",
    "str1=\"Inceptz is one of the best institutes to read data science in chennai\""
   ]
  },
  {
   "cell_type": "code",
   "execution_count": 5,
   "metadata": {},
   "outputs": [
    {
     "name": "stdout",
     "output_type": "stream",
     "text": [
      "['I', 'e', 'i', 'o', 'e', 'o', 'e', 'e', 'i', 'i', 'u', 'e', 'o', 'e', 'a', 'a', 'a', 'i', 'e', 'e', 'i', 'e', 'a', 'i']\n"
     ]
    }
   ],
   "source": []
  },
  {
   "cell_type": "code",
   "execution_count": 83,
   "metadata": {},
   "outputs": [
    {
     "name": "stdout",
     "output_type": "stream",
     "text": [
      "['I', 'e', 'i', 'o', 'e', 'o', 'e', 'e', 'i', 'i', 'u', 'e', 'o', 'e', 'a', 'a', 'a', 'i', 'e', 'e', 'i', 'e', 'a', 'i']\n"
     ]
    }
   ],
   "source": [
    "str1=\"Inceptz is one of the best institutes to read data science in chennai\"\n",
    "chararray=[]\n",
    "def filtervowel(chr1):\n",
    "    return (chr1 in ['a','e','i','o','u','A','E','I','O','U']) \n",
    "for i in str1.split():\n",
    "    chararray.extend(list(filter(filtervowel,list(str(i)))))\n",
    "print(chararray)         "
   ]
  },
  {
   "cell_type": "code",
   "execution_count": null,
   "metadata": {},
   "outputs": [],
   "source": [
    "['I', 'e', 'i', 'o', 'e', 'o', 'e', 'e', 'i', 'i', 'u', 'e', 'o', 'e', 'a', 'a', 'a', 'i', 'e', 'e', 'i', 'e', 'a', 'i']"
   ]
  },
  {
   "cell_type": "markdown",
   "metadata": {},
   "source": [
    "## Exercise 6:  Write a function to create a list as the square of elements from the given list if the square is greater than 60\n",
    "\n",
    "lst1=[5, 6, 7 , 8, 9, 10, 12, 14]"
   ]
  },
  {
   "cell_type": "code",
   "execution_count": 6,
   "metadata": {},
   "outputs": [
    {
     "name": "stdout",
     "output_type": "stream",
     "text": [
      "[64, 81, 100, 144, 196]\n"
     ]
    }
   ],
   "source": []
  },
  {
   "cell_type": "code",
   "execution_count": null,
   "metadata": {},
   "outputs": [],
   "source": []
  },
  {
   "cell_type": "code",
   "execution_count": 7,
   "metadata": {},
   "outputs": [
    {
     "name": "stdout",
     "output_type": "stream",
     "text": [
      "[64, 81, 100, 144, 196]\n"
     ]
    }
   ],
   "source": [
    "lst1=[5, 6, 7 , 8, 9, 10, 12, 14]\n",
    "arraylst = [i*i for i in lst1 if i*i > 60]\n",
    "print(arraylst)"
   ]
  },
  {
   "cell_type": "markdown",
   "metadata": {},
   "source": [
    "## Exercise 7: take the words given below as list and write a function and use reduce to make it a sentence\n",
    "Inceptz \n",
    "\n",
    "provides\n",
    "\n",
    "the\n",
    "\n",
    "best\n",
    "\n",
    "inclass \n",
    "\n",
    "trainings \n",
    "\n",
    "and\n",
    "\n",
    "is \n",
    "\n",
    "the \n",
    "\n",
    "best\n"
   ]
  },
  {
   "cell_type": "code",
   "execution_count": 7,
   "metadata": {},
   "outputs": [
    {
     "data": {
      "text/plain": [
       "'Inceptez provides the best inclass trainings and is the best'"
      ]
     },
     "execution_count": 7,
     "metadata": {},
     "output_type": "execute_result"
    }
   ],
   "source": []
  },
  {
   "cell_type": "code",
   "execution_count": 1,
   "metadata": {},
   "outputs": [],
   "source": [
    "from functools import reduce"
   ]
  },
  {
   "cell_type": "code",
   "execution_count": 3,
   "metadata": {},
   "outputs": [
    {
     "name": "stdout",
     "output_type": "stream",
     "text": [
      "Inceptz provides the best inclass trainings and is the best\n"
     ]
    }
   ],
   "source": [
    "lst = ['Inceptz','provides','the','best','inclass','trainings','and','is','the','best']\n",
    "def join_words(first,second):\n",
    "    return first+' '+second\n",
    "statement = reduce(join_words,lst)\n",
    "print(statement)"
   ]
  },
  {
   "cell_type": "code",
   "execution_count": null,
   "metadata": {},
   "outputs": [],
   "source": []
  },
  {
   "cell_type": "code",
   "execution_count": null,
   "metadata": {},
   "outputs": [],
   "source": []
  }
 ],
 "metadata": {
  "kernelspec": {
   "display_name": "Python 3",
   "language": "python",
   "name": "python3"
  },
  "language_info": {
   "codemirror_mode": {
    "name": "ipython",
    "version": 3
   },
   "file_extension": ".py",
   "mimetype": "text/x-python",
   "name": "python",
   "nbconvert_exporter": "python",
   "pygments_lexer": "ipython3",
   "version": "3.7.6"
  }
 },
 "nbformat": 4,
 "nbformat_minor": 2
}
