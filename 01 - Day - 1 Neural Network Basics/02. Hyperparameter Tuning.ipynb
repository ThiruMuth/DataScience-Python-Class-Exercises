{
  "nbformat": 4,
  "nbformat_minor": 0,
  "metadata": {
    "kernelspec": {
      "display_name": "Python 3",
      "language": "python",
      "name": "python3"
    },
    "language_info": {
      "codemirror_mode": {
        "name": "ipython",
        "version": 3
      },
      "file_extension": ".py",
      "mimetype": "text/x-python",
      "name": "python",
      "nbconvert_exporter": "python",
      "pygments_lexer": "ipython3",
      "version": "3.6.4"
    },
    "colab": {
      "name": "02. Hyperparameter Tuning.ipynb",
      "provenance": []
    }
  },
  "cells": [
    {
      "cell_type": "markdown",
      "metadata": {
        "id": "pHyaVXjdiJqe"
      },
      "source": [
        "# Advanced MLP\n",
        "- Advanced techniques for training neural networks\n",
        "    - Weight Initialization\n",
        "    - Nonlinearity (Activation function)\n",
        "    - Optimizers\n",
        "    - Batch Normalization\n",
        "    - Dropout (Regularization)\n",
        "    - Model Ensemble"
      ]
    },
    {
      "cell_type": "code",
      "metadata": {
        "id": "s-xMU6bQiJqr"
      },
      "source": [
        "import matplotlib.pyplot as plt\n",
        "\n",
        "from sklearn.model_selection import train_test_split\n",
        "from keras.datasets import mnist\n",
        "from keras.models import Sequential\n",
        "from keras.utils.np_utils import to_categorical"
      ],
      "execution_count": 62,
      "outputs": []
    },
    {
      "cell_type": "markdown",
      "metadata": {
        "id": "WwaAj8c6iJqu"
      },
      "source": [
        "## Load Dataset\n",
        "- MNIST dataset\n",
        "- source: http://yann.lecun.com/exdb/mnist/"
      ]
    },
    {
      "cell_type": "code",
      "metadata": {
        "id": "DGZlR8WAiJqu"
      },
      "source": [
        "(X_train, y_train), (X_test, y_test) = mnist.load_data()"
      ],
      "execution_count": 63,
      "outputs": []
    },
    {
      "cell_type": "code",
      "metadata": {
        "id": "yIao_9PtiJqv",
        "outputId": "068c43bc-7d5a-4afb-a462-80f0c62c5050",
        "colab": {
          "base_uri": "https://localhost:8080/",
          "height": 282
        }
      },
      "source": [
        "plt.imshow(X_train[7])    # show first number in the dataset\n",
        "plt.show()\n",
        "print('Label: ', y_train[7])"
      ],
      "execution_count": 64,
      "outputs": [
        {
          "output_type": "display_data",
          "data": {
            "image/png": "[encoded data removed]",
            "text/plain": [
              "<Figure size 432x288 with 1 Axes>"
            ]
          },
          "metadata": {
            "tags": [],
            "needs_background": "light"
          }
        },
        {
          "output_type": "stream",
          "text": [
            "Label:  3\n"
          ],
          "name": "stdout"
        }
      ]
    },
    {
      "cell_type": "code",
      "metadata": {
        "id": "v5-Q0Oj7iJqw",
        "outputId": "bcbdf899-fb2d-4d35-a81e-10e4f2e40d35",
        "colab": {
          "base_uri": "https://localhost:8080/",
          "height": 1000
        }
      },
      "source": [
        "for i in range(0,10):\n",
        "    plt.imshow(X_train[i])    # show first number in the dataset\n",
        "    plt.show()\n",
        "    print('Label: ', y_train[i])"
      ],
      "execution_count": 65,
      "outputs": [
        {
          "output_type": "display_data",
          "data": {
            "image/png": "[encoded data removed]",
            "text/plain": [
              "<Figure size 432x288 with 1 Axes>"
            ]
          },
          "metadata": {
            "tags": [],
            "needs_background": "light"
          }
        },
        {
          "output_type": "stream",
          "text": [
            "Label:  5\n"
          ],
          "name": "stdout"
        },
        {
          "output_type": "display_data",
          "data": {
            "image/png": "[encoded data removed]",
            "text/plain": [
              "<Figure size 432x288 with 1 Axes>"
            ]
          },
          "metadata": {
            "tags": [],
            "needs_background": "light"
          }
        },
        {
          "output_type": "stream",
          "text": [
            "Label:  0\n"
          ],
          "name": "stdout"
        },
        {
          "output_type": "display_data",
          "data": {
            "image/png": "[encoded data removed]",
            "text/plain": [
              "<Figure size 432x288 with 1 Axes>"
            ]
          },
          "metadata": {
            "tags": [],
            "needs_background": "light"
          }
        },
        {
          "output_type": "stream",
          "text": [
            "Label:  4\n"
          ],
          "name": "stdout"
        },
        {
          "output_type": "display_data",
          "data": {
            "image/png": "[encoded data removed]",
            "text/plain": [
              "<Figure size 432x288 with 1 Axes>"
            ]
          },
          "metadata": {
            "tags": [],
            "needs_background": "light"
          }
        },
        {
          "output_type": "stream",
          "text": [
            "Label:  1\n"
          ],
          "name": "stdout"
        },
        {
          "output_type": "display_data",
          "data": {
            "image/png": "[encoded data removed]",
            "text/plain": [
              "<Figure size 432x288 with 1 Axes>"
            ]
          },
          "metadata": {
            "tags": [],
            "needs_background": "light"
          }
        },
        {
          "output_type": "stream",
          "text": [
            "Label:  9\n"
          ],
          "name": "stdout"
        },
        {
          "output_type": "display_data",
          "data": {
            "image/png": "[encoded data removed]",
            "text/plain": [
              "<Figure size 432x288 with 1 Axes>"
            ]
          },
          "metadata": {
            "tags": [],
            "needs_background": "light"
          }
        },
        {
          "output_type": "stream",
          "text": [
            "Label:  2\n"
          ],
          "name": "stdout"
        },
        {
          "output_type": "display_data",
          "data": {
            "image/png": "[encoded data removed]",
            "text/plain": [
              "<Figure size 432x288 with 1 Axes>"
            ]
          },
          "metadata": {
            "tags": [],
            "needs_background": "light"
          }
        },
        {
          "output_type": "stream",
          "text": [
            "Label:  1\n"
          ],
          "name": "stdout"
        },
        {
          "output_type": "display_data",
          "data": {
            "image/png": "[encoded data removed]",
            "text/plain": [
              "<Figure size 432x288 with 1 Axes>"
            ]
          },
          "metadata": {
            "tags": [],
            "needs_background": "light"
          }
        },
        {
          "output_type": "stream",
          "text": [
            "Label:  3\n"
          ],
          "name": "stdout"
        },
        {
          "output_type": "display_data",
          "data": {
            "image/png": "[encoded data removed]",
            "text/plain": [
              "<Figure size 432x288 with 1 Axes>"
            ]
          },
          "metadata": {
            "tags": [],
            "needs_background": "light"
          }
        },
        {
          "output_type": "stream",
          "text": [
            "Label:  1\n"
          ],
          "name": "stdout"
        },
        {
          "output_type": "display_data",
          "data": {
            "image/png": "[encoded data removed]",
            "text/plain": [
              "<Figure size 432x288 with 1 Axes>"
            ]
          },
          "metadata": {
            "tags": [],
            "needs_background": "light"
          }
        },
        {
          "output_type": "stream",
          "text": [
            "Label:  4\n"
          ],
          "name": "stdout"
        }
      ]
    },
    {
      "cell_type": "code",
      "metadata": {
        "id": "qp5KfWQ3iJqy",
        "outputId": "b9fea1a8-7f37-4473-ed56-c5bb501a2e16",
        "colab": {
          "base_uri": "https://localhost:8080/",
          "height": 282
        }
      },
      "source": [
        "plt.imshow(X_test[0])    # show first number in the dataset\n",
        "plt.show()\n",
        "print('Label: ', y_test[0])"
      ],
      "execution_count": 66,
      "outputs": [
        {
          "output_type": "display_data",
          "data": {
            "image/png": "[encoded data removed]",
            "text/plain": [
              "<Figure size 432x288 with 1 Axes>"
            ]
          },
          "metadata": {
            "tags": [],
            "needs_background": "light"
          }
        },
        {
          "output_type": "stream",
          "text": [
            "Label:  7\n"
          ],
          "name": "stdout"
        }
      ]
    },
    {
      "cell_type": "code",
      "metadata": {
        "id": "vefI8FhjiJqz"
      },
      "source": [
        "# reshaping X data: (n, 28, 28) => (n, 784)\n",
        "X_train = X_train.reshape((X_train.shape[0], -1))\n",
        "X_test = X_test.reshape((X_test.shape[0], -1))"
      ],
      "execution_count": 67,
      "outputs": []
    },
    {
      "cell_type": "code",
      "metadata": {
        "id": "9SNrZjYriJq0"
      },
      "source": [
        "# use only 33% of training data to expedite the training process\n",
        "X_train, _ , y_train, _ = train_test_split(X_train, y_train, test_size = 0.67, random_state = 7)"
      ],
      "execution_count": 68,
      "outputs": []
    },
    {
      "cell_type": "code",
      "metadata": {
        "id": "1EWdaiWtiJq1"
      },
      "source": [
        "# converting y data into categorical (one-hot encoding)\n",
        "y_train = to_categorical(y_train)\n",
        "y_test = to_categorical(y_test)"
      ],
      "execution_count": 69,
      "outputs": []
    },
    {
      "cell_type": "code",
      "metadata": {
        "id": "JEywHWaViJq2",
        "outputId": "77fd0733-1b3c-471f-8018-29129e3e7504",
        "colab": {
          "base_uri": "https://localhost:8080/"
        }
      },
      "source": [
        "print(X_train.shape, X_test.shape, y_train.shape, y_test.shape)"
      ],
      "execution_count": 70,
      "outputs": [
        {
          "output_type": "stream",
          "text": [
            "(19800, 784) (10000, 784) (19800, 10) (10000, 10)\n"
          ],
          "name": "stdout"
        }
      ]
    },
    {
      "cell_type": "markdown",
      "metadata": {
        "id": "1317hsfHiJq3"
      },
      "source": [
        "## Basic MLP model\n",
        "- Naive MLP model without any alterations"
      ]
    },
    {
      "cell_type": "code",
      "metadata": {
        "id": "Pg-tiYkZiJq3"
      },
      "source": [
        "from keras.models import Sequential\n",
        "from keras.layers import Activation, Dense\n",
        "from keras import optimizers"
      ],
      "execution_count": 133,
      "outputs": []
    },
    {
      "cell_type": "code",
      "metadata": {
        "id": "ysx3M1f8iJq4"
      },
      "source": [
        "model = Sequential()"
      ],
      "execution_count": 72,
      "outputs": []
    },
    {
      "cell_type": "code",
      "metadata": {
        "id": "b0pBLNzxiJq4"
      },
      "source": [
        "model.add(Dense(50, input_shape = (784, )))\n",
        "model.add(Activation('sigmoid'))\n",
        "model.add(Dense(50))\n",
        "model.add(Activation('sigmoid'))\n",
        "model.add(Dense(50))\n",
        "model.add(Activation('sigmoid'))\n",
        "model.add(Dense(50))\n",
        "model.add(Activation('sigmoid'))\n",
        "model.add(Dense(10))\n",
        "model.add(Activation('softmax'))"
      ],
      "execution_count": 73,
      "outputs": []
    },
    {
      "cell_type": "code",
      "metadata": {
        "id": "qwE4N_7biJq4"
      },
      "source": [
        "sgd = optimizers.SGD(lr = 0.001)\n",
        "model.compile(optimizer = sgd, loss = 'categorical_crossentropy', metrics = ['accuracy'])"
      ],
      "execution_count": 74,
      "outputs": []
    },
    {
      "cell_type": "code",
      "metadata": {
        "id": "roRafTwmiJq5"
      },
      "source": [
        "history = model.fit(X_train, y_train, batch_size = 256, validation_split = 0.3, epochs = 100, verbose = 0)"
      ],
      "execution_count": 75,
      "outputs": []
    },
    {
      "cell_type": "markdown",
      "metadata": {
        "id": "Xo4mRnj4jKxi"
      },
      "source": [
        ""
      ]
    },
    {
      "cell_type": "code",
      "metadata": {
        "id": "db4QOczyiJq5",
        "outputId": "b50215fc-665e-4da5-86f7-9cc307f86683",
        "colab": {
          "base_uri": "https://localhost:8080/",
          "height": 267
        }
      },
      "source": [
        "plt.plot(history.history['accuracy'])\n",
        "plt.plot(history.history['val_accuracy'])\n",
        "plt.legend(['training', 'validation'], loc = 'upper left')\n",
        "plt.show()"
      ],
      "execution_count": 76,
      "outputs": [
        {
          "output_type": "display_data",
          "data": {
            "image/png": "[encoded data removed]",
            "text/plain": [
              "<Figure size 432x288 with 1 Axes>"
            ]
          },
          "metadata": {
            "tags": [],
            "needs_background": "light"
          }
        }
      ]
    },
    {
      "cell_type": "markdown",
      "metadata": {
        "id": "QWCF4KiZiJq6"
      },
      "source": [
        "Training and validation accuracy seems to improve after around 60 epochs"
      ]
    },
    {
      "cell_type": "code",
      "metadata": {
        "id": "3B_72A-NiJq6",
        "outputId": "962403ca-cc3c-4724-a13d-58cd0cb76106",
        "colab": {
          "base_uri": "https://localhost:8080/"
        }
      },
      "source": [
        "results = model.evaluate(X_test, y_test)"
      ],
      "execution_count": 77,
      "outputs": [
        {
          "output_type": "stream",
          "text": [
            "313/313 [==============================] - 0s 1ms/step - loss: 2.2987 - accuracy: 0.1135\n"
          ],
          "name": "stdout"
        }
      ]
    },
    {
      "cell_type": "code",
      "metadata": {
        "id": "jMPoqDrviJq6",
        "outputId": "084209cd-e138-4981-845c-4c407e0ad1ba",
        "colab": {
          "base_uri": "https://localhost:8080/"
        }
      },
      "source": [
        "print('Test accuracy: ', results[1])"
      ],
      "execution_count": 78,
      "outputs": [
        {
          "output_type": "stream",
          "text": [
            "Test accuracy:  0.11349999904632568\n"
          ],
          "name": "stdout"
        }
      ]
    },
    {
      "cell_type": "markdown",
      "metadata": {
        "id": "m2TI3ssHiJq7"
      },
      "source": [
        "## 1. Weight Initialization\n",
        "- Changing weight initialization scheme can significantly improve training of the model by preventing vanishing gradient problem up to some degree\n",
        "- He normal or Xavier normal initialization schemes are SOTA at the moment\n",
        "- Doc: https://keras.io/initializers/"
      ]
    },
    {
      "cell_type": "code",
      "metadata": {
        "id": "MJRY45rziJq7"
      },
      "source": [
        "# from now on, create a function to generate (return) models\n",
        "def mlp_model():\n",
        "    model = Sequential()\n",
        "    \n",
        "    model.add(Dense(50, input_shape = (784, ), kernel_initializer='he_normal'))     # use he_normal initializer\n",
        "    model.add(Activation('sigmoid'))    \n",
        "    model.add(Dense(50, kernel_initializer='he_normal'))                            # use he_normal initializer\n",
        "    model.add(Activation('sigmoid'))    \n",
        "    model.add(Dense(50, kernel_initializer='he_normal'))                            # use he_normal initializer\n",
        "    model.add(Activation('sigmoid'))    \n",
        "    model.add(Dense(50, kernel_initializer='he_normal'))                            # use he_normal initializer\n",
        "    model.add(Activation('sigmoid'))    \n",
        "    model.add(Dense(10, kernel_initializer='he_normal'))                            # use he_normal initializer\n",
        "    model.add(Activation('softmax'))\n",
        "    \n",
        "    sgd = optimizers.SGD(lr = 0.001)\n",
        "    model.compile(optimizer = sgd, loss = 'categorical_crossentropy', metrics = ['accuracy'])\n",
        "    \n",
        "    return model"
      ],
      "execution_count": 79,
      "outputs": []
    },
    {
      "cell_type": "code",
      "metadata": {
        "scrolled": true,
        "id": "fr_0Vt9tiJq7"
      },
      "source": [
        "model = mlp_model()\n",
        "history = model.fit(X_train, y_train, validation_split = 0.3, epochs = 100, verbose = 0)"
      ],
      "execution_count": 80,
      "outputs": []
    },
    {
      "cell_type": "code",
      "metadata": {
        "id": "HTUX3I9oiJq8",
        "outputId": "cdd8c834-484a-41f5-a30a-8f201ff83d55",
        "colab": {
          "base_uri": "https://localhost:8080/",
          "height": 265
        }
      },
      "source": [
        "plt.plot(history.history['accuracy'])\n",
        "plt.plot(history.history['val_accuracy'])\n",
        "plt.legend(['training', 'validation'], loc = 'upper left')\n",
        "plt.show()"
      ],
      "execution_count": 81,
      "outputs": [
        {
          "output_type": "display_data",
          "data": {
            "image/png": "[encoded data removed]",
            "text/plain": [
              "<Figure size 432x288 with 1 Axes>"
            ]
          },
          "metadata": {
            "tags": [],
            "needs_background": "light"
          }
        }
      ]
    },
    {
      "cell_type": "markdown",
      "metadata": {
        "id": "YhDvkcO8iJq9"
      },
      "source": [
        "Training and validation accuracy seems to improve after around 60 epochs"
      ]
    },
    {
      "cell_type": "code",
      "metadata": {
        "id": "rqyY3hbeiJrA",
        "outputId": "a43abc59-119b-46b6-992a-307c2d7999e7",
        "colab": {
          "base_uri": "https://localhost:8080/"
        }
      },
      "source": [
        "results = model.evaluate(X_test, y_test)"
      ],
      "execution_count": 82,
      "outputs": [
        {
          "output_type": "stream",
          "text": [
            "313/313 [==============================] - 0s 1ms/step - loss: 1.9370 - accuracy: 0.4609\n"
          ],
          "name": "stdout"
        }
      ]
    },
    {
      "cell_type": "code",
      "metadata": {
        "id": "UIar8rDDiJrA",
        "outputId": "02682d52-403a-486f-8a7e-1171454aace7",
        "colab": {
          "base_uri": "https://localhost:8080/"
        }
      },
      "source": [
        "print('Test accuracy: ', results[1])"
      ],
      "execution_count": 83,
      "outputs": [
        {
          "output_type": "stream",
          "text": [
            "Test accuracy:  0.4609000086784363\n"
          ],
          "name": "stdout"
        }
      ]
    },
    {
      "cell_type": "markdown",
      "metadata": {
        "id": "wYFeQXHXiJrB"
      },
      "source": [
        "## 2. Nonlinearity (Activation function)\n",
        "- Sigmoid functions suffer from gradient vanishing problem, making training slower\n",
        "- There are many choices apart from sigmoid and tanh; try many of them!\n",
        "    - **'relu'** (rectified linear unit) is one of the most popular ones\n",
        "    - **'selu'** (scaled exponential linear unit) is one of the most recent ones\n",
        "- Doc: https://keras.io/activations/"
      ]
    },
    {
      "cell_type": "markdown",
      "metadata": {
        "id": "Zc1yfGxciJrC"
      },
      "source": [
        "<img src=\"http://cs231n.github.io/assets/nn1/sigmoid.jpeg\" style=\"width: 400px\"/>\n",
        "<center> **Sigmoid Activation Function** </center>\n",
        "<img src=\"http://cs231n.github.io/assets/nn1/relu.jpeg\" style=\"width: 400px\"/>\n",
        "<center> **Relu Activation Function** </center>\n",
        "<img src=\"https://www.researchgate.net/profile/Sepp_Hochreiter/publication/284579051/figure/fig1/AS:614057178578955@1523414048184/The-rectified-linear-unit-ReLU-the-leaky-ReLU-LReLU-a-01-the-shifted-ReLUs.png\" style=\"width: 400px\"/>\n",
        "<center> **Comparision of activation** </center>"
      ]
    },
    {
      "cell_type": "code",
      "metadata": {
        "id": "EJ7TN9OLiJrC"
      },
      "source": [
        "def mlp_model():\n",
        "    model = Sequential()\n",
        "    \n",
        "    model.add(Dense(50, input_shape = (784, )))\n",
        "    model.add(Activation('relu'))    # use relu\n",
        "    model.add(Dense(50))\n",
        "    model.add(Activation('relu'))    # use relu\n",
        "    model.add(Dense(50))\n",
        "    model.add(Activation('relu'))    # use relu\n",
        "    model.add(Dense(50))\n",
        "    model.add(Activation('relu'))    # use relu\n",
        "    model.add(Dense(10))\n",
        "    model.add(Activation('softmax'))\n",
        "    \n",
        "    sgd = optimizers.SGD(lr = 0.001)\n",
        "    model.compile(optimizer = sgd, loss = 'categorical_crossentropy', metrics = ['accuracy'])\n",
        "    \n",
        "    return model"
      ],
      "execution_count": 84,
      "outputs": []
    },
    {
      "cell_type": "code",
      "metadata": {
        "id": "GICYIWDIiJrD"
      },
      "source": [
        "model = mlp_model()\n",
        "history = model.fit(X_train, y_train, validation_split = 0.3, epochs = 100, verbose = 0)"
      ],
      "execution_count": 85,
      "outputs": []
    },
    {
      "cell_type": "code",
      "metadata": {
        "id": "NdpJp-vOiJrF",
        "outputId": "e196d677-c763-4ae4-ea38-61726e9d3217",
        "colab": {
          "base_uri": "https://localhost:8080/",
          "height": 265
        }
      },
      "source": [
        "plt.plot(history.history['accuracy'])\n",
        "plt.plot(history.history['val_accuracy'])\n",
        "plt.legend(['training', 'validation'], loc = 'upper left')\n",
        "plt.show()"
      ],
      "execution_count": 86,
      "outputs": [
        {
          "output_type": "display_data",
          "data": {
            "image/png": "[encoded data removed]",
            "text/plain": [
              "<Figure size 432x288 with 1 Axes>"
            ]
          },
          "metadata": {
            "tags": [],
            "needs_background": "light"
          }
        }
      ]
    },
    {
      "cell_type": "markdown",
      "metadata": {
        "id": "57kQVtN4iJrG"
      },
      "source": [
        "Training and validation accuracy improve instantaneously, but reach a plateau after around 30 epochs"
      ]
    },
    {
      "cell_type": "code",
      "metadata": {
        "id": "20r6zQOpiJrG",
        "outputId": "b9d25dae-5f25-4973-9eea-889a0b2baef1",
        "colab": {
          "base_uri": "https://localhost:8080/"
        }
      },
      "source": [
        "results = model.evaluate(X_test, y_test)"
      ],
      "execution_count": 87,
      "outputs": [
        {
          "output_type": "stream",
          "text": [
            "313/313 [==============================] - 0s 1ms/step - loss: 0.4987 - accuracy: 0.9196\n"
          ],
          "name": "stdout"
        }
      ]
    },
    {
      "cell_type": "code",
      "metadata": {
        "id": "DcPGmpJ7iJrH",
        "outputId": "52e9809f-6b6d-413b-bb5e-d332be9f1506",
        "colab": {
          "base_uri": "https://localhost:8080/"
        }
      },
      "source": [
        "print('Test accuracy: ', results[1])"
      ],
      "execution_count": 88,
      "outputs": [
        {
          "output_type": "stream",
          "text": [
            "Test accuracy:  0.9196000099182129\n"
          ],
          "name": "stdout"
        }
      ]
    },
    {
      "cell_type": "markdown",
      "metadata": {
        "id": "UvOqsQzHiJrH"
      },
      "source": [
        "## 3. Optimizers\n",
        "- Many variants of SGD are proposed and employed nowadays\n",
        "- One of the most popular ones are Adam (Adaptive Moment Estimation)\n",
        "- Doc: https://keras.io/optimizers/"
      ]
    },
    {
      "cell_type": "markdown",
      "metadata": {
        "id": "SLTGFPWxiJrH"
      },
      "source": [
        "<img src=\"http://cs231n.github.io/assets/nn3/opt2.gif\" style=\"width: 400px\"/>\n",
        "<br><center> **Relative convergence speed of different optimizers** </center></br>"
      ]
    },
    {
      "cell_type": "code",
      "metadata": {
        "id": "ati-teVOiJrI"
      },
      "source": [
        "def mlp_model():\n",
        "    model = Sequential()\n",
        "    \n",
        "    model.add(Dense(50, input_shape = (784, )))\n",
        "    model.add(Activation('elu'))    \n",
        "    model.add(Dense(50))\n",
        "    model.add(Activation('elu'))  \n",
        "    model.add(Dense(50))\n",
        "    model.add(Activation('elu'))    \n",
        "    model.add(Dense(50))\n",
        "    model.add(Activation('elu'))    \n",
        "    model.add(Dense(10))\n",
        "    model.add(Activation('softmax'))\n",
        "    \n",
        "    adam = optimizers.Adam(lr = 0.001)                     # use Adam optimizer\n",
        "    model.compile(optimizer = adam, loss = 'categorical_crossentropy', metrics = ['accuracy'])\n",
        "    \n",
        "    return model"
      ],
      "execution_count": 89,
      "outputs": []
    },
    {
      "cell_type": "code",
      "metadata": {
        "id": "eEp2llqmiJrJ"
      },
      "source": [
        "model = mlp_model()\n",
        "history = model.fit(X_train, y_train, validation_split = 0.3, epochs = 100, verbose = 0)"
      ],
      "execution_count": 90,
      "outputs": []
    },
    {
      "cell_type": "code",
      "metadata": {
        "id": "y4LVaVmriJrJ",
        "outputId": "b86e7571-60e1-46eb-d588-1a20dfe2534c",
        "colab": {
          "base_uri": "https://localhost:8080/",
          "height": 265
        }
      },
      "source": [
        "plt.plot(history.history['accuracy'])\n",
        "plt.plot(history.history['val_accuracy'])\n",
        "plt.legend(['training', 'validation'], loc = 'upper left')\n",
        "plt.show()"
      ],
      "execution_count": 91,
      "outputs": [
        {
          "output_type": "display_data",
          "data": {
            "image/png": "[encoded data removed]",
            "text/plain": [
              "<Figure size 432x288 with 1 Axes>"
            ]
          },
          "metadata": {
            "tags": [],
            "needs_background": "light"
          }
        }
      ]
    },
    {
      "cell_type": "markdown",
      "metadata": {
        "id": "SWW57K4xiJrK"
      },
      "source": [
        "Training and validation accuracy improve instantaneously, but reach plateau after around 50 epochs"
      ]
    },
    {
      "cell_type": "code",
      "metadata": {
        "id": "osKP9YLGiJrK",
        "outputId": "cfe9b7e7-e1e2-4fa4-d657-85f5f1ce30af",
        "colab": {
          "base_uri": "https://localhost:8080/"
        }
      },
      "source": [
        "results = model.evaluate(X_test, y_test)"
      ],
      "execution_count": 92,
      "outputs": [
        {
          "output_type": "stream",
          "text": [
            "313/313 [==============================] - 0s 1ms/step - loss: 0.4892 - accuracy: 0.9574\n"
          ],
          "name": "stdout"
        }
      ]
    },
    {
      "cell_type": "code",
      "metadata": {
        "id": "QgnUno9eiJrL",
        "outputId": "3f7f2d50-c113-499c-cde5-78a73f99c41d",
        "colab": {
          "base_uri": "https://localhost:8080/"
        }
      },
      "source": [
        "print('Test accuracy: ', results[1])"
      ],
      "execution_count": 93,
      "outputs": [
        {
          "output_type": "stream",
          "text": [
            "Test accuracy:  0.9574000239372253\n"
          ],
          "name": "stdout"
        }
      ]
    },
    {
      "cell_type": "markdown",
      "metadata": {
        "id": "pYx715U1iJrL"
      },
      "source": [
        "## 4. Batch Normalization\n",
        "- Batch Normalization, one of the methods to prevent the \"internal covariance shift\" problem, has proven to be highly effective\n",
        "- Normalize each mini-batch before nonlinearity\n",
        "- Doc: https://keras.io/optimizers/"
      ]
    },
    {
      "cell_type": "markdown",
      "metadata": {
        "id": "NPGbK6qtiJrM"
      },
      "source": [
        "<img src=\"https://raw.githubusercontent.com/torch/torch.github.io/master/blog/_posts/images/resnets_modelvariants.png\" style=\"width: 500px\"/>\n",
        "\n",
        "<br> Batch normalization layer is usually inserted after dense/convolution and before nonlinearity"
      ]
    },
    {
      "cell_type": "code",
      "metadata": {
        "id": "GKZFHiOiiJrM"
      },
      "source": [
        "from keras.layers import BatchNormalization"
      ],
      "execution_count": 94,
      "outputs": []
    },
    {
      "cell_type": "code",
      "metadata": {
        "id": "qoKz0--WiJrN"
      },
      "source": [
        "def mlp_model():\n",
        "    model = Sequential()\n",
        "    \n",
        "    model.add(Dense(50, input_shape = (784, )))\n",
        "    model.add(BatchNormalization())                    # Add Batchnorm layer before Activation\n",
        "    model.add(Activation('elu'))    \n",
        "    model.add(Dense(50))\n",
        "    model.add(BatchNormalization())                    # Add Batchnorm layer before Activation\n",
        "    model.add(Activation('elu'))    \n",
        "    model.add(Dense(50))\n",
        "    model.add(BatchNormalization())                    # Add Batchnorm layer before Activation\n",
        "    model.add(Activation('elu'))    \n",
        "    model.add(Dense(50))\n",
        "    model.add(BatchNormalization())                    # Add Batchnorm layer before Activation\n",
        "    model.add(Activation('elu'))    \n",
        "    model.add(Dense(10))\n",
        "    model.add(Activation('softmax'))\n",
        "    \n",
        "    adam = optimizers.Adam(lr = 0.001)\n",
        "    model.compile(optimizer = adam, loss = 'categorical_crossentropy', metrics = ['accuracy'])\n",
        "    \n",
        "    return model"
      ],
      "execution_count": 95,
      "outputs": []
    },
    {
      "cell_type": "code",
      "metadata": {
        "id": "8DY6MWQDiJrN"
      },
      "source": [
        "model = mlp_model()\n",
        "history = model.fit(X_train, y_train, validation_split = 0.3, epochs = 100, verbose = 0)"
      ],
      "execution_count": 96,
      "outputs": []
    },
    {
      "cell_type": "code",
      "metadata": {
        "id": "NW4SlWF-iJrO",
        "outputId": "1c7964e9-0479-437f-e5c8-3e39cd8a0340",
        "colab": {
          "base_uri": "https://localhost:8080/",
          "height": 265
        }
      },
      "source": [
        "plt.plot(history.history['accuracy'])\n",
        "plt.plot(history.history['val_accuracy'])\n",
        "plt.legend(['training', 'validation'], loc = 'upper left')\n",
        "plt.show()"
      ],
      "execution_count": 97,
      "outputs": [
        {
          "output_type": "display_data",
          "data": {
            "image/png": "[encoded data removed]",
            "text/plain": [
              "<Figure size 432x288 with 1 Axes>"
            ]
          },
          "metadata": {
            "tags": [],
            "needs_background": "light"
          }
        }
      ]
    },
    {
      "cell_type": "markdown",
      "metadata": {
        "id": "Y0VAPSmZiJrP"
      },
      "source": [
        "Training and validation accuracy improve consistently, but reach plateau after around 60 epochs"
      ]
    },
    {
      "cell_type": "code",
      "metadata": {
        "id": "0zPMI5s0iJrP",
        "outputId": "bd59e24b-28b6-4aa4-ebc1-8f7015bd7be7",
        "colab": {
          "base_uri": "https://localhost:8080/"
        }
      },
      "source": [
        "results = model.evaluate(X_test, y_test)"
      ],
      "execution_count": 98,
      "outputs": [
        {
          "output_type": "stream",
          "text": [
            "313/313 [==============================] - 0s 1ms/step - loss: 0.1647 - accuracy: 0.9666\n"
          ],
          "name": "stdout"
        }
      ]
    },
    {
      "cell_type": "code",
      "metadata": {
        "id": "FrGXEyRriJrQ",
        "outputId": "b2f65d05-b40b-4fa3-dc34-42e0c1e7f025",
        "colab": {
          "base_uri": "https://localhost:8080/"
        }
      },
      "source": [
        "print('Test accuracy: ', results[1])"
      ],
      "execution_count": 99,
      "outputs": [
        {
          "output_type": "stream",
          "text": [
            "Test accuracy:  0.9666000008583069\n"
          ],
          "name": "stdout"
        }
      ]
    },
    {
      "cell_type": "markdown",
      "metadata": {
        "id": "ykm2asE_iJrR"
      },
      "source": [
        "## 5. Dropout (Regularization)\n",
        "- Dropout is one of powerful ways to prevent overfitting\n",
        "- The idea is simple. It is disconnecting some (randomly selected) neurons in each layer\n",
        "- The probability of each neuron to be disconnected, namely 'Dropout rate', has to be designated\n",
        "- Doc: https://keras.io/layers/core/#dropout"
      ]
    },
    {
      "cell_type": "markdown",
      "metadata": {
        "id": "8Bmwf3EziJrR"
      },
      "source": [
        "<img src=\"https://image.slidesharecdn.com/lecture29-convolutionalneuralnetworks-visionspring2015-150504114140-conversion-gate02/95/lecture-29-convolutional-neural-networks-computer-vision-spring2015-62-638.jpg?cb=1430740006\" style=\"width: 500px\"/>"
      ]
    },
    {
      "cell_type": "code",
      "metadata": {
        "id": "21EE0e-EiJrS"
      },
      "source": [
        "from keras.layers import Dropout"
      ],
      "execution_count": 100,
      "outputs": []
    },
    {
      "cell_type": "code",
      "metadata": {
        "id": "p_Rje9BziJrS"
      },
      "source": [
        "def mlp_model():\n",
        "    model = Sequential()\n",
        "    \n",
        "    model.add(Dense(50, input_shape = (784, )))\n",
        "    model.add(Activation('selu'))    \n",
        "    model.add(Dropout(0.2))                        # Dropout layer after Activation\n",
        "    model.add(Dense(50))\n",
        "    model.add(Activation('selu'))\n",
        "    model.add(Dropout(0.2))                        # Dropout layer after Activation\n",
        "    model.add(Dense(50))\n",
        "    model.add(Activation('selu'))    \n",
        "    model.add(Dropout(0.2))                        # Dropout layer after Activation\n",
        "    model.add(Dense(50))\n",
        "    model.add(Activation('selu'))    \n",
        "    model.add(Dropout(0.2))                         # Dropout layer after Activation\n",
        "    model.add(Dense(10))\n",
        "    model.add(Activation('softmax'))\n",
        "    \n",
        "    adam = optimizers.Adam(lr = 0.001)\n",
        "    model.compile(optimizer = adam, loss = 'categorical_crossentropy', metrics = ['accuracy'])\n",
        "    \n",
        "    return model"
      ],
      "execution_count": 101,
      "outputs": []
    },
    {
      "cell_type": "code",
      "metadata": {
        "scrolled": true,
        "id": "bj-rYPdEiJrT",
        "outputId": "88e3fb98-01c9-4fef-a321-bb9da5ea1e78",
        "colab": {
          "base_uri": "https://localhost:8080/"
        }
      },
      "source": [
        "model = mlp_model()\n",
        "history = model.fit(X_train, y_train, validation_split = 0.3, epochs = 100, verbose = 1)"
      ],
      "execution_count": 102,
      "outputs": [
        {
          "output_type": "stream",
          "text": [
            "Epoch 1/100\n",
            "434/434 [==============================] - 2s 3ms/step - loss: 14.3077 - accuracy: 0.1316 - val_loss: 2.0385 - val_accuracy: 0.2306\n",
            "Epoch 2/100\n",
            "434/434 [==============================] - 1s 3ms/step - loss: 2.4597 - accuracy: 0.1868 - val_loss: 1.7303 - val_accuracy: 0.3438\n",
            "Epoch 3/100\n",
            "434/434 [==============================] - 1s 2ms/step - loss: 2.0353 - accuracy: 0.3035 - val_loss: 1.4462 - val_accuracy: 0.4416\n",
            "Epoch 4/100\n",
            "434/434 [==============================] - 1s 2ms/step - loss: 1.7169 - accuracy: 0.3891 - val_loss: 1.3514 - val_accuracy: 0.4662\n",
            "Epoch 5/100\n",
            "434/434 [==============================] - 1s 3ms/step - loss: 1.6322 - accuracy: 0.3980 - val_loss: 1.2950 - val_accuracy: 0.4833\n",
            "Epoch 6/100\n",
            "434/434 [==============================] - 1s 3ms/step - loss: 1.5492 - accuracy: 0.4353 - val_loss: 1.1457 - val_accuracy: 0.5584\n",
            "Epoch 7/100\n",
            "434/434 [==============================] - 1s 3ms/step - loss: 1.4496 - accuracy: 0.4791 - val_loss: 0.9790 - val_accuracy: 0.6146\n",
            "Epoch 8/100\n",
            "434/434 [==============================] - 1s 3ms/step - loss: 1.3145 - accuracy: 0.5252 - val_loss: 0.9019 - val_accuracy: 0.6411\n",
            "Epoch 9/100\n",
            "434/434 [==============================] - 1s 3ms/step - loss: 1.1942 - accuracy: 0.5676 - val_loss: 0.8541 - val_accuracy: 0.6828\n",
            "Epoch 10/100\n",
            "434/434 [==============================] - 1s 3ms/step - loss: 1.1044 - accuracy: 0.5953 - val_loss: 0.8087 - val_accuracy: 0.7019\n",
            "Epoch 11/100\n",
            "434/434 [==============================] - 1s 2ms/step - loss: 1.0393 - accuracy: 0.6103 - val_loss: 0.7668 - val_accuracy: 0.7200\n",
            "Epoch 12/100\n",
            "434/434 [==============================] - 1s 2ms/step - loss: 1.0327 - accuracy: 0.6137 - val_loss: 0.7769 - val_accuracy: 0.7057\n",
            "Epoch 13/100\n",
            "434/434 [==============================] - 1s 3ms/step - loss: 1.0038 - accuracy: 0.6111 - val_loss: 0.7827 - val_accuracy: 0.7003\n",
            "Epoch 14/100\n",
            "434/434 [==============================] - 1s 2ms/step - loss: 0.9989 - accuracy: 0.6107 - val_loss: 0.7321 - val_accuracy: 0.7192\n",
            "Epoch 15/100\n",
            "434/434 [==============================] - 1s 2ms/step - loss: 0.9763 - accuracy: 0.6284 - val_loss: 0.7401 - val_accuracy: 0.7402\n",
            "Epoch 16/100\n",
            "434/434 [==============================] - 1s 2ms/step - loss: 0.9658 - accuracy: 0.6445 - val_loss: 0.6554 - val_accuracy: 0.7537\n",
            "Epoch 17/100\n",
            "434/434 [==============================] - 1s 2ms/step - loss: 0.8933 - accuracy: 0.6563 - val_loss: 0.6790 - val_accuracy: 0.7301\n",
            "Epoch 18/100\n",
            "434/434 [==============================] - 1s 2ms/step - loss: 0.8807 - accuracy: 0.6510 - val_loss: 0.6214 - val_accuracy: 0.7527\n",
            "Epoch 19/100\n",
            "434/434 [==============================] - 1s 3ms/step - loss: 0.8776 - accuracy: 0.6639 - val_loss: 0.6175 - val_accuracy: 0.7446\n",
            "Epoch 20/100\n",
            "434/434 [==============================] - 1s 2ms/step - loss: 0.8347 - accuracy: 0.6764 - val_loss: 0.5991 - val_accuracy: 0.8042\n",
            "Epoch 21/100\n",
            "434/434 [==============================] - 1s 3ms/step - loss: 0.8149 - accuracy: 0.7054 - val_loss: 0.5748 - val_accuracy: 0.8113\n",
            "Epoch 22/100\n",
            "434/434 [==============================] - 1s 2ms/step - loss: 0.7791 - accuracy: 0.7219 - val_loss: 0.5009 - val_accuracy: 0.8370\n",
            "Epoch 23/100\n",
            "434/434 [==============================] - 1s 2ms/step - loss: 0.7610 - accuracy: 0.7378 - val_loss: 0.5290 - val_accuracy: 0.8247\n",
            "Epoch 24/100\n",
            "434/434 [==============================] - 1s 3ms/step - loss: 0.7663 - accuracy: 0.7366 - val_loss: 0.5892 - val_accuracy: 0.8059\n",
            "Epoch 25/100\n",
            "434/434 [==============================] - 1s 3ms/step - loss: 0.7220 - accuracy: 0.7549 - val_loss: 0.4825 - val_accuracy: 0.8645\n",
            "Epoch 26/100\n",
            "434/434 [==============================] - 1s 3ms/step - loss: 0.7304 - accuracy: 0.7509 - val_loss: 0.4820 - val_accuracy: 0.8571\n",
            "Epoch 27/100\n",
            "434/434 [==============================] - 1s 2ms/step - loss: 0.6991 - accuracy: 0.7602 - val_loss: 0.4975 - val_accuracy: 0.8332\n",
            "Epoch 28/100\n",
            "434/434 [==============================] - 1s 2ms/step - loss: 0.6997 - accuracy: 0.7580 - val_loss: 0.4689 - val_accuracy: 0.8593\n",
            "Epoch 29/100\n",
            "434/434 [==============================] - 1s 2ms/step - loss: 0.7120 - accuracy: 0.7536 - val_loss: 0.4740 - val_accuracy: 0.8574\n",
            "Epoch 30/100\n",
            "434/434 [==============================] - 1s 3ms/step - loss: 0.6661 - accuracy: 0.7604 - val_loss: 0.5585 - val_accuracy: 0.8190\n",
            "Epoch 31/100\n",
            "434/434 [==============================] - 1s 2ms/step - loss: 0.7160 - accuracy: 0.7483 - val_loss: 0.4669 - val_accuracy: 0.8505\n",
            "Epoch 32/100\n",
            "434/434 [==============================] - 1s 2ms/step - loss: 0.6980 - accuracy: 0.7549 - val_loss: 0.5102 - val_accuracy: 0.8631\n",
            "Epoch 33/100\n",
            "434/434 [==============================] - 1s 2ms/step - loss: 0.6817 - accuracy: 0.7613 - val_loss: 0.4454 - val_accuracy: 0.8736\n",
            "Epoch 34/100\n",
            "434/434 [==============================] - 1s 2ms/step - loss: 0.6621 - accuracy: 0.7683 - val_loss: 0.4632 - val_accuracy: 0.8673\n",
            "Epoch 35/100\n",
            "434/434 [==============================] - 1s 3ms/step - loss: 0.6626 - accuracy: 0.7713 - val_loss: 0.4561 - val_accuracy: 0.8673\n",
            "Epoch 36/100\n",
            "434/434 [==============================] - 1s 3ms/step - loss: 0.6567 - accuracy: 0.7708 - val_loss: 0.4673 - val_accuracy: 0.8492\n",
            "Epoch 37/100\n",
            "434/434 [==============================] - 1s 3ms/step - loss: 0.6774 - accuracy: 0.7640 - val_loss: 0.4491 - val_accuracy: 0.8645\n",
            "Epoch 38/100\n",
            "434/434 [==============================] - 1s 3ms/step - loss: 0.6517 - accuracy: 0.7673 - val_loss: 0.4693 - val_accuracy: 0.8608\n",
            "Epoch 39/100\n",
            "434/434 [==============================] - 1s 3ms/step - loss: 0.6523 - accuracy: 0.7688 - val_loss: 0.4581 - val_accuracy: 0.8588\n",
            "Epoch 40/100\n",
            "434/434 [==============================] - 1s 3ms/step - loss: 0.6475 - accuracy: 0.7628 - val_loss: 0.4840 - val_accuracy: 0.8608\n",
            "Epoch 41/100\n",
            "434/434 [==============================] - 1s 3ms/step - loss: 0.6227 - accuracy: 0.7790 - val_loss: 0.4445 - val_accuracy: 0.8655\n",
            "Epoch 42/100\n",
            "434/434 [==============================] - 1s 3ms/step - loss: 0.6384 - accuracy: 0.7742 - val_loss: 0.4274 - val_accuracy: 0.8751\n",
            "Epoch 43/100\n",
            "434/434 [==============================] - 1s 3ms/step - loss: 0.6370 - accuracy: 0.7801 - val_loss: 0.4310 - val_accuracy: 0.8694\n",
            "Epoch 44/100\n",
            "434/434 [==============================] - 1s 3ms/step - loss: 0.6577 - accuracy: 0.7704 - val_loss: 0.4048 - val_accuracy: 0.8859\n",
            "Epoch 45/100\n",
            "434/434 [==============================] - 1s 2ms/step - loss: 0.6464 - accuracy: 0.7749 - val_loss: 0.4291 - val_accuracy: 0.8781\n",
            "Epoch 46/100\n",
            "434/434 [==============================] - 1s 3ms/step - loss: 0.6392 - accuracy: 0.7785 - val_loss: 0.4454 - val_accuracy: 0.8763\n",
            "Epoch 47/100\n",
            "434/434 [==============================] - 1s 2ms/step - loss: 0.6265 - accuracy: 0.7846 - val_loss: 0.4617 - val_accuracy: 0.8793\n",
            "Epoch 48/100\n",
            "434/434 [==============================] - 1s 2ms/step - loss: 0.6185 - accuracy: 0.7832 - val_loss: 0.4270 - val_accuracy: 0.8710\n",
            "Epoch 49/100\n",
            "434/434 [==============================] - 1s 2ms/step - loss: 0.6161 - accuracy: 0.7919 - val_loss: 0.4487 - val_accuracy: 0.8783\n",
            "Epoch 50/100\n",
            "434/434 [==============================] - 1s 2ms/step - loss: 0.6597 - accuracy: 0.7644 - val_loss: 0.4729 - val_accuracy: 0.8655\n",
            "Epoch 51/100\n",
            "434/434 [==============================] - 1s 2ms/step - loss: 0.6415 - accuracy: 0.7758 - val_loss: 0.4624 - val_accuracy: 0.8700\n",
            "Epoch 52/100\n",
            "434/434 [==============================] - 1s 3ms/step - loss: 0.6329 - accuracy: 0.7774 - val_loss: 0.4606 - val_accuracy: 0.8662\n",
            "Epoch 53/100\n",
            "434/434 [==============================] - 1s 2ms/step - loss: 0.6115 - accuracy: 0.7816 - val_loss: 0.4986 - val_accuracy: 0.8739\n",
            "Epoch 54/100\n",
            "434/434 [==============================] - 1s 2ms/step - loss: 0.6092 - accuracy: 0.7870 - val_loss: 0.4671 - val_accuracy: 0.8352\n",
            "Epoch 55/100\n",
            "434/434 [==============================] - 1s 2ms/step - loss: 0.6171 - accuracy: 0.7822 - val_loss: 0.4894 - val_accuracy: 0.8593\n",
            "Epoch 56/100\n",
            "434/434 [==============================] - 1s 3ms/step - loss: 0.6363 - accuracy: 0.7797 - val_loss: 0.4539 - val_accuracy: 0.8628\n",
            "Epoch 57/100\n",
            "434/434 [==============================] - 1s 3ms/step - loss: 0.5908 - accuracy: 0.7958 - val_loss: 0.4593 - val_accuracy: 0.8577\n",
            "Epoch 58/100\n",
            "434/434 [==============================] - 1s 2ms/step - loss: 0.6269 - accuracy: 0.7890 - val_loss: 0.4513 - val_accuracy: 0.8766\n",
            "Epoch 59/100\n",
            "434/434 [==============================] - 1s 2ms/step - loss: 0.6221 - accuracy: 0.7830 - val_loss: 0.4600 - val_accuracy: 0.8662\n",
            "Epoch 60/100\n",
            "434/434 [==============================] - 1s 3ms/step - loss: 0.5964 - accuracy: 0.7939 - val_loss: 0.4283 - val_accuracy: 0.8810\n",
            "Epoch 61/100\n",
            "434/434 [==============================] - 1s 2ms/step - loss: 0.5829 - accuracy: 0.7960 - val_loss: 0.4652 - val_accuracy: 0.8739\n",
            "Epoch 62/100\n",
            "434/434 [==============================] - 1s 3ms/step - loss: 0.5977 - accuracy: 0.7871 - val_loss: 0.4307 - val_accuracy: 0.8801\n",
            "Epoch 63/100\n",
            "434/434 [==============================] - 1s 3ms/step - loss: 0.6025 - accuracy: 0.7837 - val_loss: 0.4283 - val_accuracy: 0.8796\n",
            "Epoch 64/100\n",
            "434/434 [==============================] - 1s 3ms/step - loss: 0.5927 - accuracy: 0.7940 - val_loss: 0.4342 - val_accuracy: 0.8598\n",
            "Epoch 65/100\n",
            "434/434 [==============================] - 1s 3ms/step - loss: 0.5986 - accuracy: 0.7921 - val_loss: 0.4519 - val_accuracy: 0.8707\n",
            "Epoch 66/100\n",
            "434/434 [==============================] - 1s 3ms/step - loss: 0.6052 - accuracy: 0.7893 - val_loss: 0.4383 - val_accuracy: 0.8689\n",
            "Epoch 67/100\n",
            "434/434 [==============================] - 1s 3ms/step - loss: 0.5947 - accuracy: 0.7904 - val_loss: 0.4857 - val_accuracy: 0.8719\n",
            "Epoch 68/100\n",
            "434/434 [==============================] - 1s 3ms/step - loss: 0.6347 - accuracy: 0.7812 - val_loss: 0.4565 - val_accuracy: 0.8633\n",
            "Epoch 69/100\n",
            "434/434 [==============================] - 1s 3ms/step - loss: 0.5934 - accuracy: 0.7930 - val_loss: 0.4481 - val_accuracy: 0.8727\n",
            "Epoch 70/100\n",
            "434/434 [==============================] - 1s 3ms/step - loss: 0.5837 - accuracy: 0.7921 - val_loss: 0.4449 - val_accuracy: 0.8805\n",
            "Epoch 71/100\n",
            "434/434 [==============================] - 1s 3ms/step - loss: 0.5850 - accuracy: 0.7993 - val_loss: 0.4516 - val_accuracy: 0.8791\n",
            "Epoch 72/100\n",
            "434/434 [==============================] - 1s 3ms/step - loss: 0.5920 - accuracy: 0.7971 - val_loss: 0.4691 - val_accuracy: 0.8579\n",
            "Epoch 73/100\n",
            "434/434 [==============================] - 1s 3ms/step - loss: 0.5979 - accuracy: 0.7893 - val_loss: 0.4419 - val_accuracy: 0.8850\n",
            "Epoch 74/100\n",
            "434/434 [==============================] - 1s 2ms/step - loss: 0.5759 - accuracy: 0.7981 - val_loss: 0.4492 - val_accuracy: 0.8796\n",
            "Epoch 75/100\n",
            "434/434 [==============================] - 1s 2ms/step - loss: 0.5713 - accuracy: 0.8025 - val_loss: 0.4602 - val_accuracy: 0.8705\n",
            "Epoch 76/100\n",
            "434/434 [==============================] - 1s 2ms/step - loss: 0.5704 - accuracy: 0.8014 - val_loss: 0.4731 - val_accuracy: 0.8737\n",
            "Epoch 77/100\n",
            "434/434 [==============================] - 1s 2ms/step - loss: 0.5895 - accuracy: 0.7888 - val_loss: 0.4650 - val_accuracy: 0.8714\n",
            "Epoch 78/100\n",
            "434/434 [==============================] - 1s 3ms/step - loss: 0.6044 - accuracy: 0.7891 - val_loss: 0.4501 - val_accuracy: 0.8660\n",
            "Epoch 79/100\n",
            "434/434 [==============================] - 1s 3ms/step - loss: 0.5812 - accuracy: 0.7988 - val_loss: 0.4888 - val_accuracy: 0.8657\n",
            "Epoch 80/100\n",
            "434/434 [==============================] - 1s 3ms/step - loss: 0.5878 - accuracy: 0.7972 - val_loss: 0.4404 - val_accuracy: 0.8791\n",
            "Epoch 81/100\n",
            "434/434 [==============================] - 1s 2ms/step - loss: 0.5871 - accuracy: 0.7918 - val_loss: 0.4799 - val_accuracy: 0.8571\n",
            "Epoch 82/100\n",
            "434/434 [==============================] - 1s 2ms/step - loss: 0.5761 - accuracy: 0.7978 - val_loss: 0.4341 - val_accuracy: 0.8668\n",
            "Epoch 83/100\n",
            "434/434 [==============================] - 1s 3ms/step - loss: 0.5713 - accuracy: 0.7967 - val_loss: 0.4290 - val_accuracy: 0.8705\n",
            "Epoch 84/100\n",
            "434/434 [==============================] - 1s 3ms/step - loss: 0.5653 - accuracy: 0.8079 - val_loss: 0.4820 - val_accuracy: 0.8663\n",
            "Epoch 85/100\n",
            "434/434 [==============================] - 1s 2ms/step - loss: 0.5763 - accuracy: 0.7988 - val_loss: 0.4628 - val_accuracy: 0.8709\n",
            "Epoch 86/100\n",
            "434/434 [==============================] - 1s 3ms/step - loss: 0.5674 - accuracy: 0.7998 - val_loss: 0.4349 - val_accuracy: 0.8875\n",
            "Epoch 87/100\n",
            "434/434 [==============================] - 1s 2ms/step - loss: 0.5977 - accuracy: 0.7991 - val_loss: 0.4484 - val_accuracy: 0.8709\n",
            "Epoch 88/100\n",
            "434/434 [==============================] - 1s 3ms/step - loss: 0.6073 - accuracy: 0.7826 - val_loss: 0.4576 - val_accuracy: 0.8638\n",
            "Epoch 89/100\n",
            "434/434 [==============================] - 1s 3ms/step - loss: 0.6064 - accuracy: 0.7885 - val_loss: 0.4698 - val_accuracy: 0.8702\n",
            "Epoch 90/100\n",
            "434/434 [==============================] - 1s 3ms/step - loss: 0.5835 - accuracy: 0.7966 - val_loss: 0.4909 - val_accuracy: 0.8734\n",
            "Epoch 91/100\n",
            "434/434 [==============================] - 1s 3ms/step - loss: 0.5971 - accuracy: 0.7940 - val_loss: 0.4890 - val_accuracy: 0.8582\n",
            "Epoch 92/100\n",
            "434/434 [==============================] - 1s 3ms/step - loss: 0.5714 - accuracy: 0.7993 - val_loss: 0.4994 - val_accuracy: 0.8677\n",
            "Epoch 93/100\n",
            "434/434 [==============================] - 1s 3ms/step - loss: 0.5734 - accuracy: 0.8000 - val_loss: 0.4385 - val_accuracy: 0.8800\n",
            "Epoch 94/100\n",
            "434/434 [==============================] - 1s 2ms/step - loss: 0.5638 - accuracy: 0.8024 - val_loss: 0.4624 - val_accuracy: 0.8753\n",
            "Epoch 95/100\n",
            "434/434 [==============================] - 1s 3ms/step - loss: 0.5664 - accuracy: 0.8042 - val_loss: 0.4477 - val_accuracy: 0.8810\n",
            "Epoch 96/100\n",
            "434/434 [==============================] - 1s 3ms/step - loss: 0.5989 - accuracy: 0.7999 - val_loss: 0.4738 - val_accuracy: 0.8690\n",
            "Epoch 97/100\n",
            "434/434 [==============================] - 1s 3ms/step - loss: 0.5686 - accuracy: 0.8021 - val_loss: 0.4827 - val_accuracy: 0.8719\n",
            "Epoch 98/100\n",
            "434/434 [==============================] - 1s 3ms/step - loss: 0.5691 - accuracy: 0.7960 - val_loss: 0.4420 - val_accuracy: 0.8727\n",
            "Epoch 99/100\n",
            "434/434 [==============================] - 1s 3ms/step - loss: 0.5694 - accuracy: 0.8029 - val_loss: 0.4449 - val_accuracy: 0.8694\n",
            "Epoch 100/100\n",
            "434/434 [==============================] - 1s 3ms/step - loss: 0.5618 - accuracy: 0.8109 - val_loss: 0.4472 - val_accuracy: 0.8795\n"
          ],
          "name": "stdout"
        }
      ]
    },
    {
      "cell_type": "code",
      "metadata": {
        "id": "St2H0uN-iJrU",
        "outputId": "24a8fd49-1f67-48e5-f85b-564687bac483",
        "colab": {
          "base_uri": "https://localhost:8080/",
          "height": 265
        }
      },
      "source": [
        "plt.plot(history.history['accuracy'])\n",
        "plt.plot(history.history['val_accuracy'])\n",
        "plt.legend(['training', 'validation'], loc = 'upper left')\n",
        "plt.show()"
      ],
      "execution_count": 103,
      "outputs": [
        {
          "output_type": "display_data",
          "data": {
            "image/png": "[encoded data removed]",
            "text/plain": [
              "<Figure size 432x288 with 1 Axes>"
            ]
          },
          "metadata": {
            "tags": [],
            "needs_background": "light"
          }
        }
      ]
    },
    {
      "cell_type": "markdown",
      "metadata": {
        "id": "wH_iQ6bDiJrU"
      },
      "source": [
        "Validation results does not improve since it did not show signs of overfitting, yet.\n",
        "<br> Hence, the key takeaway message is that apply dropout when you see a signal of overfitting."
      ]
    },
    {
      "cell_type": "code",
      "metadata": {
        "id": "YFfZwypOiJrV",
        "outputId": "84ad82a9-fc2b-4f9f-c533-16f784e00b98",
        "colab": {
          "base_uri": "https://localhost:8080/"
        }
      },
      "source": [
        "results = model.evaluate(X_test, y_test)"
      ],
      "execution_count": 104,
      "outputs": [
        {
          "output_type": "stream",
          "text": [
            "313/313 [==============================] - 0s 1ms/step - loss: 0.4164 - accuracy: 0.8821\n"
          ],
          "name": "stdout"
        }
      ]
    },
    {
      "cell_type": "code",
      "metadata": {
        "id": "Pb3L9y5qiJrV",
        "outputId": "7fb7c267-912c-4959-a999-1a0edc2b21c4",
        "colab": {
          "base_uri": "https://localhost:8080/"
        }
      },
      "source": [
        "print('Test accuracy: ', results[1])"
      ],
      "execution_count": 105,
      "outputs": [
        {
          "output_type": "stream",
          "text": [
            "Test accuracy:  0.882099986076355\n"
          ],
          "name": "stdout"
        }
      ]
    },
    {
      "cell_type": "markdown",
      "metadata": {
        "id": "N_bccOnAiJrW"
      },
      "source": [
        "## 6. Model Ensemble\n",
        "- Model ensemble is a reliable and promising way to boost performance of the model\n",
        "- Usually create 8 to 10 independent networks and merge their results\n",
        "- Here, we resort to scikit-learn API, **VotingClassifier**\n",
        "- Doc: http://scikit-learn.org/stable/modules/generated/sklearn.ensemble.VotingClassifier.html"
      ]
    },
    {
      "cell_type": "markdown",
      "metadata": {
        "id": "lL6pG_ZEiJrW"
      },
      "source": [
        "<img src=\"https://encrypted-tbn0.gstatic.com/images?q=tbn:ANd9GcRs1CBSEtpp5yj6SJ5K_nHd1FNfyEYa9KLjWfoMY_v7ARTq3tdpVw\" style=\"width: 300px\"/>"
      ]
    },
    {
      "cell_type": "code",
      "metadata": {
        "id": "zPv8pRzyiJrX"
      },
      "source": [
        "import numpy as np\n",
        "\n",
        "from keras.wrappers.scikit_learn import KerasClassifier\n",
        "from sklearn.ensemble import VotingClassifier\n",
        "from sklearn.metrics import accuracy_score"
      ],
      "execution_count": 106,
      "outputs": []
    },
    {
      "cell_type": "code",
      "metadata": {
        "id": "ytbPEh4SiJrX"
      },
      "source": [
        "y_train = np.argmax(y_train, axis = 1)\n",
        "y_test = np.argmax(y_test, axis = 1)"
      ],
      "execution_count": 107,
      "outputs": []
    },
    {
      "cell_type": "code",
      "metadata": {
        "id": "n8M-gZxHiJrY"
      },
      "source": [
        "def mlp_model():\n",
        "    model = Sequential()\n",
        "    \n",
        "    model.add(Dense(50, input_shape = (784, )))\n",
        "    model.add(BatchNormalization())\n",
        "    model.add(Activation('selu'))    \n",
        "    model.add(Dense(50))\n",
        "    model.add(BatchNormalization())\n",
        "    model.add(Activation('selu'))    \n",
        "    model.add(Dense(50))\n",
        "    model.add(BatchNormalization())\n",
        "    model.add(Activation('selu'))    \n",
        "    model.add(Dense(50))\n",
        "    model.add(BatchNormalization())\n",
        "    model.add(Activation('selu'))    \n",
        "    model.add(Dense(50))\n",
        "    model.add(BatchNormalization())\n",
        "    model.add(Activation('selu'))    \n",
        "    model.add(Dense(10))\n",
        "    model.add(Activation('softmax'))\n",
        "    \n",
        "    Nadam = optimizers.Nadam(lr = 0.001)\n",
        "    model.compile(optimizer = Nadam, loss = 'categorical_crossentropy', metrics = ['accuracy'])\n",
        "    \n",
        "    return model"
      ],
      "execution_count": 140,
      "outputs": []
    },
    {
      "cell_type": "code",
      "metadata": {
        "id": "h4A6a-KeiJrY"
      },
      "source": [
        "model1 = KerasClassifier(build_fn = mlp_model, epochs = 100, verbose = 0)\n",
        "model1._estimator_type=\"classifier\"\n",
        "model2 = KerasClassifier(build_fn = mlp_model, epochs = 50, verbose = 0)\n",
        "model2._estimator_type=\"classifier\"\n",
        "model3 = KerasClassifier(build_fn = mlp_model, epochs = 30, verbose = 0)\n",
        "model3._estimator_type=\"classifier\""
      ],
      "execution_count": 155,
      "outputs": []
    },
    {
      "cell_type": "code",
      "metadata": {
        "id": "3gVhbCxAiJrY"
      },
      "source": [
        "ensemble_clf = VotingClassifier(estimators = [('model1', model1), ('model2', model2), ('model3', model3)], voting = 'soft')"
      ],
      "execution_count": 156,
      "outputs": []
    },
    {
      "cell_type": "code",
      "metadata": {
        "id": "NemwQUuviJrZ"
      },
      "source": [
        "ensemble_clf.fit(X_train, y_train)"
      ],
      "execution_count": null,
      "outputs": []
    },
    {
      "cell_type": "code",
      "metadata": {
        "id": "CiPqFey1iJrZ"
      },
      "source": [
        "y_pred = ensemble_clf.predict(X_test)"
      ],
      "execution_count": null,
      "outputs": []
    },
    {
      "cell_type": "code",
      "metadata": {
        "id": "d1qZa-4-iJra"
      },
      "source": [
        "print('Test accuracy:', accuracy_score(y_pred, y_test))"
      ],
      "execution_count": null,
      "outputs": []
    },
    {
      "cell_type": "code",
      "metadata": {
        "id": "WkxIs8EviJra"
      },
      "source": [
        ""
      ],
      "execution_count": 120,
      "outputs": []
    }
  ]
}