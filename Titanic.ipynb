{
 "cells": [
  {
   "cell_type": "code",
   "execution_count": 2,
   "metadata": {},
   "outputs": [
    {
     "name": "stderr",
     "output_type": "stream",
     "text": [
      "In C:\\ProgramData\\Anaconda3\\lib\\site-packages\\matplotlib\\mpl-data\\stylelib\\_classic_test.mplstyle: \n",
      "The text.latex.preview rcparam was deprecated in Matplotlib 3.3 and will be removed two minor releases later.\n",
      "In C:\\ProgramData\\Anaconda3\\lib\\site-packages\\matplotlib\\mpl-data\\stylelib\\_classic_test.mplstyle: \n",
      "The mathtext.fallback_to_cm rcparam was deprecated in Matplotlib 3.3 and will be removed two minor releases later.\n",
      "In C:\\ProgramData\\Anaconda3\\lib\\site-packages\\matplotlib\\mpl-data\\stylelib\\_classic_test.mplstyle: Support for setting the 'mathtext.fallback_to_cm' rcParam is deprecated since 3.3 and will be removed two minor releases later; use 'mathtext.fallback : 'cm' instead.\n",
      "In C:\\ProgramData\\Anaconda3\\lib\\site-packages\\matplotlib\\mpl-data\\stylelib\\_classic_test.mplstyle: \n",
      "The validate_bool_maybe_none function was deprecated in Matplotlib 3.3 and will be removed two minor releases later.\n",
      "In C:\\ProgramData\\Anaconda3\\lib\\site-packages\\matplotlib\\mpl-data\\stylelib\\_classic_test.mplstyle: \n",
      "The savefig.jpeg_quality rcparam was deprecated in Matplotlib 3.3 and will be removed two minor releases later.\n",
      "In C:\\ProgramData\\Anaconda3\\lib\\site-packages\\matplotlib\\mpl-data\\stylelib\\_classic_test.mplstyle: \n",
      "The keymap.all_axes rcparam was deprecated in Matplotlib 3.3 and will be removed two minor releases later.\n",
      "In C:\\ProgramData\\Anaconda3\\lib\\site-packages\\matplotlib\\mpl-data\\stylelib\\_classic_test.mplstyle: \n",
      "The animation.avconv_path rcparam was deprecated in Matplotlib 3.3 and will be removed two minor releases later.\n",
      "In C:\\ProgramData\\Anaconda3\\lib\\site-packages\\matplotlib\\mpl-data\\stylelib\\_classic_test.mplstyle: \n",
      "The animation.avconv_args rcparam was deprecated in Matplotlib 3.3 and will be removed two minor releases later.\n"
     ]
    }
   ],
   "source": [
    "import pandas as pd\n",
    "import numpy as np\n",
    "import seaborn as sns\n",
    "from sklearn.model_selection import train_test_split,cross_val_score,GridSearchCV\n",
    "from sklearn.linear_model import LogisticRegression\n",
    "from sklearn.ensemble import RandomForestClassifier\n",
    "from sklearn.metrics import classification_report,confusion_matrix,accuracy_score,recall_score,precision_score,f1_score,roc_auc_score\n",
    "from sklearn.metrics import plot_roc_curve\n",
    "from sklearn.preprocessing import StandardScaler, PolynomialFeatures, MinMaxScaler\n",
    "from sklearn.ensemble import AdaBoostClassifier\n",
    "from sklearn.tree import DecisionTreeClassifier\n",
    "from sklearn.neighbors import KNeighborsClassifier\n",
    "from sklearn.ensemble import GradientBoostingClassifier\n",
    "from sklearn.ensemble import VotingClassifier\n",
    "from mlxtend.classifier import StackingClassifier\n",
    "from sklearn.ensemble import StackingClassifier\n",
    "from xgboost import XGBClassifier\n",
    "from statsmodels.stats.outliers_influence import variance_inflation_factor\n",
    "import matplotlib.pyplot as plt\n",
    "import warnings\n",
    "warnings.filterwarnings(\"ignore\")"
   ]
  },
  {
   "cell_type": "code",
   "execution_count": 179,
   "metadata": {},
   "outputs": [],
   "source": [
    "train=pd.read_csv('train.csv')\n",
    "test=pd.read_csv('test.csv')"
   ]
  },
  {
   "cell_type": "code",
   "execution_count": 180,
   "metadata": {},
   "outputs": [
    {
     "data": {
      "text/plain": [
       "0    549\n",
       "1    342\n",
       "Name: Survived, dtype: int64"
      ]
     },
     "execution_count": 180,
     "metadata": {},
     "output_type": "execute_result"
    }
   ],
   "source": [
    "train.Survived.value_counts()"
   ]
  },
  {
   "cell_type": "code",
   "execution_count": null,
   "metadata": {},
   "outputs": [],
   "source": []
  },
  {
   "cell_type": "code",
   "execution_count": 5,
   "metadata": {},
   "outputs": [
    {
     "name": "stdout",
     "output_type": "stream",
     "text": [
      "<class 'pandas.core.frame.DataFrame'>\n",
      "RangeIndex: 891 entries, 0 to 890\n",
      "Data columns (total 12 columns):\n",
      " #   Column       Non-Null Count  Dtype  \n",
      "---  ------       --------------  -----  \n",
      " 0   PassengerId  891 non-null    int64  \n",
      " 1   Survived     891 non-null    int64  \n",
      " 2   Pclass       891 non-null    int64  \n",
      " 3   Name         891 non-null    object \n",
      " 4   Sex          891 non-null    object \n",
      " 5   Age          714 non-null    float64\n",
      " 6   SibSp        891 non-null    int64  \n",
      " 7   Parch        891 non-null    int64  \n",
      " 8   Ticket       891 non-null    object \n",
      " 9   Fare         891 non-null    float64\n",
      " 10  Cabin        204 non-null    object \n",
      " 11  Embarked     889 non-null    object \n",
      "dtypes: float64(2), int64(5), object(5)\n",
      "memory usage: 83.7+ KB\n"
     ]
    }
   ],
   "source": [
    "train.info()"
   ]
  },
  {
   "cell_type": "code",
   "execution_count": 6,
   "metadata": {},
   "outputs": [
    {
     "data": {
      "text/html": [
       "<div>\n",
       "<style scoped>\n",
       "    .dataframe tbody tr th:only-of-type {\n",
       "        vertical-align: middle;\n",
       "    }\n",
       "\n",
       "    .dataframe tbody tr th {\n",
       "        vertical-align: top;\n",
       "    }\n",
       "\n",
       "    .dataframe thead th {\n",
       "        text-align: right;\n",
       "    }\n",
       "</style>\n",
       "<table border=\"1\" class=\"dataframe\">\n",
       "  <thead>\n",
       "    <tr style=\"text-align: right;\">\n",
       "      <th></th>\n",
       "      <th>PassengerId</th>\n",
       "      <th>Survived</th>\n",
       "      <th>Pclass</th>\n",
       "      <th>Age</th>\n",
       "      <th>SibSp</th>\n",
       "      <th>Parch</th>\n",
       "      <th>Fare</th>\n",
       "    </tr>\n",
       "  </thead>\n",
       "  <tbody>\n",
       "    <tr>\n",
       "      <th>count</th>\n",
       "      <td>891.000000</td>\n",
       "      <td>891.000000</td>\n",
       "      <td>891.000000</td>\n",
       "      <td>714.000000</td>\n",
       "      <td>891.000000</td>\n",
       "      <td>891.000000</td>\n",
       "      <td>891.000000</td>\n",
       "    </tr>\n",
       "    <tr>\n",
       "      <th>mean</th>\n",
       "      <td>446.000000</td>\n",
       "      <td>0.383838</td>\n",
       "      <td>2.308642</td>\n",
       "      <td>29.699118</td>\n",
       "      <td>0.523008</td>\n",
       "      <td>0.381594</td>\n",
       "      <td>32.204208</td>\n",
       "    </tr>\n",
       "    <tr>\n",
       "      <th>std</th>\n",
       "      <td>257.353842</td>\n",
       "      <td>0.486592</td>\n",
       "      <td>0.836071</td>\n",
       "      <td>14.526497</td>\n",
       "      <td>1.102743</td>\n",
       "      <td>0.806057</td>\n",
       "      <td>49.693429</td>\n",
       "    </tr>\n",
       "    <tr>\n",
       "      <th>min</th>\n",
       "      <td>1.000000</td>\n",
       "      <td>0.000000</td>\n",
       "      <td>1.000000</td>\n",
       "      <td>0.420000</td>\n",
       "      <td>0.000000</td>\n",
       "      <td>0.000000</td>\n",
       "      <td>0.000000</td>\n",
       "    </tr>\n",
       "    <tr>\n",
       "      <th>25%</th>\n",
       "      <td>223.500000</td>\n",
       "      <td>0.000000</td>\n",
       "      <td>2.000000</td>\n",
       "      <td>20.125000</td>\n",
       "      <td>0.000000</td>\n",
       "      <td>0.000000</td>\n",
       "      <td>7.910400</td>\n",
       "    </tr>\n",
       "    <tr>\n",
       "      <th>50%</th>\n",
       "      <td>446.000000</td>\n",
       "      <td>0.000000</td>\n",
       "      <td>3.000000</td>\n",
       "      <td>28.000000</td>\n",
       "      <td>0.000000</td>\n",
       "      <td>0.000000</td>\n",
       "      <td>14.454200</td>\n",
       "    </tr>\n",
       "    <tr>\n",
       "      <th>75%</th>\n",
       "      <td>668.500000</td>\n",
       "      <td>1.000000</td>\n",
       "      <td>3.000000</td>\n",
       "      <td>38.000000</td>\n",
       "      <td>1.000000</td>\n",
       "      <td>0.000000</td>\n",
       "      <td>31.000000</td>\n",
       "    </tr>\n",
       "    <tr>\n",
       "      <th>max</th>\n",
       "      <td>891.000000</td>\n",
       "      <td>1.000000</td>\n",
       "      <td>3.000000</td>\n",
       "      <td>80.000000</td>\n",
       "      <td>8.000000</td>\n",
       "      <td>6.000000</td>\n",
       "      <td>512.329200</td>\n",
       "    </tr>\n",
       "  </tbody>\n",
       "</table>\n",
       "</div>"
      ],
      "text/plain": [
       "       PassengerId    Survived      Pclass         Age       SibSp  \\\n",
       "count   891.000000  891.000000  891.000000  714.000000  891.000000   \n",
       "mean    446.000000    0.383838    2.308642   29.699118    0.523008   \n",
       "std     257.353842    0.486592    0.836071   14.526497    1.102743   \n",
       "min       1.000000    0.000000    1.000000    0.420000    0.000000   \n",
       "25%     223.500000    0.000000    2.000000   20.125000    0.000000   \n",
       "50%     446.000000    0.000000    3.000000   28.000000    0.000000   \n",
       "75%     668.500000    1.000000    3.000000   38.000000    1.000000   \n",
       "max     891.000000    1.000000    3.000000   80.000000    8.000000   \n",
       "\n",
       "            Parch        Fare  \n",
       "count  891.000000  891.000000  \n",
       "mean     0.381594   32.204208  \n",
       "std      0.806057   49.693429  \n",
       "min      0.000000    0.000000  \n",
       "25%      0.000000    7.910400  \n",
       "50%      0.000000   14.454200  \n",
       "75%      0.000000   31.000000  \n",
       "max      6.000000  512.329200  "
      ]
     },
     "execution_count": 6,
     "metadata": {},
     "output_type": "execute_result"
    }
   ],
   "source": [
    "train.describe()"
   ]
  },
  {
   "cell_type": "code",
   "execution_count": 7,
   "metadata": {},
   "outputs": [
    {
     "name": "stdout",
     "output_type": "stream",
     "text": [
      "<class 'pandas.core.frame.DataFrame'>\n",
      "RangeIndex: 418 entries, 0 to 417\n",
      "Data columns (total 11 columns):\n",
      " #   Column       Non-Null Count  Dtype  \n",
      "---  ------       --------------  -----  \n",
      " 0   PassengerId  418 non-null    int64  \n",
      " 1   Pclass       418 non-null    int64  \n",
      " 2   Name         418 non-null    object \n",
      " 3   Sex          418 non-null    object \n",
      " 4   Age          332 non-null    float64\n",
      " 5   SibSp        418 non-null    int64  \n",
      " 6   Parch        418 non-null    int64  \n",
      " 7   Ticket       418 non-null    object \n",
      " 8   Fare         417 non-null    float64\n",
      " 9   Cabin        91 non-null     object \n",
      " 10  Embarked     418 non-null    object \n",
      "dtypes: float64(2), int64(4), object(5)\n",
      "memory usage: 36.0+ KB\n"
     ]
    }
   ],
   "source": [
    "test.info()"
   ]
  },
  {
   "cell_type": "code",
   "execution_count": 8,
   "metadata": {},
   "outputs": [
    {
     "data": {
      "text/html": [
       "<div>\n",
       "<style scoped>\n",
       "    .dataframe tbody tr th:only-of-type {\n",
       "        vertical-align: middle;\n",
       "    }\n",
       "\n",
       "    .dataframe tbody tr th {\n",
       "        vertical-align: top;\n",
       "    }\n",
       "\n",
       "    .dataframe thead th {\n",
       "        text-align: right;\n",
       "    }\n",
       "</style>\n",
       "<table border=\"1\" class=\"dataframe\">\n",
       "  <thead>\n",
       "    <tr style=\"text-align: right;\">\n",
       "      <th></th>\n",
       "      <th>PassengerId</th>\n",
       "      <th>Pclass</th>\n",
       "      <th>Age</th>\n",
       "      <th>SibSp</th>\n",
       "      <th>Parch</th>\n",
       "      <th>Fare</th>\n",
       "    </tr>\n",
       "  </thead>\n",
       "  <tbody>\n",
       "    <tr>\n",
       "      <th>count</th>\n",
       "      <td>418.000000</td>\n",
       "      <td>418.000000</td>\n",
       "      <td>332.000000</td>\n",
       "      <td>418.000000</td>\n",
       "      <td>418.000000</td>\n",
       "      <td>417.000000</td>\n",
       "    </tr>\n",
       "    <tr>\n",
       "      <th>mean</th>\n",
       "      <td>1100.500000</td>\n",
       "      <td>2.265550</td>\n",
       "      <td>30.272590</td>\n",
       "      <td>0.447368</td>\n",
       "      <td>0.392344</td>\n",
       "      <td>35.627188</td>\n",
       "    </tr>\n",
       "    <tr>\n",
       "      <th>std</th>\n",
       "      <td>120.810458</td>\n",
       "      <td>0.841838</td>\n",
       "      <td>14.181209</td>\n",
       "      <td>0.896760</td>\n",
       "      <td>0.981429</td>\n",
       "      <td>55.907576</td>\n",
       "    </tr>\n",
       "    <tr>\n",
       "      <th>min</th>\n",
       "      <td>892.000000</td>\n",
       "      <td>1.000000</td>\n",
       "      <td>0.170000</td>\n",
       "      <td>0.000000</td>\n",
       "      <td>0.000000</td>\n",
       "      <td>0.000000</td>\n",
       "    </tr>\n",
       "    <tr>\n",
       "      <th>25%</th>\n",
       "      <td>996.250000</td>\n",
       "      <td>1.000000</td>\n",
       "      <td>21.000000</td>\n",
       "      <td>0.000000</td>\n",
       "      <td>0.000000</td>\n",
       "      <td>7.895800</td>\n",
       "    </tr>\n",
       "    <tr>\n",
       "      <th>50%</th>\n",
       "      <td>1100.500000</td>\n",
       "      <td>3.000000</td>\n",
       "      <td>27.000000</td>\n",
       "      <td>0.000000</td>\n",
       "      <td>0.000000</td>\n",
       "      <td>14.454200</td>\n",
       "    </tr>\n",
       "    <tr>\n",
       "      <th>75%</th>\n",
       "      <td>1204.750000</td>\n",
       "      <td>3.000000</td>\n",
       "      <td>39.000000</td>\n",
       "      <td>1.000000</td>\n",
       "      <td>0.000000</td>\n",
       "      <td>31.500000</td>\n",
       "    </tr>\n",
       "    <tr>\n",
       "      <th>max</th>\n",
       "      <td>1309.000000</td>\n",
       "      <td>3.000000</td>\n",
       "      <td>76.000000</td>\n",
       "      <td>8.000000</td>\n",
       "      <td>9.000000</td>\n",
       "      <td>512.329200</td>\n",
       "    </tr>\n",
       "  </tbody>\n",
       "</table>\n",
       "</div>"
      ],
      "text/plain": [
       "       PassengerId      Pclass         Age       SibSp       Parch        Fare\n",
       "count   418.000000  418.000000  332.000000  418.000000  418.000000  417.000000\n",
       "mean   1100.500000    2.265550   30.272590    0.447368    0.392344   35.627188\n",
       "std     120.810458    0.841838   14.181209    0.896760    0.981429   55.907576\n",
       "min     892.000000    1.000000    0.170000    0.000000    0.000000    0.000000\n",
       "25%     996.250000    1.000000   21.000000    0.000000    0.000000    7.895800\n",
       "50%    1100.500000    3.000000   27.000000    0.000000    0.000000   14.454200\n",
       "75%    1204.750000    3.000000   39.000000    1.000000    0.000000   31.500000\n",
       "max    1309.000000    3.000000   76.000000    8.000000    9.000000  512.329200"
      ]
     },
     "execution_count": 8,
     "metadata": {},
     "output_type": "execute_result"
    }
   ],
   "source": [
    "test.describe()"
   ]
  },
  {
   "cell_type": "code",
   "execution_count": 9,
   "metadata": {},
   "outputs": [
    {
     "data": {
      "text/plain": [
       "891"
      ]
     },
     "execution_count": 9,
     "metadata": {},
     "output_type": "execute_result"
    }
   ],
   "source": [
    "train['PassengerId'].nunique()"
   ]
  },
  {
   "cell_type": "code",
   "execution_count": 10,
   "metadata": {},
   "outputs": [],
   "source": [
    "train['source']='train'\n",
    "test['source']='test'"
   ]
  },
  {
   "cell_type": "code",
   "execution_count": 11,
   "metadata": {},
   "outputs": [],
   "source": [
    "df_all=pd.concat([train,test],axis=0)"
   ]
  },
  {
   "cell_type": "code",
   "execution_count": 12,
   "metadata": {},
   "outputs": [
    {
     "name": "stdout",
     "output_type": "stream",
     "text": [
      "<class 'pandas.core.frame.DataFrame'>\n",
      "Int64Index: 1309 entries, 0 to 417\n",
      "Data columns (total 13 columns):\n",
      " #   Column       Non-Null Count  Dtype  \n",
      "---  ------       --------------  -----  \n",
      " 0   PassengerId  1309 non-null   int64  \n",
      " 1   Survived     891 non-null    float64\n",
      " 2   Pclass       1309 non-null   int64  \n",
      " 3   Name         1309 non-null   object \n",
      " 4   Sex          1309 non-null   object \n",
      " 5   Age          1046 non-null   float64\n",
      " 6   SibSp        1309 non-null   int64  \n",
      " 7   Parch        1309 non-null   int64  \n",
      " 8   Ticket       1309 non-null   object \n",
      " 9   Fare         1308 non-null   float64\n",
      " 10  Cabin        295 non-null    object \n",
      " 11  Embarked     1307 non-null   object \n",
      " 12  source       1309 non-null   object \n",
      "dtypes: float64(3), int64(4), object(6)\n",
      "memory usage: 143.2+ KB\n"
     ]
    }
   ],
   "source": [
    "df_all.info()"
   ]
  },
  {
   "cell_type": "code",
   "execution_count": 13,
   "metadata": {},
   "outputs": [
    {
     "data": {
      "text/html": [
       "<div>\n",
       "<style scoped>\n",
       "    .dataframe tbody tr th:only-of-type {\n",
       "        vertical-align: middle;\n",
       "    }\n",
       "\n",
       "    .dataframe tbody tr th {\n",
       "        vertical-align: top;\n",
       "    }\n",
       "\n",
       "    .dataframe thead th {\n",
       "        text-align: right;\n",
       "    }\n",
       "</style>\n",
       "<table border=\"1\" class=\"dataframe\">\n",
       "  <thead>\n",
       "    <tr style=\"text-align: right;\">\n",
       "      <th></th>\n",
       "      <th>PassengerId</th>\n",
       "      <th>Survived</th>\n",
       "      <th>Pclass</th>\n",
       "      <th>Name</th>\n",
       "      <th>Sex</th>\n",
       "      <th>Age</th>\n",
       "      <th>SibSp</th>\n",
       "      <th>Parch</th>\n",
       "      <th>Ticket</th>\n",
       "      <th>Fare</th>\n",
       "      <th>Cabin</th>\n",
       "      <th>Embarked</th>\n",
       "      <th>source</th>\n",
       "    </tr>\n",
       "  </thead>\n",
       "  <tbody>\n",
       "    <tr>\n",
       "      <th>0</th>\n",
       "      <td>1</td>\n",
       "      <td>0.0</td>\n",
       "      <td>3</td>\n",
       "      <td>Braund, Mr. Owen Harris</td>\n",
       "      <td>male</td>\n",
       "      <td>22.0</td>\n",
       "      <td>1</td>\n",
       "      <td>0</td>\n",
       "      <td>A/5 21171</td>\n",
       "      <td>7.2500</td>\n",
       "      <td>NaN</td>\n",
       "      <td>S</td>\n",
       "      <td>train</td>\n",
       "    </tr>\n",
       "    <tr>\n",
       "      <th>1</th>\n",
       "      <td>2</td>\n",
       "      <td>1.0</td>\n",
       "      <td>1</td>\n",
       "      <td>Cumings, Mrs. John Bradley (Florence Briggs Th...</td>\n",
       "      <td>female</td>\n",
       "      <td>38.0</td>\n",
       "      <td>1</td>\n",
       "      <td>0</td>\n",
       "      <td>PC 17599</td>\n",
       "      <td>71.2833</td>\n",
       "      <td>C85</td>\n",
       "      <td>C</td>\n",
       "      <td>train</td>\n",
       "    </tr>\n",
       "    <tr>\n",
       "      <th>2</th>\n",
       "      <td>3</td>\n",
       "      <td>1.0</td>\n",
       "      <td>3</td>\n",
       "      <td>Heikkinen, Miss. Laina</td>\n",
       "      <td>female</td>\n",
       "      <td>26.0</td>\n",
       "      <td>0</td>\n",
       "      <td>0</td>\n",
       "      <td>STON/O2. 3101282</td>\n",
       "      <td>7.9250</td>\n",
       "      <td>NaN</td>\n",
       "      <td>S</td>\n",
       "      <td>train</td>\n",
       "    </tr>\n",
       "    <tr>\n",
       "      <th>3</th>\n",
       "      <td>4</td>\n",
       "      <td>1.0</td>\n",
       "      <td>1</td>\n",
       "      <td>Futrelle, Mrs. Jacques Heath (Lily May Peel)</td>\n",
       "      <td>female</td>\n",
       "      <td>35.0</td>\n",
       "      <td>1</td>\n",
       "      <td>0</td>\n",
       "      <td>113803</td>\n",
       "      <td>53.1000</td>\n",
       "      <td>C123</td>\n",
       "      <td>S</td>\n",
       "      <td>train</td>\n",
       "    </tr>\n",
       "    <tr>\n",
       "      <th>4</th>\n",
       "      <td>5</td>\n",
       "      <td>0.0</td>\n",
       "      <td>3</td>\n",
       "      <td>Allen, Mr. William Henry</td>\n",
       "      <td>male</td>\n",
       "      <td>35.0</td>\n",
       "      <td>0</td>\n",
       "      <td>0</td>\n",
       "      <td>373450</td>\n",
       "      <td>8.0500</td>\n",
       "      <td>NaN</td>\n",
       "      <td>S</td>\n",
       "      <td>train</td>\n",
       "    </tr>\n",
       "    <tr>\n",
       "      <th>5</th>\n",
       "      <td>6</td>\n",
       "      <td>0.0</td>\n",
       "      <td>3</td>\n",
       "      <td>Moran, Mr. James</td>\n",
       "      <td>male</td>\n",
       "      <td>NaN</td>\n",
       "      <td>0</td>\n",
       "      <td>0</td>\n",
       "      <td>330877</td>\n",
       "      <td>8.4583</td>\n",
       "      <td>NaN</td>\n",
       "      <td>Q</td>\n",
       "      <td>train</td>\n",
       "    </tr>\n",
       "    <tr>\n",
       "      <th>6</th>\n",
       "      <td>7</td>\n",
       "      <td>0.0</td>\n",
       "      <td>1</td>\n",
       "      <td>McCarthy, Mr. Timothy J</td>\n",
       "      <td>male</td>\n",
       "      <td>54.0</td>\n",
       "      <td>0</td>\n",
       "      <td>0</td>\n",
       "      <td>17463</td>\n",
       "      <td>51.8625</td>\n",
       "      <td>E46</td>\n",
       "      <td>S</td>\n",
       "      <td>train</td>\n",
       "    </tr>\n",
       "    <tr>\n",
       "      <th>7</th>\n",
       "      <td>8</td>\n",
       "      <td>0.0</td>\n",
       "      <td>3</td>\n",
       "      <td>Palsson, Master. Gosta Leonard</td>\n",
       "      <td>male</td>\n",
       "      <td>2.0</td>\n",
       "      <td>3</td>\n",
       "      <td>1</td>\n",
       "      <td>349909</td>\n",
       "      <td>21.0750</td>\n",
       "      <td>NaN</td>\n",
       "      <td>S</td>\n",
       "      <td>train</td>\n",
       "    </tr>\n",
       "    <tr>\n",
       "      <th>8</th>\n",
       "      <td>9</td>\n",
       "      <td>1.0</td>\n",
       "      <td>3</td>\n",
       "      <td>Johnson, Mrs. Oscar W (Elisabeth Vilhelmina Berg)</td>\n",
       "      <td>female</td>\n",
       "      <td>27.0</td>\n",
       "      <td>0</td>\n",
       "      <td>2</td>\n",
       "      <td>347742</td>\n",
       "      <td>11.1333</td>\n",
       "      <td>NaN</td>\n",
       "      <td>S</td>\n",
       "      <td>train</td>\n",
       "    </tr>\n",
       "    <tr>\n",
       "      <th>9</th>\n",
       "      <td>10</td>\n",
       "      <td>1.0</td>\n",
       "      <td>2</td>\n",
       "      <td>Nasser, Mrs. Nicholas (Adele Achem)</td>\n",
       "      <td>female</td>\n",
       "      <td>14.0</td>\n",
       "      <td>1</td>\n",
       "      <td>0</td>\n",
       "      <td>237736</td>\n",
       "      <td>30.0708</td>\n",
       "      <td>NaN</td>\n",
       "      <td>C</td>\n",
       "      <td>train</td>\n",
       "    </tr>\n",
       "  </tbody>\n",
       "</table>\n",
       "</div>"
      ],
      "text/plain": [
       "   PassengerId  Survived  Pclass  \\\n",
       "0            1       0.0       3   \n",
       "1            2       1.0       1   \n",
       "2            3       1.0       3   \n",
       "3            4       1.0       1   \n",
       "4            5       0.0       3   \n",
       "5            6       0.0       3   \n",
       "6            7       0.0       1   \n",
       "7            8       0.0       3   \n",
       "8            9       1.0       3   \n",
       "9           10       1.0       2   \n",
       "\n",
       "                                                Name     Sex   Age  SibSp  \\\n",
       "0                            Braund, Mr. Owen Harris    male  22.0      1   \n",
       "1  Cumings, Mrs. John Bradley (Florence Briggs Th...  female  38.0      1   \n",
       "2                             Heikkinen, Miss. Laina  female  26.0      0   \n",
       "3       Futrelle, Mrs. Jacques Heath (Lily May Peel)  female  35.0      1   \n",
       "4                           Allen, Mr. William Henry    male  35.0      0   \n",
       "5                                   Moran, Mr. James    male   NaN      0   \n",
       "6                            McCarthy, Mr. Timothy J    male  54.0      0   \n",
       "7                     Palsson, Master. Gosta Leonard    male   2.0      3   \n",
       "8  Johnson, Mrs. Oscar W (Elisabeth Vilhelmina Berg)  female  27.0      0   \n",
       "9                Nasser, Mrs. Nicholas (Adele Achem)  female  14.0      1   \n",
       "\n",
       "   Parch            Ticket     Fare Cabin Embarked source  \n",
       "0      0         A/5 21171   7.2500   NaN        S  train  \n",
       "1      0          PC 17599  71.2833   C85        C  train  \n",
       "2      0  STON/O2. 3101282   7.9250   NaN        S  train  \n",
       "3      0            113803  53.1000  C123        S  train  \n",
       "4      0            373450   8.0500   NaN        S  train  \n",
       "5      0            330877   8.4583   NaN        Q  train  \n",
       "6      0             17463  51.8625   E46        S  train  \n",
       "7      1            349909  21.0750   NaN        S  train  \n",
       "8      2            347742  11.1333   NaN        S  train  \n",
       "9      0            237736  30.0708   NaN        C  train  "
      ]
     },
     "execution_count": 13,
     "metadata": {},
     "output_type": "execute_result"
    }
   ],
   "source": [
    "df_all.head(10)"
   ]
  },
  {
   "cell_type": "code",
   "execution_count": 14,
   "metadata": {},
   "outputs": [
    {
     "data": {
      "text/plain": [
       "418"
      ]
     },
     "execution_count": 14,
     "metadata": {},
     "output_type": "execute_result"
    }
   ],
   "source": [
    "# only the test rows are with null for Survived column\n",
    "df_all.Survived.isnull().sum()"
   ]
  },
  {
   "cell_type": "code",
   "execution_count": 15,
   "metadata": {},
   "outputs": [
    {
     "data": {
      "text/plain": [
       "0.0    549\n",
       "1.0    342\n",
       "Name: Survived, dtype: int64"
      ]
     },
     "execution_count": 15,
     "metadata": {},
     "output_type": "execute_result"
    }
   ],
   "source": [
    "df_all.Survived.value_counts()"
   ]
  },
  {
   "cell_type": "code",
   "execution_count": 16,
   "metadata": {},
   "outputs": [
    {
     "data": {
      "text/plain": [
       "3    709\n",
       "1    323\n",
       "2    277\n",
       "Name: Pclass, dtype: int64"
      ]
     },
     "execution_count": 16,
     "metadata": {},
     "output_type": "execute_result"
    }
   ],
   "source": [
    "df_all.Pclass.value_counts()"
   ]
  },
  {
   "cell_type": "code",
   "execution_count": 17,
   "metadata": {},
   "outputs": [
    {
     "data": {
      "text/plain": [
       "0"
      ]
     },
     "execution_count": 17,
     "metadata": {},
     "output_type": "execute_result"
    }
   ],
   "source": [
    "df_all.Name.isnull().sum()"
   ]
  },
  {
   "cell_type": "code",
   "execution_count": 18,
   "metadata": {},
   "outputs": [
    {
     "data": {
      "text/plain": [
       "male      843\n",
       "female    466\n",
       "Name: Sex, dtype: int64"
      ]
     },
     "execution_count": 18,
     "metadata": {},
     "output_type": "execute_result"
    }
   ],
   "source": [
    "df_all.Sex.value_counts()"
   ]
  },
  {
   "cell_type": "code",
   "execution_count": 19,
   "metadata": {},
   "outputs": [
    {
     "data": {
      "text/plain": [
       "263"
      ]
     },
     "execution_count": 19,
     "metadata": {},
     "output_type": "execute_result"
    }
   ],
   "source": [
    "df_all.Age.isnull().sum()"
   ]
  },
  {
   "cell_type": "code",
   "execution_count": 20,
   "metadata": {},
   "outputs": [
    {
     "data": {
      "text/html": [
       "<div>\n",
       "<style scoped>\n",
       "    .dataframe tbody tr th:only-of-type {\n",
       "        vertical-align: middle;\n",
       "    }\n",
       "\n",
       "    .dataframe tbody tr th {\n",
       "        vertical-align: top;\n",
       "    }\n",
       "\n",
       "    .dataframe thead th {\n",
       "        text-align: right;\n",
       "    }\n",
       "</style>\n",
       "<table border=\"1\" class=\"dataframe\">\n",
       "  <thead>\n",
       "    <tr style=\"text-align: right;\">\n",
       "      <th></th>\n",
       "      <th>PassengerId</th>\n",
       "      <th>Survived</th>\n",
       "      <th>Pclass</th>\n",
       "      <th>Name</th>\n",
       "      <th>Sex</th>\n",
       "      <th>Age</th>\n",
       "      <th>SibSp</th>\n",
       "      <th>Parch</th>\n",
       "      <th>Ticket</th>\n",
       "      <th>Fare</th>\n",
       "      <th>Cabin</th>\n",
       "      <th>Embarked</th>\n",
       "      <th>source</th>\n",
       "      <th>FamilyName</th>\n",
       "      <th>FirstName</th>\n",
       "    </tr>\n",
       "  </thead>\n",
       "  <tbody>\n",
       "    <tr>\n",
       "      <th>0</th>\n",
       "      <td>1</td>\n",
       "      <td>0.0</td>\n",
       "      <td>3</td>\n",
       "      <td>Braund, Mr. Owen Harris</td>\n",
       "      <td>male</td>\n",
       "      <td>22.0</td>\n",
       "      <td>1</td>\n",
       "      <td>0</td>\n",
       "      <td>A/5 21171</td>\n",
       "      <td>7.2500</td>\n",
       "      <td>NaN</td>\n",
       "      <td>S</td>\n",
       "      <td>train</td>\n",
       "      <td>Braund</td>\n",
       "      <td>Mr. Owen Harris</td>\n",
       "    </tr>\n",
       "    <tr>\n",
       "      <th>1</th>\n",
       "      <td>2</td>\n",
       "      <td>1.0</td>\n",
       "      <td>1</td>\n",
       "      <td>Cumings, Mrs. John Bradley (Florence Briggs Th...</td>\n",
       "      <td>female</td>\n",
       "      <td>38.0</td>\n",
       "      <td>1</td>\n",
       "      <td>0</td>\n",
       "      <td>PC 17599</td>\n",
       "      <td>71.2833</td>\n",
       "      <td>C85</td>\n",
       "      <td>C</td>\n",
       "      <td>train</td>\n",
       "      <td>Cumings</td>\n",
       "      <td>Mrs. John Bradley (Florence Briggs Thayer)</td>\n",
       "    </tr>\n",
       "    <tr>\n",
       "      <th>2</th>\n",
       "      <td>3</td>\n",
       "      <td>1.0</td>\n",
       "      <td>3</td>\n",
       "      <td>Heikkinen, Miss. Laina</td>\n",
       "      <td>female</td>\n",
       "      <td>26.0</td>\n",
       "      <td>0</td>\n",
       "      <td>0</td>\n",
       "      <td>STON/O2. 3101282</td>\n",
       "      <td>7.9250</td>\n",
       "      <td>NaN</td>\n",
       "      <td>S</td>\n",
       "      <td>train</td>\n",
       "      <td>Heikkinen</td>\n",
       "      <td>Miss. Laina</td>\n",
       "    </tr>\n",
       "    <tr>\n",
       "      <th>3</th>\n",
       "      <td>4</td>\n",
       "      <td>1.0</td>\n",
       "      <td>1</td>\n",
       "      <td>Futrelle, Mrs. Jacques Heath (Lily May Peel)</td>\n",
       "      <td>female</td>\n",
       "      <td>35.0</td>\n",
       "      <td>1</td>\n",
       "      <td>0</td>\n",
       "      <td>113803</td>\n",
       "      <td>53.1000</td>\n",
       "      <td>C123</td>\n",
       "      <td>S</td>\n",
       "      <td>train</td>\n",
       "      <td>Futrelle</td>\n",
       "      <td>Mrs. Jacques Heath (Lily May Peel)</td>\n",
       "    </tr>\n",
       "    <tr>\n",
       "      <th>4</th>\n",
       "      <td>5</td>\n",
       "      <td>0.0</td>\n",
       "      <td>3</td>\n",
       "      <td>Allen, Mr. William Henry</td>\n",
       "      <td>male</td>\n",
       "      <td>35.0</td>\n",
       "      <td>0</td>\n",
       "      <td>0</td>\n",
       "      <td>373450</td>\n",
       "      <td>8.0500</td>\n",
       "      <td>NaN</td>\n",
       "      <td>S</td>\n",
       "      <td>train</td>\n",
       "      <td>Allen</td>\n",
       "      <td>Mr. William Henry</td>\n",
       "    </tr>\n",
       "  </tbody>\n",
       "</table>\n",
       "</div>"
      ],
      "text/plain": [
       "   PassengerId  Survived  Pclass  \\\n",
       "0            1       0.0       3   \n",
       "1            2       1.0       1   \n",
       "2            3       1.0       3   \n",
       "3            4       1.0       1   \n",
       "4            5       0.0       3   \n",
       "\n",
       "                                                Name     Sex   Age  SibSp  \\\n",
       "0                            Braund, Mr. Owen Harris    male  22.0      1   \n",
       "1  Cumings, Mrs. John Bradley (Florence Briggs Th...  female  38.0      1   \n",
       "2                             Heikkinen, Miss. Laina  female  26.0      0   \n",
       "3       Futrelle, Mrs. Jacques Heath (Lily May Peel)  female  35.0      1   \n",
       "4                           Allen, Mr. William Henry    male  35.0      0   \n",
       "\n",
       "   Parch            Ticket     Fare Cabin Embarked source FamilyName  \\\n",
       "0      0         A/5 21171   7.2500   NaN        S  train     Braund   \n",
       "1      0          PC 17599  71.2833   C85        C  train    Cumings   \n",
       "2      0  STON/O2. 3101282   7.9250   NaN        S  train  Heikkinen   \n",
       "3      0            113803  53.1000  C123        S  train   Futrelle   \n",
       "4      0            373450   8.0500   NaN        S  train      Allen   \n",
       "\n",
       "                                     FirstName  \n",
       "0                              Mr. Owen Harris  \n",
       "1   Mrs. John Bradley (Florence Briggs Thayer)  \n",
       "2                                  Miss. Laina  \n",
       "3           Mrs. Jacques Heath (Lily May Peel)  \n",
       "4                            Mr. William Henry  "
      ]
     },
     "execution_count": 20,
     "metadata": {},
     "output_type": "execute_result"
    }
   ],
   "source": [
    "df_all['FamilyName'],df_all['FirstName']=df_all['Name'].str.split(',',1).str\n",
    "df_all.head()\n"
   ]
  },
  {
   "cell_type": "code",
   "execution_count": 21,
   "metadata": {},
   "outputs": [
    {
     "data": {
      "text/plain": [
       "<AxesSubplot:>"
      ]
     },
     "execution_count": 21,
     "metadata": {},
     "output_type": "execute_result"
    },
    {
     "data": {
      "image/png": "[encoded data removed]",
      "text/plain": [
       "<Figure size 432x288 with 1 Axes>"
      ]
     },
     "metadata": {
      "needs_background": "light"
     },
     "output_type": "display_data"
    }
   ],
   "source": [
    "df_all.Age.hist()"
   ]
  },
  {
   "cell_type": "code",
   "execution_count": 22,
   "metadata": {},
   "outputs": [],
   "source": [
    "df_all['Title'],df_all['FirstName']=df_all['FirstName'].str.split('.',1).str"
   ]
  },
  {
   "cell_type": "code",
   "execution_count": 23,
   "metadata": {},
   "outputs": [
    {
     "data": {
      "text/plain": [
       "array([' Mr', ' Mrs', ' Miss', ' Master', ' Don', ' Rev', ' Dr', ' Mme',\n",
       "       ' Ms', ' Major', ' Lady', ' Sir', ' Mlle', ' Col', ' Capt',\n",
       "       ' the Countess', ' Jonkheer', ' Dona'], dtype=object)"
      ]
     },
     "execution_count": 23,
     "metadata": {},
     "output_type": "execute_result"
    }
   ],
   "source": [
    "df_all.Title.unique()"
   ]
  },
  {
   "cell_type": "code",
   "execution_count": 24,
   "metadata": {},
   "outputs": [],
   "source": [
    "# Age is null for 263 rows and we can replace the null with the mean for that Title, Sex, Pclass and Embarked\n",
    "# First we will groupby the columns and find the mean\n",
    "# After that we will update the null values of the Age with respective mean"
   ]
  },
  {
   "cell_type": "code",
   "execution_count": 25,
   "metadata": {},
   "outputs": [
    {
     "data": {
      "text/plain": [
       "263"
      ]
     },
     "execution_count": 25,
     "metadata": {},
     "output_type": "execute_result"
    }
   ],
   "source": [
    "df_all['Age'].isnull().sum()"
   ]
  },
  {
   "cell_type": "code",
   "execution_count": 26,
   "metadata": {},
   "outputs": [
    {
     "data": {
      "text/html": [
       "<div>\n",
       "<style scoped>\n",
       "    .dataframe tbody tr th:only-of-type {\n",
       "        vertical-align: middle;\n",
       "    }\n",
       "\n",
       "    .dataframe tbody tr th {\n",
       "        vertical-align: top;\n",
       "    }\n",
       "\n",
       "    .dataframe thead th {\n",
       "        text-align: right;\n",
       "    }\n",
       "</style>\n",
       "<table border=\"1\" class=\"dataframe\">\n",
       "  <thead>\n",
       "    <tr style=\"text-align: right;\">\n",
       "      <th></th>\n",
       "      <th>Title</th>\n",
       "      <th>Sex</th>\n",
       "      <th>Pclass</th>\n",
       "      <th>Embarked</th>\n",
       "      <th>Age</th>\n",
       "    </tr>\n",
       "  </thead>\n",
       "  <tbody>\n",
       "    <tr>\n",
       "      <th>0</th>\n",
       "      <td>Capt</td>\n",
       "      <td>male</td>\n",
       "      <td>1</td>\n",
       "      <td>S</td>\n",
       "      <td>70.000000</td>\n",
       "    </tr>\n",
       "    <tr>\n",
       "      <th>1</th>\n",
       "      <td>Col</td>\n",
       "      <td>male</td>\n",
       "      <td>1</td>\n",
       "      <td>C</td>\n",
       "      <td>52.000000</td>\n",
       "    </tr>\n",
       "    <tr>\n",
       "      <th>2</th>\n",
       "      <td>Col</td>\n",
       "      <td>male</td>\n",
       "      <td>1</td>\n",
       "      <td>S</td>\n",
       "      <td>60.000000</td>\n",
       "    </tr>\n",
       "    <tr>\n",
       "      <th>3</th>\n",
       "      <td>Don</td>\n",
       "      <td>male</td>\n",
       "      <td>1</td>\n",
       "      <td>C</td>\n",
       "      <td>40.000000</td>\n",
       "    </tr>\n",
       "    <tr>\n",
       "      <th>4</th>\n",
       "      <td>Dona</td>\n",
       "      <td>female</td>\n",
       "      <td>1</td>\n",
       "      <td>C</td>\n",
       "      <td>39.000000</td>\n",
       "    </tr>\n",
       "    <tr>\n",
       "      <th>5</th>\n",
       "      <td>Dr</td>\n",
       "      <td>female</td>\n",
       "      <td>1</td>\n",
       "      <td>S</td>\n",
       "      <td>49.000000</td>\n",
       "    </tr>\n",
       "    <tr>\n",
       "      <th>6</th>\n",
       "      <td>Dr</td>\n",
       "      <td>male</td>\n",
       "      <td>1</td>\n",
       "      <td>C</td>\n",
       "      <td>32.000000</td>\n",
       "    </tr>\n",
       "    <tr>\n",
       "      <th>7</th>\n",
       "      <td>Dr</td>\n",
       "      <td>male</td>\n",
       "      <td>1</td>\n",
       "      <td>Q</td>\n",
       "      <td>44.000000</td>\n",
       "    </tr>\n",
       "    <tr>\n",
       "      <th>8</th>\n",
       "      <td>Dr</td>\n",
       "      <td>male</td>\n",
       "      <td>1</td>\n",
       "      <td>S</td>\n",
       "      <td>51.500000</td>\n",
       "    </tr>\n",
       "    <tr>\n",
       "      <th>9</th>\n",
       "      <td>Dr</td>\n",
       "      <td>male</td>\n",
       "      <td>2</td>\n",
       "      <td>S</td>\n",
       "      <td>38.500000</td>\n",
       "    </tr>\n",
       "    <tr>\n",
       "      <th>10</th>\n",
       "      <td>Jonkheer</td>\n",
       "      <td>male</td>\n",
       "      <td>1</td>\n",
       "      <td>S</td>\n",
       "      <td>38.000000</td>\n",
       "    </tr>\n",
       "    <tr>\n",
       "      <th>11</th>\n",
       "      <td>Lady</td>\n",
       "      <td>female</td>\n",
       "      <td>1</td>\n",
       "      <td>C</td>\n",
       "      <td>48.000000</td>\n",
       "    </tr>\n",
       "    <tr>\n",
       "      <th>12</th>\n",
       "      <td>Major</td>\n",
       "      <td>male</td>\n",
       "      <td>1</td>\n",
       "      <td>S</td>\n",
       "      <td>48.500000</td>\n",
       "    </tr>\n",
       "    <tr>\n",
       "      <th>13</th>\n",
       "      <td>Master</td>\n",
       "      <td>male</td>\n",
       "      <td>1</td>\n",
       "      <td>C</td>\n",
       "      <td>9.500000</td>\n",
       "    </tr>\n",
       "    <tr>\n",
       "      <th>14</th>\n",
       "      <td>Master</td>\n",
       "      <td>male</td>\n",
       "      <td>1</td>\n",
       "      <td>S</td>\n",
       "      <td>5.306667</td>\n",
       "    </tr>\n",
       "    <tr>\n",
       "      <th>15</th>\n",
       "      <td>Master</td>\n",
       "      <td>male</td>\n",
       "      <td>2</td>\n",
       "      <td>C</td>\n",
       "      <td>1.000000</td>\n",
       "    </tr>\n",
       "    <tr>\n",
       "      <th>16</th>\n",
       "      <td>Master</td>\n",
       "      <td>male</td>\n",
       "      <td>2</td>\n",
       "      <td>S</td>\n",
       "      <td>2.933000</td>\n",
       "    </tr>\n",
       "    <tr>\n",
       "      <th>17</th>\n",
       "      <td>Master</td>\n",
       "      <td>male</td>\n",
       "      <td>3</td>\n",
       "      <td>C</td>\n",
       "      <td>6.355000</td>\n",
       "    </tr>\n",
       "    <tr>\n",
       "      <th>18</th>\n",
       "      <td>Master</td>\n",
       "      <td>male</td>\n",
       "      <td>3</td>\n",
       "      <td>Q</td>\n",
       "      <td>6.200000</td>\n",
       "    </tr>\n",
       "    <tr>\n",
       "      <th>19</th>\n",
       "      <td>Master</td>\n",
       "      <td>male</td>\n",
       "      <td>3</td>\n",
       "      <td>S</td>\n",
       "      <td>6.032500</td>\n",
       "    </tr>\n",
       "    <tr>\n",
       "      <th>20</th>\n",
       "      <td>Miss</td>\n",
       "      <td>female</td>\n",
       "      <td>1</td>\n",
       "      <td>C</td>\n",
       "      <td>33.214286</td>\n",
       "    </tr>\n",
       "    <tr>\n",
       "      <th>21</th>\n",
       "      <td>Miss</td>\n",
       "      <td>female</td>\n",
       "      <td>1</td>\n",
       "      <td>Q</td>\n",
       "      <td>33.000000</td>\n",
       "    </tr>\n",
       "    <tr>\n",
       "      <th>22</th>\n",
       "      <td>Miss</td>\n",
       "      <td>female</td>\n",
       "      <td>1</td>\n",
       "      <td>S</td>\n",
       "      <td>27.206897</td>\n",
       "    </tr>\n",
       "    <tr>\n",
       "      <th>23</th>\n",
       "      <td>Miss</td>\n",
       "      <td>female</td>\n",
       "      <td>2</td>\n",
       "      <td>C</td>\n",
       "      <td>15.600000</td>\n",
       "    </tr>\n",
       "    <tr>\n",
       "      <th>24</th>\n",
       "      <td>Miss</td>\n",
       "      <td>female</td>\n",
       "      <td>2</td>\n",
       "      <td>Q</td>\n",
       "      <td>30.000000</td>\n",
       "    </tr>\n",
       "    <tr>\n",
       "      <th>25</th>\n",
       "      <td>Miss</td>\n",
       "      <td>female</td>\n",
       "      <td>2</td>\n",
       "      <td>S</td>\n",
       "      <td>21.105238</td>\n",
       "    </tr>\n",
       "    <tr>\n",
       "      <th>26</th>\n",
       "      <td>Miss</td>\n",
       "      <td>female</td>\n",
       "      <td>3</td>\n",
       "      <td>C</td>\n",
       "      <td>9.307692</td>\n",
       "    </tr>\n",
       "    <tr>\n",
       "      <th>27</th>\n",
       "      <td>Miss</td>\n",
       "      <td>female</td>\n",
       "      <td>3</td>\n",
       "      <td>Q</td>\n",
       "      <td>23.157895</td>\n",
       "    </tr>\n",
       "    <tr>\n",
       "      <th>28</th>\n",
       "      <td>Miss</td>\n",
       "      <td>female</td>\n",
       "      <td>3</td>\n",
       "      <td>S</td>\n",
       "      <td>17.284085</td>\n",
       "    </tr>\n",
       "    <tr>\n",
       "      <th>29</th>\n",
       "      <td>Mlle</td>\n",
       "      <td>female</td>\n",
       "      <td>1</td>\n",
       "      <td>C</td>\n",
       "      <td>24.000000</td>\n",
       "    </tr>\n",
       "    <tr>\n",
       "      <th>30</th>\n",
       "      <td>Mme</td>\n",
       "      <td>female</td>\n",
       "      <td>1</td>\n",
       "      <td>C</td>\n",
       "      <td>24.000000</td>\n",
       "    </tr>\n",
       "    <tr>\n",
       "      <th>31</th>\n",
       "      <td>Mr</td>\n",
       "      <td>male</td>\n",
       "      <td>1</td>\n",
       "      <td>C</td>\n",
       "      <td>40.490909</td>\n",
       "    </tr>\n",
       "    <tr>\n",
       "      <th>32</th>\n",
       "      <td>Mr</td>\n",
       "      <td>male</td>\n",
       "      <td>1</td>\n",
       "      <td>S</td>\n",
       "      <td>42.136364</td>\n",
       "    </tr>\n",
       "    <tr>\n",
       "      <th>33</th>\n",
       "      <td>Mr</td>\n",
       "      <td>male</td>\n",
       "      <td>2</td>\n",
       "      <td>C</td>\n",
       "      <td>29.458333</td>\n",
       "    </tr>\n",
       "    <tr>\n",
       "      <th>34</th>\n",
       "      <td>Mr</td>\n",
       "      <td>male</td>\n",
       "      <td>2</td>\n",
       "      <td>Q</td>\n",
       "      <td>52.666667</td>\n",
       "    </tr>\n",
       "    <tr>\n",
       "      <th>35</th>\n",
       "      <td>Mr</td>\n",
       "      <td>male</td>\n",
       "      <td>2</td>\n",
       "      <td>S</td>\n",
       "      <td>32.131148</td>\n",
       "    </tr>\n",
       "    <tr>\n",
       "      <th>36</th>\n",
       "      <td>Mr</td>\n",
       "      <td>male</td>\n",
       "      <td>3</td>\n",
       "      <td>C</td>\n",
       "      <td>26.220588</td>\n",
       "    </tr>\n",
       "    <tr>\n",
       "      <th>37</th>\n",
       "      <td>Mr</td>\n",
       "      <td>male</td>\n",
       "      <td>3</td>\n",
       "      <td>Q</td>\n",
       "      <td>33.156250</td>\n",
       "    </tr>\n",
       "    <tr>\n",
       "      <th>38</th>\n",
       "      <td>Mr</td>\n",
       "      <td>male</td>\n",
       "      <td>3</td>\n",
       "      <td>S</td>\n",
       "      <td>28.295802</td>\n",
       "    </tr>\n",
       "    <tr>\n",
       "      <th>39</th>\n",
       "      <td>Mrs</td>\n",
       "      <td>female</td>\n",
       "      <td>1</td>\n",
       "      <td>C</td>\n",
       "      <td>43.375000</td>\n",
       "    </tr>\n",
       "    <tr>\n",
       "      <th>40</th>\n",
       "      <td>Mrs</td>\n",
       "      <td>female</td>\n",
       "      <td>1</td>\n",
       "      <td>Q</td>\n",
       "      <td>37.000000</td>\n",
       "    </tr>\n",
       "    <tr>\n",
       "      <th>41</th>\n",
       "      <td>Mrs</td>\n",
       "      <td>female</td>\n",
       "      <td>1</td>\n",
       "      <td>S</td>\n",
       "      <td>42.666667</td>\n",
       "    </tr>\n",
       "    <tr>\n",
       "      <th>42</th>\n",
       "      <td>Mrs</td>\n",
       "      <td>female</td>\n",
       "      <td>2</td>\n",
       "      <td>C</td>\n",
       "      <td>22.500000</td>\n",
       "    </tr>\n",
       "    <tr>\n",
       "      <th>43</th>\n",
       "      <td>Mrs</td>\n",
       "      <td>female</td>\n",
       "      <td>2</td>\n",
       "      <td>S</td>\n",
       "      <td>34.895833</td>\n",
       "    </tr>\n",
       "    <tr>\n",
       "      <th>44</th>\n",
       "      <td>Mrs</td>\n",
       "      <td>female</td>\n",
       "      <td>3</td>\n",
       "      <td>C</td>\n",
       "      <td>27.666667</td>\n",
       "    </tr>\n",
       "    <tr>\n",
       "      <th>45</th>\n",
       "      <td>Mrs</td>\n",
       "      <td>female</td>\n",
       "      <td>3</td>\n",
       "      <td>Q</td>\n",
       "      <td>35.500000</td>\n",
       "    </tr>\n",
       "    <tr>\n",
       "      <th>46</th>\n",
       "      <td>Mrs</td>\n",
       "      <td>female</td>\n",
       "      <td>3</td>\n",
       "      <td>S</td>\n",
       "      <td>33.263158</td>\n",
       "    </tr>\n",
       "    <tr>\n",
       "      <th>47</th>\n",
       "      <td>Ms</td>\n",
       "      <td>female</td>\n",
       "      <td>2</td>\n",
       "      <td>S</td>\n",
       "      <td>28.000000</td>\n",
       "    </tr>\n",
       "    <tr>\n",
       "      <th>48</th>\n",
       "      <td>Ms</td>\n",
       "      <td>female</td>\n",
       "      <td>3</td>\n",
       "      <td>Q</td>\n",
       "      <td>NaN</td>\n",
       "    </tr>\n",
       "    <tr>\n",
       "      <th>49</th>\n",
       "      <td>Rev</td>\n",
       "      <td>male</td>\n",
       "      <td>2</td>\n",
       "      <td>Q</td>\n",
       "      <td>57.000000</td>\n",
       "    </tr>\n",
       "    <tr>\n",
       "      <th>50</th>\n",
       "      <td>Rev</td>\n",
       "      <td>male</td>\n",
       "      <td>2</td>\n",
       "      <td>S</td>\n",
       "      <td>39.000000</td>\n",
       "    </tr>\n",
       "    <tr>\n",
       "      <th>51</th>\n",
       "      <td>Sir</td>\n",
       "      <td>male</td>\n",
       "      <td>1</td>\n",
       "      <td>C</td>\n",
       "      <td>49.000000</td>\n",
       "    </tr>\n",
       "    <tr>\n",
       "      <th>52</th>\n",
       "      <td>the Countess</td>\n",
       "      <td>female</td>\n",
       "      <td>1</td>\n",
       "      <td>S</td>\n",
       "      <td>33.000000</td>\n",
       "    </tr>\n",
       "  </tbody>\n",
       "</table>\n",
       "</div>"
      ],
      "text/plain": [
       "            Title     Sex  Pclass Embarked        Age\n",
       "0            Capt    male       1        S  70.000000\n",
       "1             Col    male       1        C  52.000000\n",
       "2             Col    male       1        S  60.000000\n",
       "3             Don    male       1        C  40.000000\n",
       "4            Dona  female       1        C  39.000000\n",
       "5              Dr  female       1        S  49.000000\n",
       "6              Dr    male       1        C  32.000000\n",
       "7              Dr    male       1        Q  44.000000\n",
       "8              Dr    male       1        S  51.500000\n",
       "9              Dr    male       2        S  38.500000\n",
       "10       Jonkheer    male       1        S  38.000000\n",
       "11           Lady  female       1        C  48.000000\n",
       "12          Major    male       1        S  48.500000\n",
       "13         Master    male       1        C   9.500000\n",
       "14         Master    male       1        S   5.306667\n",
       "15         Master    male       2        C   1.000000\n",
       "16         Master    male       2        S   2.933000\n",
       "17         Master    male       3        C   6.355000\n",
       "18         Master    male       3        Q   6.200000\n",
       "19         Master    male       3        S   6.032500\n",
       "20           Miss  female       1        C  33.214286\n",
       "21           Miss  female       1        Q  33.000000\n",
       "22           Miss  female       1        S  27.206897\n",
       "23           Miss  female       2        C  15.600000\n",
       "24           Miss  female       2        Q  30.000000\n",
       "25           Miss  female       2        S  21.105238\n",
       "26           Miss  female       3        C   9.307692\n",
       "27           Miss  female       3        Q  23.157895\n",
       "28           Miss  female       3        S  17.284085\n",
       "29           Mlle  female       1        C  24.000000\n",
       "30            Mme  female       1        C  24.000000\n",
       "31             Mr    male       1        C  40.490909\n",
       "32             Mr    male       1        S  42.136364\n",
       "33             Mr    male       2        C  29.458333\n",
       "34             Mr    male       2        Q  52.666667\n",
       "35             Mr    male       2        S  32.131148\n",
       "36             Mr    male       3        C  26.220588\n",
       "37             Mr    male       3        Q  33.156250\n",
       "38             Mr    male       3        S  28.295802\n",
       "39            Mrs  female       1        C  43.375000\n",
       "40            Mrs  female       1        Q  37.000000\n",
       "41            Mrs  female       1        S  42.666667\n",
       "42            Mrs  female       2        C  22.500000\n",
       "43            Mrs  female       2        S  34.895833\n",
       "44            Mrs  female       3        C  27.666667\n",
       "45            Mrs  female       3        Q  35.500000\n",
       "46            Mrs  female       3        S  33.263158\n",
       "47             Ms  female       2        S  28.000000\n",
       "48             Ms  female       3        Q        NaN\n",
       "49            Rev    male       2        Q  57.000000\n",
       "50            Rev    male       2        S  39.000000\n",
       "51            Sir    male       1        C  49.000000\n",
       "52   the Countess  female       1        S  33.000000"
      ]
     },
     "execution_count": 26,
     "metadata": {},
     "output_type": "execute_result"
    }
   ],
   "source": [
    "df_groupby_age_mean=df_all.groupby(['Title','Sex','Pclass','Embarked'])['Age'].mean()\n",
    "df_groupby_age_mean=pd.DataFrame(df_groupby_age_mean)\n",
    "df_groupby_age_mean=df_groupby_age_mean.reset_index()\n",
    "df_groupby_age_mean\n"
   ]
  },
  {
   "cell_type": "code",
   "execution_count": 27,
   "metadata": {},
   "outputs": [],
   "source": [
    "def find_age(row):\n",
    "    Age_to_replace = df_groupby_age_mean[(df_groupby_age_mean['Title']== row['Title']) & (df_groupby_age_mean['Sex'] == row['Sex']) & (df_groupby_age_mean['Pclass'] == row['Pclass']) & (df_groupby_age_mean['Embarked'] == row['Embarked'])]['Age'].values[0]\n",
    "    if np.isnan(Age_to_replace):\n",
    "        Age_to_replace = df_groupby_age_mean[(df_groupby_age_mean['Title']== row['Title']) & (df_groupby_age_mean['Sex'] == row['Sex']) & (df_groupby_age_mean['Pclass'] == row['Pclass'])]['Age'].values[0]\n",
    "    if np.isnan(Age_to_replace):\n",
    "        Age_to_replace = df_groupby_age_mean[(df_groupby_age_mean['Title']== row['Title']) & (df_groupby_age_mean['Sex'] == row['Sex'])]['Age'].values[0]\n",
    "    if np.isnan(Age_to_replace):\n",
    "        Age_to_replace = df_groupby_age_mean[(df_groupby_age_mean['Title']== row['Title'])]['Age'].values[0]\n",
    "    if np.isnan(Age_to_replace):\n",
    "        Age_to_replace = df_groupby_age_mean[(df_groupby_age_mean['Sex']== row['Sex'])]['Age'].values[0]\n",
    "    return Age_to_replace"
   ]
  },
  {
   "cell_type": "code",
   "execution_count": 28,
   "metadata": {},
   "outputs": [],
   "source": [
    "df_all['Age']=df_all.apply(lambda row:find_age(row) if (np.isnan(row['Age'])) else row['Age'], axis=1)"
   ]
  },
  {
   "cell_type": "code",
   "execution_count": 29,
   "metadata": {},
   "outputs": [
    {
     "data": {
      "text/plain": [
       "Series([], Name: Title, dtype: int64)"
      ]
     },
     "execution_count": 29,
     "metadata": {},
     "output_type": "execute_result"
    }
   ],
   "source": [
    "df_all[df_all['Age'].isnull()]['Title'].value_counts()"
   ]
  },
  {
   "cell_type": "code",
   "execution_count": 30,
   "metadata": {},
   "outputs": [
    {
     "data": {
      "text/plain": [
       "Title          Sex     Pclass  Embarked\n",
       " Capt          male    1       S           70.000000\n",
       " Col           male    1       C           52.000000\n",
       "                               S           60.000000\n",
       " Don           male    1       C           40.000000\n",
       " Dona          female  1       C           39.000000\n",
       " Dr            female  1       S           49.000000\n",
       "               male    1       C           32.000000\n",
       "                               Q           44.000000\n",
       "                               S           51.500000\n",
       "                       2       S           38.500000\n",
       " Jonkheer      male    1       S           38.000000\n",
       " Lady          female  1       C           48.000000\n",
       " Major         male    1       S           48.500000\n",
       " Master        male    1       C            9.500000\n",
       "                               S            5.306667\n",
       "                       2       C            1.000000\n",
       "                               S            2.933000\n",
       "                       3       C            6.355000\n",
       "                               Q            6.200000\n",
       "                               S            6.032500\n",
       " Miss          female  1       C           33.214286\n",
       "                               Q           33.000000\n",
       "                               S           27.206897\n",
       "                       2       C           15.600000\n",
       "                               Q           30.000000\n",
       "                               S           21.105238\n",
       "                       3       C            9.307692\n",
       "                               Q           23.157895\n",
       "                               S           17.284085\n",
       " Mlle          female  1       C           24.000000\n",
       " Mme           female  1       C           24.000000\n",
       " Mr            male    1       C           40.490909\n",
       "                               S           42.136364\n",
       "                       2       C           29.458333\n",
       "                               Q           52.666667\n",
       "                               S           32.131148\n",
       "                       3       C           26.220588\n",
       "                               Q           33.156250\n",
       "                               S           28.295802\n",
       " Mrs           female  1       C           43.375000\n",
       "                               Q           37.000000\n",
       "                               S           42.666667\n",
       "                       2       C           22.500000\n",
       "                               S           34.895833\n",
       "                       3       C           27.666667\n",
       "                               Q           35.500000\n",
       "                               S           33.263158\n",
       " Ms            female  2       S           28.000000\n",
       "                       3       Q           28.000000\n",
       " Rev           male    2       Q           57.000000\n",
       "                               S           39.000000\n",
       " Sir           male    1       C           49.000000\n",
       " the Countess  female  1       S           33.000000\n",
       "Name: Age, dtype: float64"
      ]
     },
     "execution_count": 30,
     "metadata": {},
     "output_type": "execute_result"
    }
   ],
   "source": [
    "df_all.groupby(['Title','Sex','Pclass','Embarked'])['Age'].mean()"
   ]
  },
  {
   "cell_type": "code",
   "execution_count": 31,
   "metadata": {},
   "outputs": [
    {
     "data": {
      "text/html": [
       "<div>\n",
       "<style scoped>\n",
       "    .dataframe tbody tr th:only-of-type {\n",
       "        vertical-align: middle;\n",
       "    }\n",
       "\n",
       "    .dataframe tbody tr th {\n",
       "        vertical-align: top;\n",
       "    }\n",
       "\n",
       "    .dataframe thead th {\n",
       "        text-align: right;\n",
       "    }\n",
       "</style>\n",
       "<table border=\"1\" class=\"dataframe\">\n",
       "  <thead>\n",
       "    <tr style=\"text-align: right;\">\n",
       "      <th></th>\n",
       "      <th>PassengerId</th>\n",
       "      <th>Survived</th>\n",
       "      <th>Pclass</th>\n",
       "      <th>Name</th>\n",
       "      <th>Sex</th>\n",
       "      <th>Age</th>\n",
       "      <th>SibSp</th>\n",
       "      <th>Parch</th>\n",
       "      <th>Ticket</th>\n",
       "      <th>Fare</th>\n",
       "      <th>Cabin</th>\n",
       "      <th>Embarked</th>\n",
       "      <th>source</th>\n",
       "      <th>FamilyName</th>\n",
       "      <th>FirstName</th>\n",
       "      <th>Title</th>\n",
       "    </tr>\n",
       "  </thead>\n",
       "  <tbody>\n",
       "    <tr>\n",
       "      <th>443</th>\n",
       "      <td>444</td>\n",
       "      <td>1.0</td>\n",
       "      <td>2</td>\n",
       "      <td>Reynaldo, Ms. Encarnacion</td>\n",
       "      <td>female</td>\n",
       "      <td>28.0</td>\n",
       "      <td>0</td>\n",
       "      <td>0</td>\n",
       "      <td>230434</td>\n",
       "      <td>13.00</td>\n",
       "      <td>NaN</td>\n",
       "      <td>S</td>\n",
       "      <td>train</td>\n",
       "      <td>Reynaldo</td>\n",
       "      <td>Encarnacion</td>\n",
       "      <td>Ms</td>\n",
       "    </tr>\n",
       "    <tr>\n",
       "      <th>88</th>\n",
       "      <td>980</td>\n",
       "      <td>NaN</td>\n",
       "      <td>3</td>\n",
       "      <td>O'Donoghue, Ms. Bridget</td>\n",
       "      <td>female</td>\n",
       "      <td>28.0</td>\n",
       "      <td>0</td>\n",
       "      <td>0</td>\n",
       "      <td>364856</td>\n",
       "      <td>7.75</td>\n",
       "      <td>NaN</td>\n",
       "      <td>Q</td>\n",
       "      <td>test</td>\n",
       "      <td>O'Donoghue</td>\n",
       "      <td>Bridget</td>\n",
       "      <td>Ms</td>\n",
       "    </tr>\n",
       "  </tbody>\n",
       "</table>\n",
       "</div>"
      ],
      "text/plain": [
       "     PassengerId  Survived  Pclass                       Name     Sex   Age  \\\n",
       "443          444       1.0       2  Reynaldo, Ms. Encarnacion  female  28.0   \n",
       "88           980       NaN       3    O'Donoghue, Ms. Bridget  female  28.0   \n",
       "\n",
       "     SibSp  Parch  Ticket   Fare Cabin Embarked source  FamilyName  \\\n",
       "443      0      0  230434  13.00   NaN        S  train    Reynaldo   \n",
       "88       0      0  364856   7.75   NaN        Q   test  O'Donoghue   \n",
       "\n",
       "        FirstName Title  \n",
       "443   Encarnacion    Ms  \n",
       "88        Bridget    Ms  "
      ]
     },
     "execution_count": 31,
     "metadata": {},
     "output_type": "execute_result"
    }
   ],
   "source": [
    "df_all[(df_all['Title'].str.contains('Ms')) | (df_all['Ticket']=='364856') ]"
   ]
  },
  {
   "cell_type": "code",
   "execution_count": 32,
   "metadata": {},
   "outputs": [
    {
     "data": {
      "text/plain": [
       "<AxesSubplot:>"
      ]
     },
     "execution_count": 32,
     "metadata": {},
     "output_type": "execute_result"
    },
    {
     "data": {
      "image/png": "[encoded data removed]",
      "text/plain": [
       "<Figure size 432x288 with 1 Axes>"
      ]
     },
     "metadata": {
      "needs_background": "light"
     },
     "output_type": "display_data"
    }
   ],
   "source": [
    "df_all.Age.hist()"
   ]
  },
  {
   "cell_type": "code",
   "execution_count": 33,
   "metadata": {},
   "outputs": [],
   "source": [
    "# since SibSp of all rows are not null and there is a correlation with Survived status, we will \n",
    "# keep the column "
   ]
  },
  {
   "cell_type": "code",
   "execution_count": 34,
   "metadata": {},
   "outputs": [
    {
     "data": {
      "text/plain": [
       "0    891\n",
       "1    319\n",
       "2     42\n",
       "4     22\n",
       "3     20\n",
       "8      9\n",
       "5      6\n",
       "Name: SibSp, dtype: int64"
      ]
     },
     "execution_count": 34,
     "metadata": {},
     "output_type": "execute_result"
    }
   ],
   "source": [
    "df_all.SibSp.value_counts()"
   ]
  },
  {
   "cell_type": "code",
   "execution_count": 35,
   "metadata": {},
   "outputs": [
    {
     "data": {
      "text/plain": [
       "0"
      ]
     },
     "execution_count": 35,
     "metadata": {},
     "output_type": "execute_result"
    }
   ],
   "source": [
    "df_all.SibSp.isnull().sum()"
   ]
  },
  {
   "cell_type": "code",
   "execution_count": 36,
   "metadata": {},
   "outputs": [],
   "source": [
    "# since most of the columns values are null for cabin, we can drop the cabin column"
   ]
  },
  {
   "cell_type": "code",
   "execution_count": 37,
   "metadata": {},
   "outputs": [
    {
     "data": {
      "text/plain": [
       "1014"
      ]
     },
     "execution_count": 37,
     "metadata": {},
     "output_type": "execute_result"
    }
   ],
   "source": [
    "df_all.Cabin.isnull().sum()"
   ]
  },
  {
   "cell_type": "code",
   "execution_count": 38,
   "metadata": {},
   "outputs": [],
   "source": [
    "# since most of the columns values are null for cabin, we can drop the cabin column\n",
    "df_all=df_all.drop([\"Cabin\"],axis=1)"
   ]
  },
  {
   "cell_type": "code",
   "execution_count": 39,
   "metadata": {},
   "outputs": [],
   "source": [
    "# The people who are travelling in groups like familes,friends etc are having the \n",
    "#same ticket number for all members of the group; And the passengers in group \n",
    "#survived better than passengers travelled alone"
   ]
  },
  {
   "cell_type": "code",
   "execution_count": 40,
   "metadata": {},
   "outputs": [
    {
     "data": {
      "text/html": [
       "<div>\n",
       "<style scoped>\n",
       "    .dataframe tbody tr th:only-of-type {\n",
       "        vertical-align: middle;\n",
       "    }\n",
       "\n",
       "    .dataframe tbody tr th {\n",
       "        vertical-align: top;\n",
       "    }\n",
       "\n",
       "    .dataframe thead th {\n",
       "        text-align: right;\n",
       "    }\n",
       "</style>\n",
       "<table border=\"1\" class=\"dataframe\">\n",
       "  <thead>\n",
       "    <tr style=\"text-align: right;\">\n",
       "      <th></th>\n",
       "      <th>Ticket</th>\n",
       "    </tr>\n",
       "  </thead>\n",
       "  <tbody>\n",
       "    <tr>\n",
       "      <th>0</th>\n",
       "      <td>110152</td>\n",
       "    </tr>\n",
       "    <tr>\n",
       "      <th>1</th>\n",
       "      <td>110413</td>\n",
       "    </tr>\n",
       "    <tr>\n",
       "      <th>2</th>\n",
       "      <td>110465</td>\n",
       "    </tr>\n",
       "    <tr>\n",
       "      <th>6</th>\n",
       "      <td>110813</td>\n",
       "    </tr>\n",
       "    <tr>\n",
       "      <th>10</th>\n",
       "      <td>111361</td>\n",
       "    </tr>\n",
       "    <tr>\n",
       "      <th>...</th>\n",
       "      <td>...</td>\n",
       "    </tr>\n",
       "    <tr>\n",
       "      <th>913</th>\n",
       "      <td>STON/O2. 3101279</td>\n",
       "    </tr>\n",
       "    <tr>\n",
       "      <th>923</th>\n",
       "      <td>W./C. 6607</td>\n",
       "    </tr>\n",
       "    <tr>\n",
       "      <th>924</th>\n",
       "      <td>W./C. 6608</td>\n",
       "    </tr>\n",
       "    <tr>\n",
       "      <th>926</th>\n",
       "      <td>W.E.P. 5734</td>\n",
       "    </tr>\n",
       "    <tr>\n",
       "      <th>928</th>\n",
       "      <td>WE/P 5735</td>\n",
       "    </tr>\n",
       "  </tbody>\n",
       "</table>\n",
       "<p>216 rows × 1 columns</p>\n",
       "</div>"
      ],
      "text/plain": [
       "               Ticket\n",
       "0              110152\n",
       "1              110413\n",
       "2              110465\n",
       "6              110813\n",
       "10             111361\n",
       "..                ...\n",
       "913  STON/O2. 3101279\n",
       "923        W./C. 6607\n",
       "924        W./C. 6608\n",
       "926       W.E.P. 5734\n",
       "928         WE/P 5735\n",
       "\n",
       "[216 rows x 1 columns]"
      ]
     },
     "execution_count": 40,
     "metadata": {},
     "output_type": "execute_result"
    }
   ],
   "source": [
    "# to assign the family ticket\n",
    "ticket=pd.DataFrame(df_all.groupby(by=['Ticket']).PassengerId.count())\n",
    "ticket=ticket.reset_index()\n",
    "group_ticket=pd.DataFrame(ticket[ticket['PassengerId'] > 1].Ticket)\n",
    "group_ticket"
   ]
  },
  {
   "cell_type": "code",
   "execution_count": 41,
   "metadata": {},
   "outputs": [],
   "source": [
    "df_all['GroupTkt']=df_all['Ticket'].isin(group_ticket.Ticket).astype(int)"
   ]
  },
  {
   "cell_type": "code",
   "execution_count": 42,
   "metadata": {},
   "outputs": [],
   "source": [
    "\n",
    "df_all['Family_Size'] = df_all['Parch'] + df_all['SibSp']"
   ]
  },
  {
   "cell_type": "code",
   "execution_count": 43,
   "metadata": {},
   "outputs": [],
   "source": [
    "# there was one record which did not have the value for the Fare. We are replacing it with the mean of Fair for the Class-3 and Embarked at S"
   ]
  },
  {
   "cell_type": "code",
   "execution_count": 44,
   "metadata": {},
   "outputs": [
    {
     "data": {
      "text/html": [
       "<div>\n",
       "<style scoped>\n",
       "    .dataframe tbody tr th:only-of-type {\n",
       "        vertical-align: middle;\n",
       "    }\n",
       "\n",
       "    .dataframe tbody tr th {\n",
       "        vertical-align: top;\n",
       "    }\n",
       "\n",
       "    .dataframe thead th {\n",
       "        text-align: right;\n",
       "    }\n",
       "</style>\n",
       "<table border=\"1\" class=\"dataframe\">\n",
       "  <thead>\n",
       "    <tr style=\"text-align: right;\">\n",
       "      <th></th>\n",
       "      <th>PassengerId</th>\n",
       "      <th>Survived</th>\n",
       "      <th>Pclass</th>\n",
       "      <th>Name</th>\n",
       "      <th>Sex</th>\n",
       "      <th>Age</th>\n",
       "      <th>SibSp</th>\n",
       "      <th>Parch</th>\n",
       "      <th>Ticket</th>\n",
       "      <th>Fare</th>\n",
       "      <th>Embarked</th>\n",
       "      <th>source</th>\n",
       "      <th>FamilyName</th>\n",
       "      <th>FirstName</th>\n",
       "      <th>Title</th>\n",
       "      <th>GroupTkt</th>\n",
       "      <th>Family_Size</th>\n",
       "    </tr>\n",
       "  </thead>\n",
       "  <tbody>\n",
       "    <tr>\n",
       "      <th>152</th>\n",
       "      <td>1044</td>\n",
       "      <td>NaN</td>\n",
       "      <td>3</td>\n",
       "      <td>Storey, Mr. Thomas</td>\n",
       "      <td>male</td>\n",
       "      <td>60.5</td>\n",
       "      <td>0</td>\n",
       "      <td>0</td>\n",
       "      <td>3701</td>\n",
       "      <td>NaN</td>\n",
       "      <td>S</td>\n",
       "      <td>test</td>\n",
       "      <td>Storey</td>\n",
       "      <td>Thomas</td>\n",
       "      <td>Mr</td>\n",
       "      <td>0</td>\n",
       "      <td>0</td>\n",
       "    </tr>\n",
       "  </tbody>\n",
       "</table>\n",
       "</div>"
      ],
      "text/plain": [
       "     PassengerId  Survived  Pclass                Name   Sex   Age  SibSp  \\\n",
       "152         1044       NaN       3  Storey, Mr. Thomas  male  60.5      0   \n",
       "\n",
       "     Parch Ticket  Fare Embarked source FamilyName FirstName Title  GroupTkt  \\\n",
       "152      0   3701   NaN        S   test     Storey    Thomas    Mr         0   \n",
       "\n",
       "     Family_Size  \n",
       "152            0  "
      ]
     },
     "execution_count": 44,
     "metadata": {},
     "output_type": "execute_result"
    }
   ],
   "source": [
    "df_all[df_all.Fare.isnull()]"
   ]
  },
  {
   "cell_type": "code",
   "execution_count": 45,
   "metadata": {},
   "outputs": [],
   "source": [
    "df_all['Fare']=df_all['Fare'].fillna(df_all[(df_all['Embarked']=='S') & (df_all['Pclass'] == 3) & (df_all['GroupTkt']==0)]['Fare'].mean())"
   ]
  },
  {
   "cell_type": "code",
   "execution_count": 46,
   "metadata": {},
   "outputs": [
    {
     "data": {
      "text/html": [
       "<div>\n",
       "<style scoped>\n",
       "    .dataframe tbody tr th:only-of-type {\n",
       "        vertical-align: middle;\n",
       "    }\n",
       "\n",
       "    .dataframe tbody tr th {\n",
       "        vertical-align: top;\n",
       "    }\n",
       "\n",
       "    .dataframe thead th {\n",
       "        text-align: right;\n",
       "    }\n",
       "</style>\n",
       "<table border=\"1\" class=\"dataframe\">\n",
       "  <thead>\n",
       "    <tr style=\"text-align: right;\">\n",
       "      <th></th>\n",
       "      <th>PassengerId</th>\n",
       "      <th>Survived</th>\n",
       "      <th>Pclass</th>\n",
       "      <th>Name</th>\n",
       "      <th>Sex</th>\n",
       "      <th>Age</th>\n",
       "      <th>SibSp</th>\n",
       "      <th>Parch</th>\n",
       "      <th>Ticket</th>\n",
       "      <th>Fare</th>\n",
       "      <th>Embarked</th>\n",
       "      <th>source</th>\n",
       "      <th>FamilyName</th>\n",
       "      <th>FirstName</th>\n",
       "      <th>Title</th>\n",
       "      <th>GroupTkt</th>\n",
       "      <th>Family_Size</th>\n",
       "    </tr>\n",
       "  </thead>\n",
       "  <tbody>\n",
       "  </tbody>\n",
       "</table>\n",
       "</div>"
      ],
      "text/plain": [
       "Empty DataFrame\n",
       "Columns: [PassengerId, Survived, Pclass, Name, Sex, Age, SibSp, Parch, Ticket, Fare, Embarked, source, FamilyName, FirstName, Title, GroupTkt, Family_Size]\n",
       "Index: []"
      ]
     },
     "execution_count": 46,
     "metadata": {},
     "output_type": "execute_result"
    }
   ],
   "source": [
    "df_all[df_all.Fare.isnull()]"
   ]
  },
  {
   "cell_type": "code",
   "execution_count": 47,
   "metadata": {},
   "outputs": [],
   "source": [
    "# The gender we will make it as 1 for male and 0 for female\n",
    "# Female had survived more than male"
   ]
  },
  {
   "cell_type": "code",
   "execution_count": 48,
   "metadata": {},
   "outputs": [],
   "source": [
    "df_all['Sex']=np.where(df_all['Sex']=='male',1,0)"
   ]
  },
  {
   "cell_type": "code",
   "execution_count": 49,
   "metadata": {},
   "outputs": [],
   "source": [
    "# Need to do get_dummies for Embarked column and re-check the corr\n",
    "# as of now, Survived, Pclass, Sex (after converting as 1(male),0(female), Fare are having correlation\n",
    "#- Parch also has some correlation\n",
    "# drop columns cabin"
   ]
  },
  {
   "cell_type": "code",
   "execution_count": 50,
   "metadata": {},
   "outputs": [
    {
     "data": {
      "text/html": [
       "<div>\n",
       "<style scoped>\n",
       "    .dataframe tbody tr th:only-of-type {\n",
       "        vertical-align: middle;\n",
       "    }\n",
       "\n",
       "    .dataframe tbody tr th {\n",
       "        vertical-align: top;\n",
       "    }\n",
       "\n",
       "    .dataframe thead th {\n",
       "        text-align: right;\n",
       "    }\n",
       "</style>\n",
       "<table border=\"1\" class=\"dataframe\">\n",
       "  <thead>\n",
       "    <tr style=\"text-align: right;\">\n",
       "      <th></th>\n",
       "      <th>PassengerId</th>\n",
       "      <th>Survived</th>\n",
       "      <th>Pclass</th>\n",
       "      <th>Sex</th>\n",
       "      <th>Age</th>\n",
       "      <th>SibSp</th>\n",
       "      <th>Parch</th>\n",
       "      <th>Fare</th>\n",
       "      <th>GroupTkt</th>\n",
       "      <th>Family_Size</th>\n",
       "    </tr>\n",
       "  </thead>\n",
       "  <tbody>\n",
       "    <tr>\n",
       "      <th>PassengerId</th>\n",
       "      <td>1.000000</td>\n",
       "      <td>-0.005007</td>\n",
       "      <td>-0.038354</td>\n",
       "      <td>0.013406</td>\n",
       "      <td>0.021881</td>\n",
       "      <td>-0.055224</td>\n",
       "      <td>0.008942</td>\n",
       "      <td>0.031029</td>\n",
       "      <td>-0.015731</td>\n",
       "      <td>-0.031437</td>\n",
       "    </tr>\n",
       "    <tr>\n",
       "      <th>Survived</th>\n",
       "      <td>-0.005007</td>\n",
       "      <td>1.000000</td>\n",
       "      <td>-0.338481</td>\n",
       "      <td>-0.543351</td>\n",
       "      <td>-0.066161</td>\n",
       "      <td>-0.035322</td>\n",
       "      <td>0.081629</td>\n",
       "      <td>0.257307</td>\n",
       "      <td>0.252939</td>\n",
       "      <td>0.016639</td>\n",
       "    </tr>\n",
       "    <tr>\n",
       "      <th>Pclass</th>\n",
       "      <td>-0.038354</td>\n",
       "      <td>-0.338481</td>\n",
       "      <td>1.000000</td>\n",
       "      <td>0.124617</td>\n",
       "      <td>-0.427894</td>\n",
       "      <td>0.060832</td>\n",
       "      <td>0.018322</td>\n",
       "      <td>-0.558740</td>\n",
       "      <td>-0.283445</td>\n",
       "      <td>0.050027</td>\n",
       "    </tr>\n",
       "    <tr>\n",
       "      <th>Sex</th>\n",
       "      <td>0.013406</td>\n",
       "      <td>-0.543351</td>\n",
       "      <td>0.124617</td>\n",
       "      <td>1.000000</td>\n",
       "      <td>0.079155</td>\n",
       "      <td>-0.109609</td>\n",
       "      <td>-0.213125</td>\n",
       "      <td>-0.185744</td>\n",
       "      <td>-0.303803</td>\n",
       "      <td>-0.188583</td>\n",
       "    </tr>\n",
       "    <tr>\n",
       "      <th>Age</th>\n",
       "      <td>0.021881</td>\n",
       "      <td>-0.066161</td>\n",
       "      <td>-0.427894</td>\n",
       "      <td>0.079155</td>\n",
       "      <td>1.000000</td>\n",
       "      <td>-0.232004</td>\n",
       "      <td>-0.147034</td>\n",
       "      <td>0.183233</td>\n",
       "      <td>-0.085941</td>\n",
       "      <td>-0.232967</td>\n",
       "    </tr>\n",
       "    <tr>\n",
       "      <th>SibSp</th>\n",
       "      <td>-0.055224</td>\n",
       "      <td>-0.035322</td>\n",
       "      <td>0.060832</td>\n",
       "      <td>-0.109609</td>\n",
       "      <td>-0.232004</td>\n",
       "      <td>1.000000</td>\n",
       "      <td>0.373587</td>\n",
       "      <td>0.160388</td>\n",
       "      <td>0.442977</td>\n",
       "      <td>0.861952</td>\n",
       "    </tr>\n",
       "    <tr>\n",
       "      <th>Parch</th>\n",
       "      <td>0.008942</td>\n",
       "      <td>0.081629</td>\n",
       "      <td>0.018322</td>\n",
       "      <td>-0.213125</td>\n",
       "      <td>-0.147034</td>\n",
       "      <td>0.373587</td>\n",
       "      <td>1.000000</td>\n",
       "      <td>0.221668</td>\n",
       "      <td>0.445944</td>\n",
       "      <td>0.792296</td>\n",
       "    </tr>\n",
       "    <tr>\n",
       "      <th>Fare</th>\n",
       "      <td>0.031029</td>\n",
       "      <td>0.257307</td>\n",
       "      <td>-0.558740</td>\n",
       "      <td>-0.185744</td>\n",
       "      <td>0.183233</td>\n",
       "      <td>0.160388</td>\n",
       "      <td>0.221668</td>\n",
       "      <td>1.000000</td>\n",
       "      <td>0.452805</td>\n",
       "      <td>0.226653</td>\n",
       "    </tr>\n",
       "    <tr>\n",
       "      <th>GroupTkt</th>\n",
       "      <td>-0.015731</td>\n",
       "      <td>0.252939</td>\n",
       "      <td>-0.283445</td>\n",
       "      <td>-0.303803</td>\n",
       "      <td>-0.085941</td>\n",
       "      <td>0.442977</td>\n",
       "      <td>0.445944</td>\n",
       "      <td>0.452805</td>\n",
       "      <td>1.000000</td>\n",
       "      <td>0.535111</td>\n",
       "    </tr>\n",
       "    <tr>\n",
       "      <th>Family_Size</th>\n",
       "      <td>-0.031437</td>\n",
       "      <td>0.016639</td>\n",
       "      <td>0.050027</td>\n",
       "      <td>-0.188583</td>\n",
       "      <td>-0.232967</td>\n",
       "      <td>0.861952</td>\n",
       "      <td>0.792296</td>\n",
       "      <td>0.226653</td>\n",
       "      <td>0.535111</td>\n",
       "      <td>1.000000</td>\n",
       "    </tr>\n",
       "  </tbody>\n",
       "</table>\n",
       "</div>"
      ],
      "text/plain": [
       "             PassengerId  Survived    Pclass       Sex       Age     SibSp  \\\n",
       "PassengerId     1.000000 -0.005007 -0.038354  0.013406  0.021881 -0.055224   \n",
       "Survived       -0.005007  1.000000 -0.338481 -0.543351 -0.066161 -0.035322   \n",
       "Pclass         -0.038354 -0.338481  1.000000  0.124617 -0.427894  0.060832   \n",
       "Sex             0.013406 -0.543351  0.124617  1.000000  0.079155 -0.109609   \n",
       "Age             0.021881 -0.066161 -0.427894  0.079155  1.000000 -0.232004   \n",
       "SibSp          -0.055224 -0.035322  0.060832 -0.109609 -0.232004  1.000000   \n",
       "Parch           0.008942  0.081629  0.018322 -0.213125 -0.147034  0.373587   \n",
       "Fare            0.031029  0.257307 -0.558740 -0.185744  0.183233  0.160388   \n",
       "GroupTkt       -0.015731  0.252939 -0.283445 -0.303803 -0.085941  0.442977   \n",
       "Family_Size    -0.031437  0.016639  0.050027 -0.188583 -0.232967  0.861952   \n",
       "\n",
       "                Parch      Fare  GroupTkt  Family_Size  \n",
       "PassengerId  0.008942  0.031029 -0.015731    -0.031437  \n",
       "Survived     0.081629  0.257307  0.252939     0.016639  \n",
       "Pclass       0.018322 -0.558740 -0.283445     0.050027  \n",
       "Sex         -0.213125 -0.185744 -0.303803    -0.188583  \n",
       "Age         -0.147034  0.183233 -0.085941    -0.232967  \n",
       "SibSp        0.373587  0.160388  0.442977     0.861952  \n",
       "Parch        1.000000  0.221668  0.445944     0.792296  \n",
       "Fare         0.221668  1.000000  0.452805     0.226653  \n",
       "GroupTkt     0.445944  0.452805  1.000000     0.535111  \n",
       "Family_Size  0.792296  0.226653  0.535111     1.000000  "
      ]
     },
     "execution_count": 50,
     "metadata": {},
     "output_type": "execute_result"
    }
   ],
   "source": [
    "df_all.corr()"
   ]
  },
  {
   "cell_type": "code",
   "execution_count": 51,
   "metadata": {},
   "outputs": [],
   "source": [
    "# Two records, don't have any value for the Embarked column. \n",
    "# the two records which are null for 'Embarked' column are from the same family and survived. \n",
    "# So for imputation, taking the most frequent Embarked value of Survived and both needs to be \n",
    "# same value as they are from the same family"
   ]
  },
  {
   "cell_type": "code",
   "execution_count": 52,
   "metadata": {},
   "outputs": [
    {
     "data": {
      "text/html": [
       "<div>\n",
       "<style scoped>\n",
       "    .dataframe tbody tr th:only-of-type {\n",
       "        vertical-align: middle;\n",
       "    }\n",
       "\n",
       "    .dataframe tbody tr th {\n",
       "        vertical-align: top;\n",
       "    }\n",
       "\n",
       "    .dataframe thead th {\n",
       "        text-align: right;\n",
       "    }\n",
       "</style>\n",
       "<table border=\"1\" class=\"dataframe\">\n",
       "  <thead>\n",
       "    <tr style=\"text-align: right;\">\n",
       "      <th></th>\n",
       "      <th>PassengerId</th>\n",
       "      <th>Survived</th>\n",
       "      <th>Pclass</th>\n",
       "      <th>Name</th>\n",
       "      <th>Sex</th>\n",
       "      <th>Age</th>\n",
       "      <th>SibSp</th>\n",
       "      <th>Parch</th>\n",
       "      <th>Ticket</th>\n",
       "      <th>Fare</th>\n",
       "      <th>Embarked</th>\n",
       "      <th>source</th>\n",
       "      <th>FamilyName</th>\n",
       "      <th>FirstName</th>\n",
       "      <th>Title</th>\n",
       "      <th>GroupTkt</th>\n",
       "      <th>Family_Size</th>\n",
       "    </tr>\n",
       "  </thead>\n",
       "  <tbody>\n",
       "    <tr>\n",
       "      <th>61</th>\n",
       "      <td>62</td>\n",
       "      <td>1.0</td>\n",
       "      <td>1</td>\n",
       "      <td>Icard, Miss. Amelie</td>\n",
       "      <td>0</td>\n",
       "      <td>38.0</td>\n",
       "      <td>0</td>\n",
       "      <td>0</td>\n",
       "      <td>113572</td>\n",
       "      <td>80.0</td>\n",
       "      <td>NaN</td>\n",
       "      <td>train</td>\n",
       "      <td>Icard</td>\n",
       "      <td>Amelie</td>\n",
       "      <td>Miss</td>\n",
       "      <td>1</td>\n",
       "      <td>0</td>\n",
       "    </tr>\n",
       "    <tr>\n",
       "      <th>829</th>\n",
       "      <td>830</td>\n",
       "      <td>1.0</td>\n",
       "      <td>1</td>\n",
       "      <td>Stone, Mrs. George Nelson (Martha Evelyn)</td>\n",
       "      <td>0</td>\n",
       "      <td>62.0</td>\n",
       "      <td>0</td>\n",
       "      <td>0</td>\n",
       "      <td>113572</td>\n",
       "      <td>80.0</td>\n",
       "      <td>NaN</td>\n",
       "      <td>train</td>\n",
       "      <td>Stone</td>\n",
       "      <td>George Nelson (Martha Evelyn)</td>\n",
       "      <td>Mrs</td>\n",
       "      <td>1</td>\n",
       "      <td>0</td>\n",
       "    </tr>\n",
       "  </tbody>\n",
       "</table>\n",
       "</div>"
      ],
      "text/plain": [
       "     PassengerId  Survived  Pclass                                       Name  \\\n",
       "61            62       1.0       1                        Icard, Miss. Amelie   \n",
       "829          830       1.0       1  Stone, Mrs. George Nelson (Martha Evelyn)   \n",
       "\n",
       "     Sex   Age  SibSp  Parch  Ticket  Fare Embarked source FamilyName  \\\n",
       "61     0  38.0      0      0  113572  80.0      NaN  train      Icard   \n",
       "829    0  62.0      0      0  113572  80.0      NaN  train      Stone   \n",
       "\n",
       "                          FirstName  Title  GroupTkt  Family_Size  \n",
       "61                           Amelie   Miss         1            0  \n",
       "829   George Nelson (Martha Evelyn)    Mrs         1            0  "
      ]
     },
     "execution_count": 52,
     "metadata": {},
     "output_type": "execute_result"
    }
   ],
   "source": [
    "df_all[df_all.Embarked.isnull()]"
   ]
  },
  {
   "cell_type": "code",
   "execution_count": 53,
   "metadata": {},
   "outputs": [],
   "source": [
    "\n",
    "df_all['Embarked']=df_all['Embarked'].fillna('S')"
   ]
  },
  {
   "cell_type": "code",
   "execution_count": 54,
   "metadata": {},
   "outputs": [
    {
     "data": {
      "text/html": [
       "<div>\n",
       "<style scoped>\n",
       "    .dataframe tbody tr th:only-of-type {\n",
       "        vertical-align: middle;\n",
       "    }\n",
       "\n",
       "    .dataframe tbody tr th {\n",
       "        vertical-align: top;\n",
       "    }\n",
       "\n",
       "    .dataframe thead th {\n",
       "        text-align: right;\n",
       "    }\n",
       "</style>\n",
       "<table border=\"1\" class=\"dataframe\">\n",
       "  <thead>\n",
       "    <tr style=\"text-align: right;\">\n",
       "      <th></th>\n",
       "      <th>PassengerId</th>\n",
       "      <th>Survived</th>\n",
       "      <th>Pclass</th>\n",
       "      <th>Name</th>\n",
       "      <th>Sex</th>\n",
       "      <th>Age</th>\n",
       "      <th>SibSp</th>\n",
       "      <th>Parch</th>\n",
       "      <th>Ticket</th>\n",
       "      <th>Fare</th>\n",
       "      <th>Embarked</th>\n",
       "      <th>source</th>\n",
       "      <th>FamilyName</th>\n",
       "      <th>FirstName</th>\n",
       "      <th>Title</th>\n",
       "      <th>GroupTkt</th>\n",
       "      <th>Family_Size</th>\n",
       "    </tr>\n",
       "  </thead>\n",
       "  <tbody>\n",
       "  </tbody>\n",
       "</table>\n",
       "</div>"
      ],
      "text/plain": [
       "Empty DataFrame\n",
       "Columns: [PassengerId, Survived, Pclass, Name, Sex, Age, SibSp, Parch, Ticket, Fare, Embarked, source, FamilyName, FirstName, Title, GroupTkt, Family_Size]\n",
       "Index: []"
      ]
     },
     "execution_count": 54,
     "metadata": {},
     "output_type": "execute_result"
    }
   ],
   "source": [
    "df_all[df_all.Embarked.isnull()]"
   ]
  },
  {
   "cell_type": "code",
   "execution_count": 55,
   "metadata": {},
   "outputs": [],
   "source": [
    "# As mentioned earlier the more number of people boarded at S and 219 of them survived"
   ]
  },
  {
   "cell_type": "code",
   "execution_count": 56,
   "metadata": {},
   "outputs": [
    {
     "data": {
      "text/html": [
       "<div>\n",
       "<style scoped>\n",
       "    .dataframe tbody tr th:only-of-type {\n",
       "        vertical-align: middle;\n",
       "    }\n",
       "\n",
       "    .dataframe tbody tr th {\n",
       "        vertical-align: top;\n",
       "    }\n",
       "\n",
       "    .dataframe thead th {\n",
       "        text-align: right;\n",
       "    }\n",
       "</style>\n",
       "<table border=\"1\" class=\"dataframe\">\n",
       "  <thead>\n",
       "    <tr style=\"text-align: right;\">\n",
       "      <th></th>\n",
       "      <th></th>\n",
       "      <th>PassengerId</th>\n",
       "      <th>Pclass</th>\n",
       "      <th>Name</th>\n",
       "      <th>Sex</th>\n",
       "      <th>Age</th>\n",
       "      <th>SibSp</th>\n",
       "      <th>Parch</th>\n",
       "      <th>Ticket</th>\n",
       "      <th>Fare</th>\n",
       "      <th>source</th>\n",
       "      <th>FamilyName</th>\n",
       "      <th>FirstName</th>\n",
       "      <th>Title</th>\n",
       "      <th>GroupTkt</th>\n",
       "      <th>Family_Size</th>\n",
       "    </tr>\n",
       "    <tr>\n",
       "      <th>Survived</th>\n",
       "      <th>Embarked</th>\n",
       "      <th></th>\n",
       "      <th></th>\n",
       "      <th></th>\n",
       "      <th></th>\n",
       "      <th></th>\n",
       "      <th></th>\n",
       "      <th></th>\n",
       "      <th></th>\n",
       "      <th></th>\n",
       "      <th></th>\n",
       "      <th></th>\n",
       "      <th></th>\n",
       "      <th></th>\n",
       "      <th></th>\n",
       "      <th></th>\n",
       "    </tr>\n",
       "  </thead>\n",
       "  <tbody>\n",
       "    <tr>\n",
       "      <th rowspan=\"3\" valign=\"top\">0.0</th>\n",
       "      <th>C</th>\n",
       "      <td>75</td>\n",
       "      <td>75</td>\n",
       "      <td>75</td>\n",
       "      <td>75</td>\n",
       "      <td>75</td>\n",
       "      <td>75</td>\n",
       "      <td>75</td>\n",
       "      <td>75</td>\n",
       "      <td>75</td>\n",
       "      <td>75</td>\n",
       "      <td>75</td>\n",
       "      <td>75</td>\n",
       "      <td>75</td>\n",
       "      <td>75</td>\n",
       "      <td>75</td>\n",
       "    </tr>\n",
       "    <tr>\n",
       "      <th>Q</th>\n",
       "      <td>47</td>\n",
       "      <td>47</td>\n",
       "      <td>47</td>\n",
       "      <td>47</td>\n",
       "      <td>47</td>\n",
       "      <td>47</td>\n",
       "      <td>47</td>\n",
       "      <td>47</td>\n",
       "      <td>47</td>\n",
       "      <td>47</td>\n",
       "      <td>47</td>\n",
       "      <td>47</td>\n",
       "      <td>47</td>\n",
       "      <td>47</td>\n",
       "      <td>47</td>\n",
       "    </tr>\n",
       "    <tr>\n",
       "      <th>S</th>\n",
       "      <td>427</td>\n",
       "      <td>427</td>\n",
       "      <td>427</td>\n",
       "      <td>427</td>\n",
       "      <td>427</td>\n",
       "      <td>427</td>\n",
       "      <td>427</td>\n",
       "      <td>427</td>\n",
       "      <td>427</td>\n",
       "      <td>427</td>\n",
       "      <td>427</td>\n",
       "      <td>427</td>\n",
       "      <td>427</td>\n",
       "      <td>427</td>\n",
       "      <td>427</td>\n",
       "    </tr>\n",
       "    <tr>\n",
       "      <th rowspan=\"3\" valign=\"top\">1.0</th>\n",
       "      <th>C</th>\n",
       "      <td>93</td>\n",
       "      <td>93</td>\n",
       "      <td>93</td>\n",
       "      <td>93</td>\n",
       "      <td>93</td>\n",
       "      <td>93</td>\n",
       "      <td>93</td>\n",
       "      <td>93</td>\n",
       "      <td>93</td>\n",
       "      <td>93</td>\n",
       "      <td>93</td>\n",
       "      <td>93</td>\n",
       "      <td>93</td>\n",
       "      <td>93</td>\n",
       "      <td>93</td>\n",
       "    </tr>\n",
       "    <tr>\n",
       "      <th>Q</th>\n",
       "      <td>30</td>\n",
       "      <td>30</td>\n",
       "      <td>30</td>\n",
       "      <td>30</td>\n",
       "      <td>30</td>\n",
       "      <td>30</td>\n",
       "      <td>30</td>\n",
       "      <td>30</td>\n",
       "      <td>30</td>\n",
       "      <td>30</td>\n",
       "      <td>30</td>\n",
       "      <td>30</td>\n",
       "      <td>30</td>\n",
       "      <td>30</td>\n",
       "      <td>30</td>\n",
       "    </tr>\n",
       "    <tr>\n",
       "      <th>S</th>\n",
       "      <td>219</td>\n",
       "      <td>219</td>\n",
       "      <td>219</td>\n",
       "      <td>219</td>\n",
       "      <td>219</td>\n",
       "      <td>219</td>\n",
       "      <td>219</td>\n",
       "      <td>219</td>\n",
       "      <td>219</td>\n",
       "      <td>219</td>\n",
       "      <td>219</td>\n",
       "      <td>219</td>\n",
       "      <td>219</td>\n",
       "      <td>219</td>\n",
       "      <td>219</td>\n",
       "    </tr>\n",
       "  </tbody>\n",
       "</table>\n",
       "</div>"
      ],
      "text/plain": [
       "                   PassengerId  Pclass  Name  Sex  Age  SibSp  Parch  Ticket  \\\n",
       "Survived Embarked                                                              \n",
       "0.0      C                  75      75    75   75   75     75     75      75   \n",
       "         Q                  47      47    47   47   47     47     47      47   \n",
       "         S                 427     427   427  427  427    427    427     427   \n",
       "1.0      C                  93      93    93   93   93     93     93      93   \n",
       "         Q                  30      30    30   30   30     30     30      30   \n",
       "         S                 219     219   219  219  219    219    219     219   \n",
       "\n",
       "                   Fare  source  FamilyName  FirstName  Title  GroupTkt  \\\n",
       "Survived Embarked                                                         \n",
       "0.0      C           75      75          75         75     75        75   \n",
       "         Q           47      47          47         47     47        47   \n",
       "         S          427     427         427        427    427       427   \n",
       "1.0      C           93      93          93         93     93        93   \n",
       "         Q           30      30          30         30     30        30   \n",
       "         S          219     219         219        219    219       219   \n",
       "\n",
       "                   Family_Size  \n",
       "Survived Embarked               \n",
       "0.0      C                  75  \n",
       "         Q                  47  \n",
       "         S                 427  \n",
       "1.0      C                  93  \n",
       "         Q                  30  \n",
       "         S                 219  "
      ]
     },
     "execution_count": 56,
     "metadata": {},
     "output_type": "execute_result"
    }
   ],
   "source": [
    "df_all.groupby(by=['Survived','Embarked']).count()"
   ]
  },
  {
   "cell_type": "code",
   "execution_count": 57,
   "metadata": {},
   "outputs": [],
   "source": [
    "# create dummies column for Embarked "
   ]
  },
  {
   "cell_type": "code",
   "execution_count": 58,
   "metadata": {},
   "outputs": [],
   "source": [
    "## changed from one-hot encoding to label encoding (ordinal) on saturday morning to see the impact\n",
    "#df_to_encode=df_all['Embarked']\n",
    "#encoded=pd.get_dummies(df_to_encode,prefix='Embarked',prefix_sep='_')\n",
    "#encoded.head()"
   ]
  },
  {
   "cell_type": "code",
   "execution_count": null,
   "metadata": {},
   "outputs": [],
   "source": [
    "df_to_encode=df_all['Embarked']\n",
    "encoded=pd.get_dummies(df_to_encode,prefix='Embarked',prefix_sep='_')"
   ]
  },
  {
   "cell_type": "code",
   "execution_count": 59,
   "metadata": {},
   "outputs": [],
   "source": [
    "#embarked_order = {'S' : 0, 'C' : 1, 'Q' : 2}\n",
    "#df_all['Embarked'] = df_all['Embarked'].map(embarked_order)"
   ]
  },
  {
   "cell_type": "code",
   "execution_count": null,
   "metadata": {},
   "outputs": [],
   "source": []
  },
  {
   "cell_type": "code",
   "execution_count": 60,
   "metadata": {},
   "outputs": [],
   "source": [
    "df_all=pd.concat([df_all,encoded],axis=1)"
   ]
  },
  {
   "cell_type": "code",
   "execution_count": 61,
   "metadata": {},
   "outputs": [],
   "source": [
    "# Decided to keep Pclass as it is, without encoding; to see any impact - on 21 nov, sat, morning 11 am\n",
    "#create dummies column for Pclass"
   ]
  },
  {
   "cell_type": "code",
   "execution_count": 62,
   "metadata": {},
   "outputs": [],
   "source": [
    "\n",
    "#df_to_encode=df_all['Pclass']\n",
    "#encoded=pd.get_dummies(df_to_encode,prefix='Pclass',prefix_sep='_')"
   ]
  },
  {
   "cell_type": "code",
   "execution_count": 63,
   "metadata": {},
   "outputs": [],
   "source": [
    "#encoded.head()"
   ]
  },
  {
   "cell_type": "code",
   "execution_count": 64,
   "metadata": {},
   "outputs": [],
   "source": [
    "#df_all=pd.concat([df_all,encoded],axis=1)"
   ]
  },
  {
   "cell_type": "code",
   "execution_count": null,
   "metadata": {},
   "outputs": [],
   "source": []
  },
  {
   "cell_type": "code",
   "execution_count": 65,
   "metadata": {},
   "outputs": [],
   "source": [
    "#Since Pclass is having very small GINI in feature_importance, we are removing the column itself,\n",
    "# including the dummy variables also, that was the reason the previous steps are commented out\n",
    "#df_all=df_all.drop(['Pclass'],axis=1)"
   ]
  },
  {
   "cell_type": "code",
   "execution_count": 66,
   "metadata": {},
   "outputs": [],
   "source": [
    "# Since only 5 or 6 titles are covering the majority of the population. \n",
    "# And we will create the dummies for the Title, the less frequent one are \n",
    "# considered under others column  "
   ]
  },
  {
   "cell_type": "code",
   "execution_count": 67,
   "metadata": {},
   "outputs": [
    {
     "data": {
      "text/plain": [
       "array([' Mr', ' Mrs', ' Miss', ' Master', ' Don', ' Rev', ' Dr', ' Mme',\n",
       "       ' Ms', ' Major', ' Lady', ' Sir', ' Mlle', ' Col', ' Capt',\n",
       "       ' the Countess', ' Jonkheer', ' Dona'], dtype=object)"
      ]
     },
     "execution_count": 67,
     "metadata": {},
     "output_type": "execute_result"
    }
   ],
   "source": [
    "df_all['Title'].unique()"
   ]
  },
  {
   "cell_type": "code",
   "execution_count": 68,
   "metadata": {},
   "outputs": [
    {
     "data": {
      "text/plain": [
       "Mr        757\n",
       "Miss      262\n",
       "Mrs       197\n",
       "Master     61\n",
       "Others     32\n",
       "Name: Title, dtype: int64"
      ]
     },
     "execution_count": 68,
     "metadata": {},
     "output_type": "execute_result"
    }
   ],
   "source": [
    "Title_map = {' Mr':'Mr',' Mrs':'Mrs',' Miss':'Miss',' Master':'Master',' Don':'Others',' Rev':'Others',' Dr':'Others',' Mme':'Others',' Ms':'Miss',' Major':'Others',' Lady':'Others',' Sir':'Others',' Mlle':'Others',' Col':'Others',' Capt':'Others',' the Countess':'Others',' Jonkheer':'Others',' Dona':'Others'}\n",
    "df_all['Title']=df_all.Title.replace(Title_map)\n",
    "df_all['Title'].value_counts()"
   ]
  },
  {
   "cell_type": "code",
   "execution_count": 69,
   "metadata": {},
   "outputs": [],
   "source": [
    "title_to_encode=df_all['Title']\n",
    "title_encoded=pd.get_dummies(title_to_encode,prefix='Title',prefix_sep='_')"
   ]
  },
  {
   "cell_type": "code",
   "execution_count": 70,
   "metadata": {},
   "outputs": [],
   "source": [
    "df_all=pd.concat([df_all,title_encoded],axis=1)"
   ]
  },
  {
   "cell_type": "code",
   "execution_count": 71,
   "metadata": {},
   "outputs": [
    {
     "data": {
      "text/plain": [
       "8.050000     60\n",
       "13.000000    59\n",
       "7.750000     55\n",
       "26.000000    50\n",
       "7.895800     49\n",
       "             ..\n",
       "33.500000     1\n",
       "7.800000      1\n",
       "26.387500     1\n",
       "8.052067      1\n",
       "7.141700      1\n",
       "Name: Fare, Length: 282, dtype: int64"
      ]
     },
     "execution_count": 71,
     "metadata": {},
     "output_type": "execute_result"
    }
   ],
   "source": [
    "df_all['Fare'].value_counts()"
   ]
  },
  {
   "cell_type": "code",
   "execution_count": 72,
   "metadata": {},
   "outputs": [
    {
     "data": {
      "text/plain": [
       "PassengerId     169\n",
       "Survived        114\n",
       "Pclass          169\n",
       "Name            169\n",
       "Sex             169\n",
       "Age             169\n",
       "SibSp           169\n",
       "Parch           169\n",
       "Ticket          169\n",
       "Fare            169\n",
       "Embarked        169\n",
       "source          169\n",
       "FamilyName      169\n",
       "FirstName       169\n",
       "Title           169\n",
       "GroupTkt        169\n",
       "Family_Size     169\n",
       "Title_Master    169\n",
       "Title_Miss      169\n",
       "Title_Mr        169\n",
       "Title_Mrs       169\n",
       "Title_Others    169\n",
       "dtype: int64"
      ]
     },
     "execution_count": 72,
     "metadata": {},
     "output_type": "execute_result"
    }
   ],
   "source": [
    "df_all['Fare'].describe()\n",
    "df_all[df_all['Fare'] > 68].count()"
   ]
  },
  {
   "cell_type": "code",
   "execution_count": 73,
   "metadata": {},
   "outputs": [],
   "source": [
    "# To bin age & fare to see whether it gives any improvement in score; currently it is in range of numbers & 169 records of Fare value are outliers\n",
    "df_all['Age_range'] = 0\n",
    "df_all.loc[df_all['Age'] <= 16, 'Age_range'] = 0\n",
    "df_all.loc[(df_all['Age'] > 16) & (df_all['Age'] <= 32), 'Age_range'] = 1\n",
    "df_all.loc[(df_all['Age'] > 32) & (df_all['Age'] <= 48), 'Age_range'] = 2\n",
    "df_all.loc[(df_all['Age'] > 48) & (df_all['Age'] <= 64), 'Age_range'] = 3\n",
    "df_all.loc[(df_all['Age'] > 64), 'Age_range' ] = 4\n"
   ]
  },
  {
   "cell_type": "code",
   "execution_count": 74,
   "metadata": {},
   "outputs": [],
   "source": [
    "df_all['Fare_Range'] = pd.qcut(df_all['Fare'],4)"
   ]
  },
  {
   "cell_type": "code",
   "execution_count": 75,
   "metadata": {},
   "outputs": [
    {
     "data": {
      "text/plain": [
       "(-0.001, 7.896]      337\n",
       "(14.454, 31.275]     328\n",
       "(31.275, 512.329]    323\n",
       "(7.896, 14.454]      321\n",
       "Name: Fare_Range, dtype: int64"
      ]
     },
     "execution_count": 75,
     "metadata": {},
     "output_type": "execute_result"
    }
   ],
   "source": [
    "df_all['Fare_Range'].value_counts()"
   ]
  },
  {
   "cell_type": "code",
   "execution_count": 76,
   "metadata": {},
   "outputs": [],
   "source": [
    "df_all['Fare_Cat'] = 0\n",
    "df_all.loc[(df_all['Fare'] <= 7.90), 'Fare_Cat'] = 0\n",
    "df_all.loc[(df_all['Fare'] > 7.90) & (df_all['Fare'] <= 15), 'Fare_Cat'] = 1\n",
    "df_all.loc[(df_all['Fare'] > 15) & (df_all['Fare'] <= 31.275), 'Fare_Cat'] = 2\n",
    "df_all.loc[(df_all['Fare'] > 31.275) & (df_all['Fare'] <= 513), 'Fare_Cat'] = 3"
   ]
  },
  {
   "cell_type": "code",
   "execution_count": 77,
   "metadata": {},
   "outputs": [
    {
     "data": {
      "text/plain": [
       "1    337\n",
       "0    337\n",
       "3    323\n",
       "2    312\n",
       "Name: Fare_Cat, dtype: int64"
      ]
     },
     "execution_count": 77,
     "metadata": {},
     "output_type": "execute_result"
    }
   ],
   "source": [
    "df_all['Fare_Cat'].value_counts()"
   ]
  },
  {
   "cell_type": "code",
   "execution_count": 78,
   "metadata": {},
   "outputs": [],
   "source": [
    "df_all=df_all.drop(columns=['Title'],axis=1)"
   ]
  },
  {
   "cell_type": "code",
   "execution_count": 79,
   "metadata": {},
   "outputs": [],
   "source": [
    "df_all=df_all.drop(columns=['Name','FirstName','FamilyName','Ticket','Fare','Fare_Range','Age','Title_Others','Title_Master'],axis=1)"
   ]
  },
  {
   "cell_type": "code",
   "execution_count": 80,
   "metadata": {},
   "outputs": [
    {
     "name": "stdout",
     "output_type": "stream",
     "text": [
      "<class 'pandas.core.frame.DataFrame'>\n",
      "Int64Index: 1309 entries, 0 to 417\n",
      "Data columns (total 15 columns):\n",
      " #   Column       Non-Null Count  Dtype  \n",
      "---  ------       --------------  -----  \n",
      " 0   PassengerId  1309 non-null   int64  \n",
      " 1   Survived     891 non-null    float64\n",
      " 2   Pclass       1309 non-null   int64  \n",
      " 3   Sex          1309 non-null   int32  \n",
      " 4   SibSp        1309 non-null   int64  \n",
      " 5   Parch        1309 non-null   int64  \n",
      " 6   Embarked     1309 non-null   int64  \n",
      " 7   source       1309 non-null   object \n",
      " 8   GroupTkt     1309 non-null   int32  \n",
      " 9   Family_Size  1309 non-null   int64  \n",
      " 10  Title_Miss   1309 non-null   uint8  \n",
      " 11  Title_Mr     1309 non-null   uint8  \n",
      " 12  Title_Mrs    1309 non-null   uint8  \n",
      " 13  Age_range    1309 non-null   int64  \n",
      " 14  Fare_Cat     1309 non-null   int64  \n",
      "dtypes: float64(1), int32(2), int64(8), object(1), uint8(3)\n",
      "memory usage: 126.6+ KB\n"
     ]
    }
   ],
   "source": [
    "df_all.info()"
   ]
  },
  {
   "cell_type": "code",
   "execution_count": 81,
   "metadata": {},
   "outputs": [],
   "source": [
    "# removing the age_range from dropping on 25th Nov\n",
    "\n",
    "df_col_to_drop = df_all[['Family_Size','Embarked']]\n",
    "df_all=df_all.drop(columns=['Family_Size','Embarked'])\n",
    "#df_col_to_drop = df_all[['Family_Size','Embarked','Age_range']]\n",
    "#df_all=df_all.drop(columns=['Family_Size','Embarked','Age_range'])"
   ]
  },
  {
   "cell_type": "code",
   "execution_count": 82,
   "metadata": {},
   "outputs": [],
   "source": [
    "# as these features are having low Gini index (approx <1%)as indicated in the feature_importance, dropping the same\n",
    "## COMMENTED THE NEXT STATEMENT ON FRIDAY NIGHT 1.59 AM to check again\n",
    "#df_all=df_all.drop(columns=['Embarked_C','Embarked_Q','Embarked_S'])"
   ]
  },
  {
   "cell_type": "code",
   "execution_count": null,
   "metadata": {},
   "outputs": [],
   "source": [
    "\n"
   ]
  },
  {
   "cell_type": "code",
   "execution_count": 83,
   "metadata": {},
   "outputs": [],
   "source": [
    "## COMMENTED THE NEXT STATEMENT ON FRIDAY NIGHT 2 AM TO CHECK AGAIN\n",
    "## uncommenting the next statement on Saturday Mornig 4.20 AM as the blended model is giving only 77.99 score\n",
    "\n",
    "#df_all=df_all.drop(columns=['SibSp','Parch'])"
   ]
  },
  {
   "cell_type": "code",
   "execution_count": 84,
   "metadata": {},
   "outputs": [],
   "source": [
    "## COMMENTED THE NEXT STATEMENT ON FRIDAY NIGHT 2 AM TO CHECK AGAIN\n",
    "#df_all=df_all.drop(['Title_Others','Pclass_2','Pclass_1','Title_Master','GroupTkt'],axis=1)"
   ]
  },
  {
   "cell_type": "code",
   "execution_count": 85,
   "metadata": {},
   "outputs": [],
   "source": [
    "#Since the feature_importance is indicating the Sex is having higher Gini as well as \n",
    "# higher correlation with Survived column, \n",
    "# we are keeping this column\n",
    "#df_all=df_all.drop(columns=['Sex'])"
   ]
  },
  {
   "cell_type": "code",
   "execution_count": 86,
   "metadata": {},
   "outputs": [
    {
     "data": {
      "text/html": [
       "<div>\n",
       "<style scoped>\n",
       "    .dataframe tbody tr th:only-of-type {\n",
       "        vertical-align: middle;\n",
       "    }\n",
       "\n",
       "    .dataframe tbody tr th {\n",
       "        vertical-align: top;\n",
       "    }\n",
       "\n",
       "    .dataframe thead th {\n",
       "        text-align: right;\n",
       "    }\n",
       "</style>\n",
       "<table border=\"1\" class=\"dataframe\">\n",
       "  <thead>\n",
       "    <tr style=\"text-align: right;\">\n",
       "      <th></th>\n",
       "      <th>PassengerId</th>\n",
       "      <th>Survived</th>\n",
       "      <th>Pclass</th>\n",
       "      <th>Sex</th>\n",
       "      <th>SibSp</th>\n",
       "      <th>Parch</th>\n",
       "      <th>GroupTkt</th>\n",
       "      <th>Title_Miss</th>\n",
       "      <th>Title_Mr</th>\n",
       "      <th>Title_Mrs</th>\n",
       "      <th>Age_range</th>\n",
       "      <th>Fare_Cat</th>\n",
       "    </tr>\n",
       "  </thead>\n",
       "  <tbody>\n",
       "    <tr>\n",
       "      <th>PassengerId</th>\n",
       "      <td>1.000000</td>\n",
       "      <td>-0.005007</td>\n",
       "      <td>-0.038354</td>\n",
       "      <td>0.013406</td>\n",
       "      <td>-0.055224</td>\n",
       "      <td>0.008942</td>\n",
       "      <td>-0.015731</td>\n",
       "      <td>-0.049668</td>\n",
       "      <td>0.014116</td>\n",
       "      <td>0.034473</td>\n",
       "      <td>0.011245</td>\n",
       "      <td>-0.011256</td>\n",
       "    </tr>\n",
       "    <tr>\n",
       "      <th>Survived</th>\n",
       "      <td>-0.005007</td>\n",
       "      <td>1.000000</td>\n",
       "      <td>-0.338481</td>\n",
       "      <td>-0.543351</td>\n",
       "      <td>-0.035322</td>\n",
       "      <td>0.081629</td>\n",
       "      <td>0.252939</td>\n",
       "      <td>0.329948</td>\n",
       "      <td>-0.549199</td>\n",
       "      <td>0.339040</td>\n",
       "      <td>-0.058242</td>\n",
       "      <td>0.311526</td>\n",
       "    </tr>\n",
       "    <tr>\n",
       "      <th>Pclass</th>\n",
       "      <td>-0.038354</td>\n",
       "      <td>-0.338481</td>\n",
       "      <td>1.000000</td>\n",
       "      <td>0.124617</td>\n",
       "      <td>0.060832</td>\n",
       "      <td>0.018322</td>\n",
       "      <td>-0.283445</td>\n",
       "      <td>0.031326</td>\n",
       "      <td>0.121492</td>\n",
       "      <td>-0.178808</td>\n",
       "      <td>-0.410879</td>\n",
       "      <td>-0.671102</td>\n",
       "    </tr>\n",
       "    <tr>\n",
       "      <th>Sex</th>\n",
       "      <td>0.013406</td>\n",
       "      <td>-0.543351</td>\n",
       "      <td>0.124617</td>\n",
       "      <td>1.000000</td>\n",
       "      <td>-0.109609</td>\n",
       "      <td>-0.213125</td>\n",
       "      <td>-0.303803</td>\n",
       "      <td>-0.672819</td>\n",
       "      <td>0.870678</td>\n",
       "      <td>-0.566111</td>\n",
       "      <td>0.062844</td>\n",
       "      <td>-0.230363</td>\n",
       "    </tr>\n",
       "    <tr>\n",
       "      <th>SibSp</th>\n",
       "      <td>-0.055224</td>\n",
       "      <td>-0.035322</td>\n",
       "      <td>0.060832</td>\n",
       "      <td>-0.109609</td>\n",
       "      <td>1.000000</td>\n",
       "      <td>0.373587</td>\n",
       "      <td>0.442977</td>\n",
       "      <td>0.077564</td>\n",
       "      <td>-0.243104</td>\n",
       "      <td>0.065098</td>\n",
       "      <td>-0.215015</td>\n",
       "      <td>0.371719</td>\n",
       "    </tr>\n",
       "    <tr>\n",
       "      <th>Parch</th>\n",
       "      <td>0.008942</td>\n",
       "      <td>0.081629</td>\n",
       "      <td>0.018322</td>\n",
       "      <td>-0.213125</td>\n",
       "      <td>0.373587</td>\n",
       "      <td>1.000000</td>\n",
       "      <td>0.445944</td>\n",
       "      <td>0.066473</td>\n",
       "      <td>-0.304780</td>\n",
       "      <td>0.217673</td>\n",
       "      <td>-0.128015</td>\n",
       "      <td>0.360497</td>\n",
       "    </tr>\n",
       "    <tr>\n",
       "      <th>GroupTkt</th>\n",
       "      <td>-0.015731</td>\n",
       "      <td>0.252939</td>\n",
       "      <td>-0.283445</td>\n",
       "      <td>-0.303803</td>\n",
       "      <td>0.442977</td>\n",
       "      <td>0.445944</td>\n",
       "      <td>1.000000</td>\n",
       "      <td>0.064061</td>\n",
       "      <td>-0.384163</td>\n",
       "      <td>0.331656</td>\n",
       "      <td>-0.072907</td>\n",
       "      <td>0.726669</td>\n",
       "    </tr>\n",
       "    <tr>\n",
       "      <th>Title_Miss</th>\n",
       "      <td>-0.049668</td>\n",
       "      <td>0.329948</td>\n",
       "      <td>0.031326</td>\n",
       "      <td>-0.672819</td>\n",
       "      <td>0.077564</td>\n",
       "      <td>0.066473</td>\n",
       "      <td>0.064061</td>\n",
       "      <td>1.000000</td>\n",
       "      <td>-0.585809</td>\n",
       "      <td>-0.210551</td>\n",
       "      <td>-0.263119</td>\n",
       "      <td>0.021630</td>\n",
       "    </tr>\n",
       "    <tr>\n",
       "      <th>Title_Mr</th>\n",
       "      <td>0.014116</td>\n",
       "      <td>-0.549199</td>\n",
       "      <td>0.121492</td>\n",
       "      <td>0.870678</td>\n",
       "      <td>-0.243104</td>\n",
       "      <td>-0.304780</td>\n",
       "      <td>-0.384163</td>\n",
       "      <td>-0.585809</td>\n",
       "      <td>1.000000</td>\n",
       "      <td>-0.492900</td>\n",
       "      <td>0.173829</td>\n",
       "      <td>-0.295363</td>\n",
       "    </tr>\n",
       "    <tr>\n",
       "      <th>Title_Mrs</th>\n",
       "      <td>0.034473</td>\n",
       "      <td>0.339040</td>\n",
       "      <td>-0.178808</td>\n",
       "      <td>-0.566111</td>\n",
       "      <td>0.065098</td>\n",
       "      <td>0.217673</td>\n",
       "      <td>0.331656</td>\n",
       "      <td>-0.210551</td>\n",
       "      <td>-0.492900</td>\n",
       "      <td>1.000000</td>\n",
       "      <td>0.203804</td>\n",
       "      <td>0.265841</td>\n",
       "    </tr>\n",
       "    <tr>\n",
       "      <th>Age_range</th>\n",
       "      <td>0.011245</td>\n",
       "      <td>-0.058242</td>\n",
       "      <td>-0.410879</td>\n",
       "      <td>0.062844</td>\n",
       "      <td>-0.215015</td>\n",
       "      <td>-0.128015</td>\n",
       "      <td>-0.072907</td>\n",
       "      <td>-0.263119</td>\n",
       "      <td>0.173829</td>\n",
       "      <td>0.203804</td>\n",
       "      <td>1.000000</td>\n",
       "      <td>0.137837</td>\n",
       "    </tr>\n",
       "    <tr>\n",
       "      <th>Fare_Cat</th>\n",
       "      <td>-0.011256</td>\n",
       "      <td>0.311526</td>\n",
       "      <td>-0.671102</td>\n",
       "      <td>-0.230363</td>\n",
       "      <td>0.371719</td>\n",
       "      <td>0.360497</td>\n",
       "      <td>0.726669</td>\n",
       "      <td>0.021630</td>\n",
       "      <td>-0.295363</td>\n",
       "      <td>0.265841</td>\n",
       "      <td>0.137837</td>\n",
       "      <td>1.000000</td>\n",
       "    </tr>\n",
       "  </tbody>\n",
       "</table>\n",
       "</div>"
      ],
      "text/plain": [
       "             PassengerId  Survived    Pclass       Sex     SibSp     Parch  \\\n",
       "PassengerId     1.000000 -0.005007 -0.038354  0.013406 -0.055224  0.008942   \n",
       "Survived       -0.005007  1.000000 -0.338481 -0.543351 -0.035322  0.081629   \n",
       "Pclass         -0.038354 -0.338481  1.000000  0.124617  0.060832  0.018322   \n",
       "Sex             0.013406 -0.543351  0.124617  1.000000 -0.109609 -0.213125   \n",
       "SibSp          -0.055224 -0.035322  0.060832 -0.109609  1.000000  0.373587   \n",
       "Parch           0.008942  0.081629  0.018322 -0.213125  0.373587  1.000000   \n",
       "GroupTkt       -0.015731  0.252939 -0.283445 -0.303803  0.442977  0.445944   \n",
       "Title_Miss     -0.049668  0.329948  0.031326 -0.672819  0.077564  0.066473   \n",
       "Title_Mr        0.014116 -0.549199  0.121492  0.870678 -0.243104 -0.304780   \n",
       "Title_Mrs       0.034473  0.339040 -0.178808 -0.566111  0.065098  0.217673   \n",
       "Age_range       0.011245 -0.058242 -0.410879  0.062844 -0.215015 -0.128015   \n",
       "Fare_Cat       -0.011256  0.311526 -0.671102 -0.230363  0.371719  0.360497   \n",
       "\n",
       "             GroupTkt  Title_Miss  Title_Mr  Title_Mrs  Age_range  Fare_Cat  \n",
       "PassengerId -0.015731   -0.049668  0.014116   0.034473   0.011245 -0.011256  \n",
       "Survived     0.252939    0.329948 -0.549199   0.339040  -0.058242  0.311526  \n",
       "Pclass      -0.283445    0.031326  0.121492  -0.178808  -0.410879 -0.671102  \n",
       "Sex         -0.303803   -0.672819  0.870678  -0.566111   0.062844 -0.230363  \n",
       "SibSp        0.442977    0.077564 -0.243104   0.065098  -0.215015  0.371719  \n",
       "Parch        0.445944    0.066473 -0.304780   0.217673  -0.128015  0.360497  \n",
       "GroupTkt     1.000000    0.064061 -0.384163   0.331656  -0.072907  0.726669  \n",
       "Title_Miss   0.064061    1.000000 -0.585809  -0.210551  -0.263119  0.021630  \n",
       "Title_Mr    -0.384163   -0.585809  1.000000  -0.492900   0.173829 -0.295363  \n",
       "Title_Mrs    0.331656   -0.210551 -0.492900   1.000000   0.203804  0.265841  \n",
       "Age_range   -0.072907   -0.263119  0.173829   0.203804   1.000000  0.137837  \n",
       "Fare_Cat     0.726669    0.021630 -0.295363   0.265841   0.137837  1.000000  "
      ]
     },
     "execution_count": 86,
     "metadata": {},
     "output_type": "execute_result"
    }
   ],
   "source": [
    "df_all.corr()"
   ]
  },
  {
   "cell_type": "code",
   "execution_count": 87,
   "metadata": {},
   "outputs": [
    {
     "name": "stdout",
     "output_type": "stream",
     "text": [
      "        feature        VIF\n",
      "0   PassengerId   3.954383\n",
      "1        Pclass  21.314989\n",
      "2           Sex  36.871479\n",
      "3         SibSp   1.888670\n",
      "4         Parch   1.703506\n",
      "5      GroupTkt   5.104060\n",
      "6    Title_Miss   9.179083\n",
      "7      Title_Mr  11.769500\n",
      "8     Title_Mrs   8.194157\n",
      "9     Age_range   5.289095\n",
      "10     Fare_Cat  11.608700\n"
     ]
    }
   ],
   "source": [
    "x=df_all.select_dtypes(include=np.number).drop(columns=[\"Survived\"])\n",
    "vif_data = pd.DataFrame()\n",
    "vif_data[\"feature\"]=x.columns\n",
    "vif_data[\"VIF\"]=[variance_inflation_factor(x.values,i) for i in range(len(x.columns))]\n",
    "print(vif_data)"
   ]
  },
  {
   "cell_type": "code",
   "execution_count": 88,
   "metadata": {},
   "outputs": [],
   "source": [
    "df_train=df_all[df_all['source']=='train']\n",
    "df_test=df_all[df_all['source']=='test']"
   ]
  },
  {
   "cell_type": "code",
   "execution_count": 89,
   "metadata": {},
   "outputs": [],
   "source": [
    "## COMMENTED THE FOLLOWING STATEMENT OF DROPPING PASSENGERID ON FRIDAY NIGHT 2 AM (earlier than 25th nov)\n",
    "\n",
    "# dropping PassengerId as it gives higher correlation and feature_importance_ but actually it is a continuous unique number\n",
    "# using pop as we need it again to merge for generating the submission file\n",
    "\n",
    "# uncommenting the same on Wednesday - 25th Nov\n",
    "df_train_PassengerId =df_train.pop('PassengerId')\n",
    "df_test_PassengerId = df_test.pop('PassengerId')"
   ]
  },
  {
   "cell_type": "code",
   "execution_count": 90,
   "metadata": {},
   "outputs": [
    {
     "name": "stdout",
     "output_type": "stream",
     "text": [
      "<class 'pandas.core.frame.DataFrame'>\n",
      "Int64Index: 891 entries, 0 to 890\n",
      "Data columns (total 12 columns):\n",
      " #   Column      Non-Null Count  Dtype  \n",
      "---  ------      --------------  -----  \n",
      " 0   Survived    891 non-null    float64\n",
      " 1   Pclass      891 non-null    int64  \n",
      " 2   Sex         891 non-null    int32  \n",
      " 3   SibSp       891 non-null    int64  \n",
      " 4   Parch       891 non-null    int64  \n",
      " 5   source      891 non-null    object \n",
      " 6   GroupTkt    891 non-null    int32  \n",
      " 7   Title_Miss  891 non-null    uint8  \n",
      " 8   Title_Mr    891 non-null    uint8  \n",
      " 9   Title_Mrs   891 non-null    uint8  \n",
      " 10  Age_range   891 non-null    int64  \n",
      " 11  Fare_Cat    891 non-null    int64  \n",
      "dtypes: float64(1), int32(2), int64(5), object(1), uint8(3)\n",
      "memory usage: 65.3+ KB\n"
     ]
    }
   ],
   "source": [
    "df_train.info()"
   ]
  },
  {
   "cell_type": "code",
   "execution_count": 91,
   "metadata": {},
   "outputs": [],
   "source": [
    "Survivers = df_train[df_train['Survived']==1.0]\n",
    "Non_Survivers = df_train[df_train['Survived']==0]\n",
    "selected_Non_Survivers = Non_Survivers.sample(n = 342, random_state= 20)\n",
    "df_train_undersample = pd.concat([Survivers,selected_Non_Survivers],axis=0)"
   ]
  },
  {
   "cell_type": "code",
   "execution_count": 92,
   "metadata": {},
   "outputs": [
    {
     "data": {
      "text/plain": [
       "0.0    342\n",
       "1.0    342\n",
       "Name: Survived, dtype: int64"
      ]
     },
     "execution_count": 92,
     "metadata": {},
     "output_type": "execute_result"
    }
   ],
   "source": [
    "df_train_undersample['Survived'].value_counts()"
   ]
  },
  {
   "cell_type": "code",
   "execution_count": 93,
   "metadata": {},
   "outputs": [],
   "source": [
    "df_train=df_train.drop(columns=['source'])\n",
    "df_train_all_x=df_train.drop(columns=['Survived'])\n",
    "df_train_undersample =df_train_undersample.drop(columns=['source'])\n",
    "df_train_undersample_x=df_train_undersample.drop(columns=['Survived'])\n",
    "df_train_undersample_y=pd.DataFrame(df_train_undersample['Survived'])"
   ]
  },
  {
   "cell_type": "code",
   "execution_count": 94,
   "metadata": {},
   "outputs": [],
   "source": [
    "df_train_all_y=pd.DataFrame(df_train['Survived'])"
   ]
  },
  {
   "cell_type": "code",
   "execution_count": 95,
   "metadata": {},
   "outputs": [
    {
     "data": {
      "text/plain": [
       "0.0    549\n",
       "1.0    342\n",
       "Name: Survived, dtype: int64"
      ]
     },
     "execution_count": 95,
     "metadata": {},
     "output_type": "execute_result"
    }
   ],
   "source": [
    "\n",
    "df_train_all_y['Survived'].value_counts()"
   ]
  },
  {
   "cell_type": "code",
   "execution_count": 96,
   "metadata": {},
   "outputs": [],
   "source": [
    "# Just to ensure the new approach of using the balanced train dataset \n",
    "# with the undersampling, is not affecting the existing code, we will assign the undersample train df to \n",
    "# the same name as the earlier train df\n",
    "df_train_x = df_train_undersample_x\n",
    "df_train_y = df_train_undersample_y"
   ]
  },
  {
   "cell_type": "code",
   "execution_count": 97,
   "metadata": {},
   "outputs": [
    {
     "data": {
      "text/plain": [
       "((684, 10), (684, 1))"
      ]
     },
     "execution_count": 97,
     "metadata": {},
     "output_type": "execute_result"
    }
   ],
   "source": [
    "df_train_x.shape,df_train_y.shape"
   ]
  },
  {
   "cell_type": "code",
   "execution_count": 98,
   "metadata": {},
   "outputs": [],
   "source": [
    "df_test=df_test.drop(columns=['source'])\n",
    "df_test_x=df_test.drop(columns=['Survived'])"
   ]
  },
  {
   "cell_type": "code",
   "execution_count": null,
   "metadata": {},
   "outputs": [],
   "source": []
  },
  {
   "cell_type": "code",
   "execution_count": 99,
   "metadata": {},
   "outputs": [],
   "source": [
    "model=LogisticRegression(l1_ratio= 0, max_iter = 60, penalty= 'l2', solver='newton-cg')\n",
    "#model = LogisticRegression(l1_ratio=0, max_iter=75, penalty= 'elasticnet', solver= 'saga')"
   ]
  },
  {
   "cell_type": "code",
   "execution_count": 100,
   "metadata": {},
   "outputs": [
    {
     "data": {
      "text/plain": [
       "LogisticRegression(C=1.0, class_weight=None, dual=False, fit_intercept=True,\n",
       "                   intercept_scaling=1, l1_ratio=0, max_iter=60,\n",
       "                   multi_class='auto', n_jobs=None, penalty='l2',\n",
       "                   random_state=None, solver='newton-cg', tol=0.0001, verbose=0,\n",
       "                   warm_start=False)"
      ]
     },
     "execution_count": 100,
     "metadata": {},
     "output_type": "execute_result"
    }
   ],
   "source": [
    "model.fit(df_train_x, df_train_y)"
   ]
  },
  {
   "cell_type": "code",
   "execution_count": 101,
   "metadata": {},
   "outputs": [],
   "source": [
    "df_train_y_pred=model.predict(df_train_x)"
   ]
  },
  {
   "cell_type": "code",
   "execution_count": 102,
   "metadata": {},
   "outputs": [],
   "source": [
    "def metric_res(train_or_test,acctual, pred):\n",
    "    print(train_or_test,\" confusion_matrix \\n\", confusion_matrix(acctual, pred))\n",
    "    print(train_or_test,\" accuracy_score     : \", accuracy_score(acctual, pred))\n",
    "    print(train_or_test,\" recall_score       : \", recall_score(acctual, pred))\n",
    "    print(train_or_test,\" precision_score    : \", precision_score(acctual, pred))\n",
    "    print(train_or_test,\" train f1_score     : \", f1_score(acctual, pred))\n",
    "    print(train_or_test,\" train roc_auc_score: \", roc_auc_score(acctual, pred))\n",
    "    print(train_or_test,\" classification report \\n\", classification_report(acctual, pred))"
   ]
  },
  {
   "cell_type": "code",
   "execution_count": 103,
   "metadata": {},
   "outputs": [],
   "source": [
    "def run_model_validate(model, train_X, train_y, test_X, test_y):\n",
    "    model.fit(train_X, train_y)\n",
    "    pred_train = model.predict(train_X)\n",
    "    pred_test = model.predict(test_X)\n",
    "    print(80*'*')\n",
    "    print(\"Model Name : \",str(model).split('(')[0])\n",
    "    metric_res('train',train_y, pred_train)\n",
    "    metric_res('test ',test_y, pred_test)\n",
    "    return model, accuracy_score(test_y, pred_test), f1_score(test_y, pred_test)"
   ]
  },
  {
   "cell_type": "code",
   "execution_count": 104,
   "metadata": {},
   "outputs": [],
   "source": [
    "def submission_file_generation(model,df_test_x):\n",
    "    df_test_y_pred=model.predict(df_test_x)\n",
    "    df_test_y_pred=pd.DataFrame(df_test_y_pred)\n",
    "    df_test_y_pred.rename(columns={0:'Survived'},inplace=True)\n",
    "    gender_submission=pd.concat([pd.DataFrame(test['PassengerId']),df_test_y_pred],axis=1)\n",
    "    gender_submission=gender_submission.astype({'Survived':int})\n",
    "    gender_submission.to_csv('gender_submission.csv',index=False)"
   ]
  },
  {
   "cell_type": "code",
   "execution_count": 105,
   "metadata": {},
   "outputs": [],
   "source": [
    "def rfc_find_important_features(model,test_x):\n",
    "    important_features = model.feature_importances_\n",
    "    important_features = important_features.transpose()\n",
    "    features_df = pd.DataFrame(important_features)\n",
    "    features_df = features_df.rename(columns={0:'GiniIndex'})\n",
    "    features_names=pd.DataFrame(df_train_1_x.columns,columns=['Col_name'])\n",
    "    features_df = pd.concat([features_names,features_df],axis=1)\n",
    "    plt.barh(features_df['Col_name'],features_df['GiniIndex'])"
   ]
  },
  {
   "cell_type": "code",
   "execution_count": 106,
   "metadata": {},
   "outputs": [
    {
     "name": "stdout",
     "output_type": "stream",
     "text": [
      "train  confusion_matrix \n",
      " [[276  66]\n",
      " [ 75 267]]\n",
      "train  accuracy_score     :  0.793859649122807\n",
      "train  recall_score       :  0.7807017543859649\n",
      "train  precision_score    :  0.8018018018018018\n",
      "train  train f1_score     :  0.7911111111111111\n",
      "train  train roc_auc_score:  0.793859649122807\n",
      "train  classification report \n",
      "               precision    recall  f1-score   support\n",
      "\n",
      "         0.0       0.79      0.81      0.80       342\n",
      "         1.0       0.80      0.78      0.79       342\n",
      "\n",
      "    accuracy                           0.79       684\n",
      "   macro avg       0.79      0.79      0.79       684\n",
      "weighted avg       0.79      0.79      0.79       684\n",
      "\n"
     ]
    }
   ],
   "source": [
    "metric_res('train',df_train_y,df_train_y_pred)"
   ]
  },
  {
   "cell_type": "code",
   "execution_count": 107,
   "metadata": {},
   "outputs": [
    {
     "data": {
      "text/plain": [
       "<sklearn.metrics._plot.roc_curve.RocCurveDisplay at 0x28885cbd688>"
      ]
     },
     "execution_count": 107,
     "metadata": {},
     "output_type": "execute_result"
    },
    {
     "data": {
      "image/png": "[encoded data removed]",
      "text/plain": [
       "<Figure size 432x288 with 1 Axes>"
      ]
     },
     "metadata": {
      "needs_background": "light"
     },
     "output_type": "display_data"
    }
   ],
   "source": [
    "plot_roc_curve(model, df_train_x, df_train_y)"
   ]
  },
  {
   "cell_type": "code",
   "execution_count": 108,
   "metadata": {},
   "outputs": [],
   "source": [
    "param_grid = { \n",
    "    'penalty': ['l1','l2','elasticnet'],\n",
    "    'solver' : ['newton-cg', 'lbfgs', 'liblinear', 'sag', 'saga'],\n",
    "    'max_iter': [50,60,70,100,150],\n",
    "    'l1_ratio' : [0,0.2,0.4,0.6,0.8,1]\n",
    "}"
   ]
  },
  {
   "cell_type": "code",
   "execution_count": null,
   "metadata": {},
   "outputs": [],
   "source": []
  },
  {
   "cell_type": "code",
   "execution_count": 109,
   "metadata": {},
   "outputs": [],
   "source": [
    "CV_LogisticRegression=GridSearchCV(estimator=model, param_grid=param_grid,n_jobs=3, cv= 5)"
   ]
  },
  {
   "cell_type": "code",
   "execution_count": 110,
   "metadata": {},
   "outputs": [
    {
     "name": "stdout",
     "output_type": "stream",
     "text": [
      "RFC best parameters : {'l1_ratio': 0.8, 'max_iter': 70, 'penalty': 'l1', 'solver': 'saga'}\n"
     ]
    }
   ],
   "source": [
    "CV_LogisticRegression.fit(df_train_x,df_train_y)\n",
    "#CV_rfc.fit(train_scaled, df_train_1_y)\n",
    "print('RFC best parameters :', CV_LogisticRegression.best_params_)"
   ]
  },
  {
   "cell_type": "code",
   "execution_count": 111,
   "metadata": {},
   "outputs": [],
   "source": [
    "# Now let us split the train as train & test to validate the model"
   ]
  },
  {
   "cell_type": "code",
   "execution_count": 112,
   "metadata": {},
   "outputs": [],
   "source": [
    "df_train_1_x, df_train_test_x, df_train_1_y, df_train_test_y = train_test_split(df_train_x,df_train_y, test_size = 0.3,random_state=12)"
   ]
  },
  {
   "cell_type": "code",
   "execution_count": 113,
   "metadata": {},
   "outputs": [
    {
     "data": {
      "text/plain": [
       "((206, 10), (478, 10))"
      ]
     },
     "execution_count": 113,
     "metadata": {},
     "output_type": "execute_result"
    }
   ],
   "source": [
    "df_train_test_x.shape,df_train_1_x.shape"
   ]
  },
  {
   "cell_type": "code",
   "execution_count": 141,
   "metadata": {},
   "outputs": [],
   "source": [
    "model_1 = LogisticRegression(l1_ratio= 0.8, max_iter = 70, penalty= 'l1', solver='saga')"
   ]
  },
  {
   "cell_type": "code",
   "execution_count": null,
   "metadata": {},
   "outputs": [],
   "source": []
  },
  {
   "cell_type": "code",
   "execution_count": 142,
   "metadata": {},
   "outputs": [
    {
     "data": {
      "text/plain": [
       "LogisticRegression(C=1.0, class_weight=None, dual=False, fit_intercept=True,\n",
       "                   intercept_scaling=1, l1_ratio=0.8, max_iter=70,\n",
       "                   multi_class='auto', n_jobs=None, penalty='l1',\n",
       "                   random_state=None, solver='saga', tol=0.0001, verbose=0,\n",
       "                   warm_start=False)"
      ]
     },
     "execution_count": 142,
     "metadata": {},
     "output_type": "execute_result"
    }
   ],
   "source": [
    "model_1.fit(df_train_1_x, df_train_1_y)"
   ]
  },
  {
   "cell_type": "code",
   "execution_count": 143,
   "metadata": {},
   "outputs": [],
   "source": [
    "df_train_test_y_pred=model_1.predict(df_train_test_x)"
   ]
  },
  {
   "cell_type": "code",
   "execution_count": 144,
   "metadata": {},
   "outputs": [
    {
     "name": "stdout",
     "output_type": "stream",
     "text": [
      "train_test  confusion_matrix \n",
      " [[83 32]\n",
      " [17 74]]\n",
      "train_test  accuracy_score     :  0.7621359223300971\n",
      "train_test  recall_score       :  0.8131868131868132\n",
      "train_test  precision_score    :  0.6981132075471698\n",
      "train_test  train f1_score     :  0.751269035532995\n",
      "train_test  train roc_auc_score:  0.7674629718107979\n",
      "train_test  classification report \n",
      "               precision    recall  f1-score   support\n",
      "\n",
      "         0.0       0.83      0.72      0.77       115\n",
      "         1.0       0.70      0.81      0.75        91\n",
      "\n",
      "    accuracy                           0.76       206\n",
      "   macro avg       0.76      0.77      0.76       206\n",
      "weighted avg       0.77      0.76      0.76       206\n",
      "\n"
     ]
    }
   ],
   "source": [
    "metric_res('train_test',df_train_test_y,df_train_test_y_pred)"
   ]
  },
  {
   "cell_type": "code",
   "execution_count": 145,
   "metadata": {},
   "outputs": [
    {
     "data": {
      "text/plain": [
       "<sklearn.metrics._plot.roc_curve.RocCurveDisplay at 0x288868b3f48>"
      ]
     },
     "execution_count": 145,
     "metadata": {},
     "output_type": "execute_result"
    },
    {
     "data": {
      "image/png": "[encoded data removed]",
      "text/plain": [
       "<Figure size 432x288 with 1 Axes>"
      ]
     },
     "metadata": {
      "needs_background": "light"
     },
     "output_type": "display_data"
    }
   ],
   "source": [
    "plot_roc_curve(model_1, df_train_test_x, df_train_test_y)"
   ]
  },
  {
   "cell_type": "code",
   "execution_count": 146,
   "metadata": {},
   "outputs": [],
   "source": [
    "# Further to validate let us test this model with cross_val_score to see the average\n",
    "# model_1 ie after train_test_split, gives 82.38% accuracy with cross_val_score\n",
    "# model ie before train_test_split also gives 82.38% accuracy with cross_val_score"
   ]
  },
  {
   "cell_type": "code",
   "execution_count": 147,
   "metadata": {},
   "outputs": [],
   "source": [
    "score=cross_val_score(model,df_train_x,df_train_y,cv=12,scoring='accuracy')"
   ]
  },
  {
   "cell_type": "code",
   "execution_count": 148,
   "metadata": {},
   "outputs": [
    {
     "data": {
      "text/plain": [
       "0.7880116959064328"
      ]
     },
     "execution_count": 148,
     "metadata": {},
     "output_type": "execute_result"
    }
   ],
   "source": [
    "score.mean()"
   ]
  },
  {
   "cell_type": "code",
   "execution_count": 149,
   "metadata": {},
   "outputs": [],
   "source": [
    "df_test_y_pred=model.predict(df_test_x)"
   ]
  },
  {
   "cell_type": "code",
   "execution_count": 150,
   "metadata": {},
   "outputs": [],
   "source": [
    "df_test_y_pred=pd.DataFrame(df_test_y_pred)"
   ]
  },
  {
   "cell_type": "code",
   "execution_count": 151,
   "metadata": {},
   "outputs": [],
   "source": [
    "df_test_y_pred.rename(columns={0:'Survived'},inplace=True)\n"
   ]
  },
  {
   "cell_type": "code",
   "execution_count": 152,
   "metadata": {},
   "outputs": [
    {
     "name": "stdout",
     "output_type": "stream",
     "text": [
      "<class 'pandas.core.frame.DataFrame'>\n",
      "RangeIndex: 418 entries, 0 to 417\n",
      "Data columns (total 12 columns):\n",
      " #   Column       Non-Null Count  Dtype  \n",
      "---  ------       --------------  -----  \n",
      " 0   PassengerId  418 non-null    int64  \n",
      " 1   Pclass       418 non-null    int64  \n",
      " 2   Name         418 non-null    object \n",
      " 3   Sex          418 non-null    object \n",
      " 4   Age          332 non-null    float64\n",
      " 5   SibSp        418 non-null    int64  \n",
      " 6   Parch        418 non-null    int64  \n",
      " 7   Ticket       418 non-null    object \n",
      " 8   Fare         417 non-null    float64\n",
      " 9   Cabin        91 non-null     object \n",
      " 10  Embarked     418 non-null    object \n",
      " 11  source       418 non-null    object \n",
      "dtypes: float64(2), int64(4), object(6)\n",
      "memory usage: 39.3+ KB\n"
     ]
    }
   ],
   "source": [
    "test.info()"
   ]
  },
  {
   "cell_type": "code",
   "execution_count": 153,
   "metadata": {},
   "outputs": [],
   "source": [
    "\n",
    "gender_submission=pd.concat([pd.DataFrame(test['PassengerId']),df_test_y_pred],axis=1)\n",
    "gender_submission=gender_submission.astype({'Survived':int})"
   ]
  },
  {
   "cell_type": "code",
   "execution_count": 154,
   "metadata": {},
   "outputs": [
    {
     "data": {
      "text/html": [
       "<div>\n",
       "<style scoped>\n",
       "    .dataframe tbody tr th:only-of-type {\n",
       "        vertical-align: middle;\n",
       "    }\n",
       "\n",
       "    .dataframe tbody tr th {\n",
       "        vertical-align: top;\n",
       "    }\n",
       "\n",
       "    .dataframe thead th {\n",
       "        text-align: right;\n",
       "    }\n",
       "</style>\n",
       "<table border=\"1\" class=\"dataframe\">\n",
       "  <thead>\n",
       "    <tr style=\"text-align: right;\">\n",
       "      <th></th>\n",
       "      <th>Survived</th>\n",
       "    </tr>\n",
       "  </thead>\n",
       "  <tbody>\n",
       "    <tr>\n",
       "      <th>0</th>\n",
       "      <td>0.0</td>\n",
       "    </tr>\n",
       "    <tr>\n",
       "      <th>1</th>\n",
       "      <td>1.0</td>\n",
       "    </tr>\n",
       "    <tr>\n",
       "      <th>2</th>\n",
       "      <td>0.0</td>\n",
       "    </tr>\n",
       "    <tr>\n",
       "      <th>3</th>\n",
       "      <td>0.0</td>\n",
       "    </tr>\n",
       "    <tr>\n",
       "      <th>4</th>\n",
       "      <td>1.0</td>\n",
       "    </tr>\n",
       "    <tr>\n",
       "      <th>...</th>\n",
       "      <td>...</td>\n",
       "    </tr>\n",
       "    <tr>\n",
       "      <th>413</th>\n",
       "      <td>0.0</td>\n",
       "    </tr>\n",
       "    <tr>\n",
       "      <th>414</th>\n",
       "      <td>1.0</td>\n",
       "    </tr>\n",
       "    <tr>\n",
       "      <th>415</th>\n",
       "      <td>0.0</td>\n",
       "    </tr>\n",
       "    <tr>\n",
       "      <th>416</th>\n",
       "      <td>0.0</td>\n",
       "    </tr>\n",
       "    <tr>\n",
       "      <th>417</th>\n",
       "      <td>1.0</td>\n",
       "    </tr>\n",
       "  </tbody>\n",
       "</table>\n",
       "<p>418 rows × 1 columns</p>\n",
       "</div>"
      ],
      "text/plain": [
       "     Survived\n",
       "0         0.0\n",
       "1         1.0\n",
       "2         0.0\n",
       "3         0.0\n",
       "4         1.0\n",
       "..        ...\n",
       "413       0.0\n",
       "414       1.0\n",
       "415       0.0\n",
       "416       0.0\n",
       "417       1.0\n",
       "\n",
       "[418 rows x 1 columns]"
      ]
     },
     "execution_count": 154,
     "metadata": {},
     "output_type": "execute_result"
    }
   ],
   "source": [
    "df_test_y_pred"
   ]
  },
  {
   "cell_type": "code",
   "execution_count": 155,
   "metadata": {},
   "outputs": [],
   "source": [
    "gender_submission.to_csv('gender_submission.csv',index=False)"
   ]
  },
  {
   "cell_type": "code",
   "execution_count": 156,
   "metadata": {},
   "outputs": [],
   "source": [
    "def create_poly(p_train,p_test, degree):\n",
    "    poly = PolynomialFeatures(degree = degree)\n",
    "    train_poly = poly.fit_transform(p_train)\n",
    "    test_poly = poly.fit_transform(p_test)\n",
    "    return train_poly, test_poly"
   ]
  },
  {
   "cell_type": "code",
   "execution_count": 157,
   "metadata": {},
   "outputs": [],
   "source": [
    "def model_fit(alg,train,test,y_train,y_test,scaler,if_cv = True,cv_folds = 5):\n",
    "    train_scaled = scaler.fit_transform(train)\n",
    "    test_scaled = scaler.transform(test)\n",
    "    alg.fit(train_scaled,y_train)\n",
    "    \n",
    "    #performing Cross Validation\n",
    "    if if_cv: \n",
    "        cv_score = cross_val_score(alg,train_scaled,y_train,cv = cv_folds,scoring = 'accuracy')\n",
    "    \n",
    "    predictions = alg.predict(test)\n",
    "    \n",
    "    #Print \n",
    "    print(\"\\n Model Report\")\n",
    "    print(classification_report(y_test,predictions))\n",
    "    \n",
    "    if if_cv: \n",
    "        print(\"CV REPORT :- Mean - %.7g | Std - %.7g | Min - %.7g | Max - %.7g\"%(np.mean(cv_score),np.std(cv_score),np.min(cv_score),np.max(cv_score)))\n",
    "    \n",
    "    print(\"Accuracy: \",accuracy_score(y_test,predictions))\n",
    "    print('-'*100)\n",
    "    \n",
    "    confu = pd.DataFrame(confusion_matrix(y_test,predictions))\n",
    "    print(confu)"
   ]
  },
  {
   "cell_type": "code",
   "execution_count": null,
   "metadata": {},
   "outputs": [],
   "source": []
  },
  {
   "cell_type": "code",
   "execution_count": 159,
   "metadata": {},
   "outputs": [],
   "source": [
    "# KNN implementation"
   ]
  },
  {
   "cell_type": "code",
   "execution_count": 176,
   "metadata": {},
   "outputs": [],
   "source": [
    "def KNN_predicts(train, train_test,y_train,y_test,scaler,neighbours, metric ='euclidean', weights = 'distance'):\n",
    "    train_scaled = scaler.fit_transform(train)\n",
    "    train_test_scaled = scaler.transform(train_test)\n",
    "\n",
    "    KNN = KNeighborsClassifier(n_neighbors =neighbours,leaf_size=35,metric = metric,weights = weights,n_jobs= 3)\n",
    "    KNN.fit(train_scaled,y_train)\n",
    "    predictions = KNN.predict(train_test_scaled)\n",
    "    \n",
    "\n",
    "    \n",
    "    print(\"Accuracy: \",accuracy_score(y_test,predictions))\n",
    "    print('-'*100)\n",
    "    return KNN"
   ]
  },
  {
   "cell_type": "code",
   "execution_count": null,
   "metadata": {},
   "outputs": [],
   "source": [
    "\n"
   ]
  },
  {
   "cell_type": "code",
   "execution_count": 177,
   "metadata": {},
   "outputs": [
    {
     "name": "stdout",
     "output_type": "stream",
     "text": [
      "Accuracy:  0.7718446601941747\n",
      "----------------------------------------------------------------------------------------------------\n"
     ]
    }
   ],
   "source": [
    "knn_model=KNN_predicts(df_train_1_x, df_train_test_x, df_train_1_y, df_train_test_y, StandardScaler(), 17,weights='distance') "
   ]
  },
  {
   "cell_type": "code",
   "execution_count": 178,
   "metadata": {},
   "outputs": [
    {
     "name": "stdout",
     "output_type": "stream",
     "text": [
      "Accuracy score on kNN using n_neighbours = 1: Accuracy:  0.6990291262135923\n",
      "----------------------------------------------------------------------------------------------------\n",
      "Accuracy score on kNN using n_neighbours = 2: Accuracy:  0.7572815533980582\n",
      "----------------------------------------------------------------------------------------------------\n",
      "Accuracy score on kNN using n_neighbours = 3: Accuracy:  0.7815533980582524\n",
      "----------------------------------------------------------------------------------------------------\n",
      "Accuracy score on kNN using n_neighbours = 4: Accuracy:  0.7864077669902912\n",
      "----------------------------------------------------------------------------------------------------\n",
      "Accuracy score on kNN using n_neighbours = 5: Accuracy:  0.7766990291262136\n",
      "----------------------------------------------------------------------------------------------------\n",
      "Accuracy score on kNN using n_neighbours = 6: Accuracy:  0.7766990291262136\n",
      "----------------------------------------------------------------------------------------------------\n",
      "Accuracy score on kNN using n_neighbours = 7: Accuracy:  0.7572815533980582\n",
      "----------------------------------------------------------------------------------------------------\n",
      "Accuracy score on kNN using n_neighbours = 8: Accuracy:  0.7815533980582524\n",
      "----------------------------------------------------------------------------------------------------\n",
      "Accuracy score on kNN using n_neighbours = 9: Accuracy:  0.7766990291262136\n",
      "----------------------------------------------------------------------------------------------------\n",
      "Accuracy score on kNN using n_neighbours = 10: Accuracy:  0.7815533980582524\n",
      "----------------------------------------------------------------------------------------------------\n",
      "Accuracy score on kNN using n_neighbours = 11: Accuracy:  0.7572815533980582\n",
      "----------------------------------------------------------------------------------------------------\n",
      "Accuracy score on kNN using n_neighbours = 12: Accuracy:  0.7815533980582524\n",
      "----------------------------------------------------------------------------------------------------\n",
      "Accuracy score on kNN using n_neighbours = 13: Accuracy:  0.7718446601941747\n",
      "----------------------------------------------------------------------------------------------------\n",
      "Accuracy score on kNN using n_neighbours = 14: Accuracy:  0.7669902912621359\n",
      "----------------------------------------------------------------------------------------------------\n",
      "Accuracy score on kNN using n_neighbours = 15: Accuracy:  0.7572815533980582\n",
      "----------------------------------------------------------------------------------------------------\n",
      "Accuracy score on kNN using n_neighbours = 16: Accuracy:  0.7621359223300971\n",
      "----------------------------------------------------------------------------------------------------\n",
      "Accuracy score on kNN using n_neighbours = 17: Accuracy:  0.7621359223300971\n",
      "----------------------------------------------------------------------------------------------------\n",
      "Accuracy score on kNN using n_neighbours = 18: Accuracy:  0.7669902912621359\n",
      "----------------------------------------------------------------------------------------------------\n",
      "Accuracy score on kNN using n_neighbours = 19: Accuracy:  0.7572815533980582\n",
      "----------------------------------------------------------------------------------------------------\n",
      "Accuracy score on kNN using n_neighbours = 20: Accuracy:  0.7621359223300971\n",
      "----------------------------------------------------------------------------------------------------\n"
     ]
    }
   ],
   "source": [
    "for k in range(1,21):\n",
    "    print('Accuracy score on kNN using n_neighbours = {0}:'.format(k), end = ' ')\n",
    "    knn_model=KNN_predicts(df_train_1_x, df_train_test_x, df_train_1_y, df_train_test_y, StandardScaler(), k,weights = 'uniform')"
   ]
  },
  {
   "cell_type": "code",
   "execution_count": 136,
   "metadata": {},
   "outputs": [
    {
     "data": {
      "text/plain": [
       "dict_keys(['algorithm', 'leaf_size', 'metric', 'metric_params', 'n_jobs', 'n_neighbors', 'p', 'weights'])"
      ]
     },
     "execution_count": 136,
     "metadata": {},
     "output_type": "execute_result"
    }
   ],
   "source": [
    "knn_model.get_params().keys()"
   ]
  },
  {
   "cell_type": "code",
   "execution_count": 137,
   "metadata": {},
   "outputs": [
    {
     "name": "stdout",
     "output_type": "stream",
     "text": [
      "RFC best parameters : {'leaf_size': 35, 'metric': 'euclidean', 'n_neighbors': 17, 'weights': 'distance'}\n"
     ]
    }
   ],
   "source": [
    "param_grid = { \n",
    "    'n_neighbors': [1,3,5,7,9,11,13,15,17],\n",
    "    'leaf_size': [1,2,3,4,5,6,7,8,9,10,15,20,25,30,35],\n",
    "    'metric': ['euclidean','manhattan','chebyshev','minkowski','seuclidean','mahalanobis'],\n",
    "    'weights': ['uniform', 'distance']\n",
    "}\n",
    "\n",
    "CV_rfc = GridSearchCV(estimator=knn_model, param_grid=param_grid,n_jobs=3, cv= 5)\n",
    "scaler=StandardScaler()\n",
    "train_scaled = scaler.fit_transform(df_train_x)\n",
    "CV_rfc.fit(train_scaled,df_train_y)\n",
    "#CV_rfc.fit(train_scaled, df_train_1_y)\n",
    "print('RFC best parameters :', CV_rfc.best_params_)"
   ]
  },
  {
   "cell_type": "code",
   "execution_count": 168,
   "metadata": {},
   "outputs": [
    {
     "name": "stdout",
     "output_type": "stream",
     "text": [
      "train_test  confusion_matrix \n",
      " [[85 30]\n",
      " [19 72]]\n",
      "train_test  accuracy_score     :  0.7621359223300971\n",
      "train_test  recall_score       :  0.7912087912087912\n",
      "train_test  precision_score    :  0.7058823529411765\n",
      "train_test  train f1_score     :  0.7461139896373057\n",
      "train_test  train roc_auc_score:  0.7651696129956999\n",
      "train_test  classification report \n",
      "               precision    recall  f1-score   support\n",
      "\n",
      "         0.0       0.82      0.74      0.78       115\n",
      "         1.0       0.71      0.79      0.75        91\n",
      "\n",
      "    accuracy                           0.76       206\n",
      "   macro avg       0.76      0.77      0.76       206\n",
      "weighted avg       0.77      0.76      0.76       206\n",
      "\n",
      "train  confusion_matrix \n",
      " [[266  76]\n",
      " [ 67 275]]\n",
      "train  accuracy_score     :  0.7909356725146199\n",
      "train  recall_score       :  0.804093567251462\n",
      "train  precision_score    :  0.7834757834757835\n",
      "train  train f1_score     :  0.7936507936507936\n",
      "train  train roc_auc_score:  0.7909356725146199\n",
      "train  classification report \n",
      "               precision    recall  f1-score   support\n",
      "\n",
      "         0.0       0.80      0.78      0.79       342\n",
      "         1.0       0.78      0.80      0.79       342\n",
      "\n",
      "    accuracy                           0.79       684\n",
      "   macro avg       0.79      0.79      0.79       684\n",
      "weighted avg       0.79      0.79      0.79       684\n",
      "\n"
     ]
    },
    {
     "data": {
      "text/plain": [
       "<sklearn.metrics._plot.roc_curve.RocCurveDisplay at 0x28885c74108>"
      ]
     },
     "execution_count": 168,
     "metadata": {},
     "output_type": "execute_result"
    },
    {
     "data": {
      "image/png": "[encoded data removed]",
      "text/plain": [
       "<Figure size 432x288 with 1 Axes>"
      ]
     },
     "metadata": {
      "needs_background": "light"
     },
     "output_type": "display_data"
    },
    {
     "data": {
      "image/png": "[encoded data removed]",
      "text/plain": [
       "<Figure size 432x288 with 1 Axes>"
      ]
     },
     "metadata": {
      "needs_background": "light"
     },
     "output_type": "display_data"
    }
   ],
   "source": [
    "scaler=StandardScaler()\n",
    "train_scaled = scaler.fit_transform(df_train_1_x)\n",
    "train_test_scaled = scaler.transform(df_train_test_x)\n",
    "test_scaled = scaler.transform(df_test_x)\n",
    "df_train_test_y_pred = knn_model.predict(train_test_scaled)\n",
    "metric_res( 'train_test',df_train_test_y,df_train_test_y_pred)\n",
    "plot_roc_curve(knn_model, train_test_scaled, df_train_test_y)\n",
    "## for the whole train data\n",
    "\n",
    "train_scaled = scaler.transform(df_train_x)\n",
    "df_train_y_pred = knn_model.predict(train_scaled)\n",
    "metric_res('train', df_train_y,df_train_y_pred)\n",
    "plot_roc_curve(knn_model, train_scaled, df_train_y)"
   ]
  },
  {
   "cell_type": "code",
   "execution_count": null,
   "metadata": {},
   "outputs": [],
   "source": []
  },
  {
   "cell_type": "code",
   "execution_count": 169,
   "metadata": {},
   "outputs": [
    {
     "data": {
      "text/plain": [
       "0.7822241305281237"
      ]
     },
     "execution_count": 169,
     "metadata": {},
     "output_type": "execute_result"
    }
   ],
   "source": [
    "cv_score = cross_val_score(knn_model,train_scaled,df_train_y,cv = 5,scoring = 'accuracy')\n",
    "cv_score.mean()"
   ]
  },
  {
   "cell_type": "code",
   "execution_count": 170,
   "metadata": {},
   "outputs": [],
   "source": [
    "df_test_y_pred = knn_model.predict(test_scaled)\n"
   ]
  },
  {
   "cell_type": "code",
   "execution_count": 171,
   "metadata": {},
   "outputs": [],
   "source": [
    "submission_file_generation( knn_model,test_scaled)"
   ]
  },
  {
   "cell_type": "code",
   "execution_count": null,
   "metadata": {},
   "outputs": [],
   "source": []
  },
  {
   "cell_type": "code",
   "execution_count": 172,
   "metadata": {},
   "outputs": [
    {
     "data": {
      "image/png": "[encoded data removed]",
      "text/plain": [
       "<Figure size 432x288 with 1 Axes>"
      ]
     },
     "metadata": {
      "needs_background": "light"
     },
     "output_type": "display_data"
    }
   ],
   "source": [
    "rfc_model = RandomForestClassifier(n_estimators=28,criterion='gini',min_samples_split=6,max_features='log2',random_state=1,n_jobs=3)\n",
    "scaler = StandardScaler()\n",
    "train_1_scaled = scaler.fit_transform(df_train_1_x)\n",
    "train_test_scaled = scaler.transform(df_train_test_x)\n",
    "test_scaled = scaler.transform(df_test_x)\n",
    "rfc_model.fit(train_1_scaled, df_train_1_y)\n",
    "#rfc_model.fit(df_train_1_x,df_train_1_y)\n",
    "rfc_find_important_features(rfc_model,df_train_1_x)\n"
   ]
  },
  {
   "cell_type": "code",
   "execution_count": 173,
   "metadata": {},
   "outputs": [
    {
     "name": "stdout",
     "output_type": "stream",
     "text": [
      "RFC best parameters : {'criterion': 'gini', 'max_features': 'auto', 'min_samples_split': 7, 'n_estimators': 15}\n"
     ]
    }
   ],
   "source": [
    "param_grid = { \n",
    "     'criterion' : ['gini','entropy'],\n",
    "    'n_estimators': [10,15,20,25,27,28,30,40,41,42,43,44,45,46,47],\n",
    "    'max_features': ['auto', 'sqrt', 'log2'],\n",
    "    'min_samples_split': [4,5,6,7,8,9,10,11,12]\n",
    "}\n",
    "\n",
    "CV_rfc = GridSearchCV(estimator=rfc_model, param_grid=param_grid,n_jobs=3, cv= 5)\n",
    "#CV_rfc.fit(df_train_1_x,df_train_1_y)\n",
    "CV_rfc.fit(train_1_scaled, df_train_1_y)\n",
    "print('RFC best parameters :', CV_rfc.best_params_)"
   ]
  },
  {
   "cell_type": "code",
   "execution_count": 253,
   "metadata": {},
   "outputs": [
    {
     "name": "stdout",
     "output_type": "stream",
     "text": [
      "train_test  confusion_matrix \n",
      " [[79 36]\n",
      " [18 73]]\n",
      "train_test  accuracy_score     :  0.7378640776699029\n",
      "train_test  recall_score       :  0.8021978021978022\n",
      "train_test  precision_score    :  0.6697247706422018\n",
      "train_test  train f1_score     :  0.7300000000000001\n",
      "train_test  train roc_auc_score:  0.7445771619684665\n",
      "train_test  classification report \n",
      "               precision    recall  f1-score   support\n",
      "\n",
      "         0.0       0.81      0.69      0.75       115\n",
      "         1.0       0.67      0.80      0.73        91\n",
      "\n",
      "    accuracy                           0.74       206\n",
      "   macro avg       0.74      0.74      0.74       206\n",
      "weighted avg       0.75      0.74      0.74       206\n",
      "\n"
     ]
    },
    {
     "data": {
      "text/plain": [
       "<sklearn.metrics._plot.roc_curve.RocCurveDisplay at 0x203cc344308>"
      ]
     },
     "execution_count": 253,
     "metadata": {},
     "output_type": "execute_result"
    },
    {
     "data": {
      "image/png": "[encoded data removed]",
      "text/plain": [
       "<Figure size 432x288 with 1 Axes>"
      ]
     },
     "metadata": {
      "needs_background": "light"
     },
     "output_type": "display_data"
    }
   ],
   "source": [
    "rfc_model = RandomForestClassifier(n_estimators=42,criterion='gini',min_samples_split=12,max_features='auto',random_state=1,n_jobs=3)\n",
    "scaler = StandardScaler()\n",
    "train_scaled = scaler.fit_transform(df_train_x)\n",
    "train_1_scaled = scaler.transform(df_train_1_x)\n",
    "train_test_scaled = scaler.transform(df_train_test_x)\n",
    "#test_scaled = scaler.transform(df_test_x)\n",
    "#rfc_model.fit(df_train_1_x, df_train_1_y)\n",
    "rfc_model.fit(train_1_scaled,df_train_1_y)\n",
    "#pd.Series(model.coef_,index=test_x.columns).plot(kind = \"bar\")\n",
    "#df_train_test_y_pred=CV_rfc.predict(train_test_scaled)\n",
    "df_train_test_y_pred=rfc_model.predict(train_test_scaled)\n",
    "#df_train_test_y_pred=rfc_model.predict(df_train_test_x)\n",
    "#df_train_1_y_pred = \n",
    "#pred_test = abs(pred_train)\n",
    "metric_res( 'train_test',df_train_test_y,df_train_test_y_pred)\n",
    "plot_roc_curve(rfc_model, train_test_scaled, df_train_test_y)"
   ]
  },
  {
   "cell_type": "code",
   "execution_count": 254,
   "metadata": {},
   "outputs": [
    {
     "data": {
      "text/plain": [
       "(684, 8)"
      ]
     },
     "execution_count": 254,
     "metadata": {},
     "output_type": "execute_result"
    }
   ],
   "source": [
    "df_train_x.shape"
   ]
  },
  {
   "cell_type": "code",
   "execution_count": 255,
   "metadata": {},
   "outputs": [
    {
     "data": {
      "text/plain": [
       "(684, 8)"
      ]
     },
     "execution_count": 255,
     "metadata": {},
     "output_type": "execute_result"
    }
   ],
   "source": [
    "train_scaled.shape"
   ]
  },
  {
   "cell_type": "code",
   "execution_count": 258,
   "metadata": {},
   "outputs": [
    {
     "name": "stdout",
     "output_type": "stream",
     "text": [
      "cv_score mean 0.6125053671103478\n",
      "train  confusion_matrix \n",
      " [[257  85]\n",
      " [ 67 275]]\n",
      "train  accuracy_score     :  0.7777777777777778\n",
      "train  recall_score       :  0.804093567251462\n",
      "train  precision_score    :  0.7638888888888888\n",
      "train  train f1_score     :  0.7834757834757835\n",
      "train  train roc_auc_score:  0.7777777777777778\n",
      "train  classification report \n",
      "               precision    recall  f1-score   support\n",
      "\n",
      "         0.0       0.79      0.75      0.77       342\n",
      "         1.0       0.76      0.80      0.78       342\n",
      "\n",
      "    accuracy                           0.78       684\n",
      "   macro avg       0.78      0.78      0.78       684\n",
      "weighted avg       0.78      0.78      0.78       684\n",
      "\n"
     ]
    },
    {
     "data": {
      "text/plain": [
       "<sklearn.metrics._plot.roc_curve.RocCurveDisplay at 0x203ca339b48>"
      ]
     },
     "execution_count": 258,
     "metadata": {},
     "output_type": "execute_result"
    },
    {
     "data": {
      "image/png": "[encoded data removed]",
      "text/plain": [
       "<Figure size 432x288 with 1 Axes>"
      ]
     },
     "metadata": {
      "needs_background": "light"
     },
     "output_type": "display_data"
    }
   ],
   "source": [
    "cv_score = cross_val_score(rfc_model,train_scaled,df_train_y,cv = 5,scoring = 'accuracy')\n",
    "print('cv_score mean', cv_score.mean())\n",
    "train_y_pred = rfc_model.predict(train_scaled)\n",
    "metric_res('train', df_train_y,df_train_y_pred)\n",
    "plot_roc_curve(rfc_model, train_test_scaled, df_train_test_y)"
   ]
  },
  {
   "cell_type": "code",
   "execution_count": 197,
   "metadata": {},
   "outputs": [
    {
     "data": {
      "text/plain": [
       "array([[0.90617914, 0.09382086],\n",
       "       [0.90617914, 0.09382086],\n",
       "       [0.90617914, 0.09382086],\n",
       "       [0.85607993, 0.14392007],\n",
       "       [0.90617914, 0.09382086],\n",
       "       [0.90617914, 0.09382086],\n",
       "       [0.95238095, 0.04761905],\n",
       "       [0.85607993, 0.14392007],\n",
       "       [0.85607993, 0.14392007],\n",
       "       [0.90617914, 0.09382086],\n",
       "       [0.85607993, 0.14392007],\n",
       "       [1.        , 0.        ],\n",
       "       [0.90617914, 0.09382086],\n",
       "       [0.85607993, 0.14392007],\n",
       "       [0.87988946, 0.12011054],\n",
       "       [0.85607993, 0.14392007],\n",
       "       [0.90617914, 0.09382086],\n",
       "       [0.85607993, 0.14392007],\n",
       "       [1.        , 0.        ],\n",
       "       [1.        , 0.        ],\n",
       "       [0.90617914, 0.09382086],\n",
       "       [0.90617914, 0.09382086],\n",
       "       [0.90617914, 0.09382086],\n",
       "       [0.87988946, 0.12011054],\n",
       "       [0.95238095, 0.04761905],\n",
       "       [0.90617914, 0.09382086],\n",
       "       [0.85607993, 0.14392007],\n",
       "       [0.85607993, 0.14392007],\n",
       "       [0.85607993, 0.14392007],\n",
       "       [0.85607993, 0.14392007],\n",
       "       [1.        , 0.        ],\n",
       "       [1.        , 0.        ],\n",
       "       [0.95238095, 0.04761905],\n",
       "       [0.90617914, 0.09382086],\n",
       "       [0.85607993, 0.14392007],\n",
       "       [0.85607993, 0.14392007],\n",
       "       [1.        , 0.        ],\n",
       "       [0.85607993, 0.14392007],\n",
       "       [0.90617914, 0.09382086],\n",
       "       [0.95238095, 0.04761905],\n",
       "       [0.90617914, 0.09382086],\n",
       "       [0.85607993, 0.14392007],\n",
       "       [0.85607993, 0.14392007],\n",
       "       [0.85607993, 0.14392007],\n",
       "       [0.85607993, 0.14392007],\n",
       "       [1.        , 0.        ],\n",
       "       [0.88236961, 0.11763039],\n",
       "       [1.        , 0.        ],\n",
       "       [0.85607993, 0.14392007],\n",
       "       [0.85607993, 0.14392007],\n",
       "       [0.85607993, 0.14392007],\n",
       "       [0.87988946, 0.12011054],\n",
       "       [0.85607993, 0.14392007],\n",
       "       [0.85607993, 0.14392007],\n",
       "       [1.        , 0.        ],\n",
       "       [1.        , 0.        ],\n",
       "       [0.90617914, 0.09382086],\n",
       "       [0.85607993, 0.14392007],\n",
       "       [0.85607993, 0.14392007],\n",
       "       [0.85607993, 0.14392007],\n",
       "       [0.85607993, 0.14392007],\n",
       "       [0.85607993, 0.14392007],\n",
       "       [0.87988946, 0.12011054],\n",
       "       [0.90617914, 0.09382086],\n",
       "       [0.85607993, 0.14392007],\n",
       "       [0.87988946, 0.12011054],\n",
       "       [0.88236961, 0.11763039],\n",
       "       [0.90617914, 0.09382086],\n",
       "       [0.85607993, 0.14392007],\n",
       "       [1.        , 0.        ],\n",
       "       [1.        , 0.        ],\n",
       "       [1.        , 0.        ],\n",
       "       [0.85607993, 0.14392007],\n",
       "       [0.90617914, 0.09382086],\n",
       "       [0.95238095, 0.04761905],\n",
       "       [0.87988946, 0.12011054],\n",
       "       [0.90617914, 0.09382086],\n",
       "       [0.85607993, 0.14392007],\n",
       "       [0.88236961, 0.11763039],\n",
       "       [0.90617914, 0.09382086],\n",
       "       [0.87988946, 0.12011054],\n",
       "       [0.85607993, 0.14392007],\n",
       "       [0.85607993, 0.14392007],\n",
       "       [0.85607993, 0.14392007],\n",
       "       [1.        , 0.        ],\n",
       "       [0.85607993, 0.14392007],\n",
       "       [0.85607993, 0.14392007],\n",
       "       [1.        , 0.        ],\n",
       "       [0.90617914, 0.09382086],\n",
       "       [0.85607993, 0.14392007],\n",
       "       [1.        , 0.        ],\n",
       "       [0.85607993, 0.14392007],\n",
       "       [0.85607993, 0.14392007],\n",
       "       [0.87988946, 0.12011054],\n",
       "       [0.85607993, 0.14392007],\n",
       "       [1.        , 0.        ],\n",
       "       [0.88236961, 0.11763039],\n",
       "       [0.87988946, 0.12011054],\n",
       "       [0.90617914, 0.09382086],\n",
       "       [0.87988946, 0.12011054],\n",
       "       [0.85607993, 0.14392007],\n",
       "       [0.85607993, 0.14392007],\n",
       "       [0.85607993, 0.14392007],\n",
       "       [0.90617914, 0.09382086],\n",
       "       [0.85607993, 0.14392007],\n",
       "       [1.        , 0.        ],\n",
       "       [0.85607993, 0.14392007],\n",
       "       [0.90617914, 0.09382086],\n",
       "       [0.95238095, 0.04761905],\n",
       "       [0.85607993, 0.14392007],\n",
       "       [0.85607993, 0.14392007],\n",
       "       [0.85607993, 0.14392007],\n",
       "       [0.85607993, 0.14392007],\n",
       "       [0.85607993, 0.14392007],\n",
       "       [0.87988946, 0.12011054],\n",
       "       [0.85607993, 0.14392007],\n",
       "       [0.85607993, 0.14392007],\n",
       "       [0.90617914, 0.09382086],\n",
       "       [0.85607993, 0.14392007],\n",
       "       [1.        , 0.        ],\n",
       "       [0.85607993, 0.14392007],\n",
       "       [1.        , 0.        ],\n",
       "       [0.85607993, 0.14392007],\n",
       "       [1.        , 0.        ],\n",
       "       [0.95238095, 0.04761905],\n",
       "       [0.85607993, 0.14392007],\n",
       "       [0.90617914, 0.09382086],\n",
       "       [0.88236961, 0.11763039],\n",
       "       [0.85607993, 0.14392007],\n",
       "       [0.88236961, 0.11763039],\n",
       "       [0.85607993, 0.14392007],\n",
       "       [0.87988946, 0.12011054],\n",
       "       [0.90617914, 0.09382086],\n",
       "       [0.90617914, 0.09382086],\n",
       "       [0.85607993, 0.14392007],\n",
       "       [0.88236961, 0.11763039],\n",
       "       [1.        , 0.        ],\n",
       "       [0.85607993, 0.14392007],\n",
       "       [0.87988946, 0.12011054],\n",
       "       [0.90617914, 0.09382086],\n",
       "       [0.90617914, 0.09382086],\n",
       "       [0.88236961, 0.11763039],\n",
       "       [1.        , 0.        ],\n",
       "       [0.90617914, 0.09382086],\n",
       "       [0.87988946, 0.12011054],\n",
       "       [0.85607993, 0.14392007],\n",
       "       [0.85607993, 0.14392007],\n",
       "       [0.95238095, 0.04761905],\n",
       "       [0.85607993, 0.14392007],\n",
       "       [0.85607993, 0.14392007],\n",
       "       [1.        , 0.        ],\n",
       "       [0.87988946, 0.12011054],\n",
       "       [1.        , 0.        ],\n",
       "       [0.95238095, 0.04761905],\n",
       "       [0.85607993, 0.14392007],\n",
       "       [0.87988946, 0.12011054],\n",
       "       [1.        , 0.        ],\n",
       "       [0.85607993, 0.14392007],\n",
       "       [0.95238095, 0.04761905],\n",
       "       [1.        , 0.        ],\n",
       "       [0.85607993, 0.14392007],\n",
       "       [0.90617914, 0.09382086],\n",
       "       [0.90617914, 0.09382086],\n",
       "       [1.        , 0.        ],\n",
       "       [0.88236961, 0.11763039],\n",
       "       [0.90617914, 0.09382086],\n",
       "       [0.87988946, 0.12011054],\n",
       "       [0.85607993, 0.14392007],\n",
       "       [0.95238095, 0.04761905],\n",
       "       [0.87988946, 0.12011054],\n",
       "       [0.87988946, 0.12011054],\n",
       "       [0.85607993, 0.14392007],\n",
       "       [0.90617914, 0.09382086],\n",
       "       [0.85607993, 0.14392007],\n",
       "       [1.        , 0.        ],\n",
       "       [0.85607993, 0.14392007],\n",
       "       [0.90617914, 0.09382086],\n",
       "       [1.        , 0.        ],\n",
       "       [0.85607993, 0.14392007],\n",
       "       [0.85607993, 0.14392007],\n",
       "       [0.90617914, 0.09382086],\n",
       "       [0.90617914, 0.09382086],\n",
       "       [1.        , 0.        ],\n",
       "       [0.85607993, 0.14392007],\n",
       "       [1.        , 0.        ],\n",
       "       [0.85607993, 0.14392007],\n",
       "       [0.90617914, 0.09382086],\n",
       "       [0.85607993, 0.14392007],\n",
       "       [0.85607993, 0.14392007],\n",
       "       [0.87988946, 0.12011054],\n",
       "       [1.        , 0.        ],\n",
       "       [0.88236961, 0.11763039],\n",
       "       [0.85607993, 0.14392007],\n",
       "       [0.85607993, 0.14392007],\n",
       "       [0.90617914, 0.09382086],\n",
       "       [0.85607993, 0.14392007],\n",
       "       [0.87988946, 0.12011054],\n",
       "       [0.85607993, 0.14392007],\n",
       "       [0.90617914, 0.09382086],\n",
       "       [0.87988946, 0.12011054],\n",
       "       [1.        , 0.        ],\n",
       "       [0.90617914, 0.09382086],\n",
       "       [0.87988946, 0.12011054],\n",
       "       [1.        , 0.        ],\n",
       "       [0.90617914, 0.09382086],\n",
       "       [0.95238095, 0.04761905],\n",
       "       [1.        , 0.        ],\n",
       "       [0.85607993, 0.14392007],\n",
       "       [0.90617914, 0.09382086],\n",
       "       [0.90617914, 0.09382086],\n",
       "       [0.85607993, 0.14392007],\n",
       "       [1.        , 0.        ],\n",
       "       [1.        , 0.        ],\n",
       "       [0.85607993, 0.14392007],\n",
       "       [0.85607993, 0.14392007],\n",
       "       [1.        , 0.        ],\n",
       "       [0.90617914, 0.09382086],\n",
       "       [0.90617914, 0.09382086],\n",
       "       [0.87988946, 0.12011054],\n",
       "       [0.85607993, 0.14392007],\n",
       "       [0.90617914, 0.09382086],\n",
       "       [1.        , 0.        ],\n",
       "       [0.90617914, 0.09382086],\n",
       "       [1.        , 0.        ],\n",
       "       [0.85607993, 0.14392007],\n",
       "       [0.95535714, 0.04464286],\n",
       "       [0.85607993, 0.14392007],\n",
       "       [1.        , 0.        ],\n",
       "       [0.85607993, 0.14392007],\n",
       "       [0.95238095, 0.04761905],\n",
       "       [1.        , 0.        ],\n",
       "       [0.85607993, 0.14392007],\n",
       "       [0.85607993, 0.14392007],\n",
       "       [0.85607993, 0.14392007],\n",
       "       [1.        , 0.        ],\n",
       "       [0.85607993, 0.14392007],\n",
       "       [0.90617914, 0.09382086],\n",
       "       [1.        , 0.        ],\n",
       "       [0.90617914, 0.09382086],\n",
       "       [0.85607993, 0.14392007],\n",
       "       [0.85607993, 0.14392007],\n",
       "       [0.85607993, 0.14392007],\n",
       "       [0.87988946, 0.12011054],\n",
       "       [0.85607993, 0.14392007],\n",
       "       [0.90617914, 0.09382086],\n",
       "       [0.85607993, 0.14392007],\n",
       "       [0.85607993, 0.14392007],\n",
       "       [1.        , 0.        ],\n",
       "       [1.        , 0.        ],\n",
       "       [0.90617914, 0.09382086],\n",
       "       [0.87988946, 0.12011054],\n",
       "       [0.85607993, 0.14392007],\n",
       "       [0.87988946, 0.12011054],\n",
       "       [0.88236961, 0.11763039],\n",
       "       [1.        , 0.        ],\n",
       "       [0.90617914, 0.09382086],\n",
       "       [0.90617914, 0.09382086],\n",
       "       [0.85607993, 0.14392007],\n",
       "       [0.85607993, 0.14392007],\n",
       "       [0.90617914, 0.09382086],\n",
       "       [0.87988946, 0.12011054],\n",
       "       [0.90617914, 0.09382086],\n",
       "       [0.88236961, 0.11763039],\n",
       "       [0.85607993, 0.14392007],\n",
       "       [0.90617914, 0.09382086],\n",
       "       [0.90617914, 0.09382086],\n",
       "       [1.        , 0.        ],\n",
       "       [0.85607993, 0.14392007]])"
      ]
     },
     "execution_count": 197,
     "metadata": {},
     "output_type": "execute_result"
    }
   ],
   "source": [
    "rfc_model.predict_proba(df_train_test_x)"
   ]
  },
  {
   "cell_type": "code",
   "execution_count": 198,
   "metadata": {},
   "outputs": [
    {
     "name": "stdout",
     "output_type": "stream",
     "text": [
      "<class 'pandas.core.frame.DataFrame'>\n",
      "Int64Index: 418 entries, 0 to 417\n",
      "Data columns (total 8 columns):\n",
      " #   Column       Non-Null Count  Dtype\n",
      "---  ------       --------------  -----\n",
      " 0   PassengerId  418 non-null    int64\n",
      " 1   Pclass       418 non-null    int64\n",
      " 2   Sex          418 non-null    int32\n",
      " 3   GroupTkt     418 non-null    int32\n",
      " 4   Title_Miss   418 non-null    uint8\n",
      " 5   Title_Mr     418 non-null    uint8\n",
      " 6   Title_Mrs    418 non-null    uint8\n",
      " 7   Fare_Cat     418 non-null    int64\n",
      "dtypes: int32(2), int64(3), uint8(3)\n",
      "memory usage: 17.6 KB\n"
     ]
    }
   ],
   "source": [
    "df_test_x.info()"
   ]
  },
  {
   "cell_type": "code",
   "execution_count": 199,
   "metadata": {},
   "outputs": [
    {
     "name": "stdout",
     "output_type": "stream",
     "text": [
      "<class 'pandas.core.frame.DataFrame'>\n",
      "Int64Index: 418 entries, 0 to 417\n",
      "Data columns (total 8 columns):\n",
      " #   Column       Non-Null Count  Dtype\n",
      "---  ------       --------------  -----\n",
      " 0   PassengerId  418 non-null    int64\n",
      " 1   Pclass       418 non-null    int64\n",
      " 2   Sex          418 non-null    int32\n",
      " 3   GroupTkt     418 non-null    int32\n",
      " 4   Title_Miss   418 non-null    uint8\n",
      " 5   Title_Mr     418 non-null    uint8\n",
      " 6   Title_Mrs    418 non-null    uint8\n",
      " 7   Fare_Cat     418 non-null    int64\n",
      "dtypes: int32(2), int64(3), uint8(3)\n",
      "memory usage: 17.6 KB\n"
     ]
    }
   ],
   "source": [
    "df_test_x.info()"
   ]
  },
  {
   "cell_type": "code",
   "execution_count": 259,
   "metadata": {},
   "outputs": [],
   "source": [
    "submission_file_generation(rfc_model,test_scaled)"
   ]
  },
  {
   "cell_type": "code",
   "execution_count": null,
   "metadata": {},
   "outputs": [],
   "source": []
  },
  {
   "cell_type": "code",
   "execution_count": null,
   "metadata": {},
   "outputs": [],
   "source": []
  },
  {
   "cell_type": "code",
   "execution_count": 201,
   "metadata": {},
   "outputs": [
    {
     "data": {
      "text/plain": [
       "numpy.ndarray"
      ]
     },
     "execution_count": 201,
     "metadata": {},
     "output_type": "execute_result"
    }
   ],
   "source": [
    "type(df_train_test_y_pred)"
   ]
  },
  {
   "cell_type": "code",
   "execution_count": 202,
   "metadata": {},
   "outputs": [
    {
     "data": {
      "text/plain": [
       "pandas.core.series.Series"
      ]
     },
     "execution_count": 202,
     "metadata": {},
     "output_type": "execute_result"
    }
   ],
   "source": [
    "type(df_train_test_y)"
   ]
  },
  {
   "cell_type": "code",
   "execution_count": 260,
   "metadata": {},
   "outputs": [
    {
     "data": {
      "text/html": [
       "<div>\n",
       "<style scoped>\n",
       "    .dataframe tbody tr th:only-of-type {\n",
       "        vertical-align: middle;\n",
       "    }\n",
       "\n",
       "    .dataframe tbody tr th {\n",
       "        vertical-align: top;\n",
       "    }\n",
       "\n",
       "    .dataframe thead th {\n",
       "        text-align: right;\n",
       "    }\n",
       "</style>\n",
       "<table border=\"1\" class=\"dataframe\">\n",
       "  <thead>\n",
       "    <tr style=\"text-align: right;\">\n",
       "      <th></th>\n",
       "      <th>PassengerId</th>\n",
       "      <th>Survived</th>\n",
       "      <th>Pclass</th>\n",
       "      <th>Sex</th>\n",
       "      <th>GroupTkt</th>\n",
       "      <th>Title_Miss</th>\n",
       "      <th>Title_Mr</th>\n",
       "      <th>Title_Mrs</th>\n",
       "      <th>Fare_Cat</th>\n",
       "    </tr>\n",
       "  </thead>\n",
       "  <tbody>\n",
       "    <tr>\n",
       "      <th>PassengerId</th>\n",
       "      <td>1.000000</td>\n",
       "      <td>NaN</td>\n",
       "      <td>0.409106</td>\n",
       "      <td>-0.133783</td>\n",
       "      <td>-0.465338</td>\n",
       "      <td>0.326884</td>\n",
       "      <td>0.027353</td>\n",
       "      <td>-0.289022</td>\n",
       "      <td>-0.437469</td>\n",
       "    </tr>\n",
       "    <tr>\n",
       "      <th>Survived</th>\n",
       "      <td>NaN</td>\n",
       "      <td>NaN</td>\n",
       "      <td>NaN</td>\n",
       "      <td>NaN</td>\n",
       "      <td>NaN</td>\n",
       "      <td>NaN</td>\n",
       "      <td>NaN</td>\n",
       "      <td>NaN</td>\n",
       "      <td>NaN</td>\n",
       "    </tr>\n",
       "    <tr>\n",
       "      <th>Pclass</th>\n",
       "      <td>0.409106</td>\n",
       "      <td>NaN</td>\n",
       "      <td>1.000000</td>\n",
       "      <td>-0.346844</td>\n",
       "      <td>-0.503027</td>\n",
       "      <td>0.290191</td>\n",
       "      <td>-0.286770</td>\n",
       "      <td>0.157378</td>\n",
       "      <td>-0.755491</td>\n",
       "    </tr>\n",
       "    <tr>\n",
       "      <th>Sex</th>\n",
       "      <td>-0.133783</td>\n",
       "      <td>NaN</td>\n",
       "      <td>-0.346844</td>\n",
       "      <td>1.000000</td>\n",
       "      <td>0.033150</td>\n",
       "      <td>-0.836660</td>\n",
       "      <td>0.755929</td>\n",
       "      <td>-0.453743</td>\n",
       "      <td>0.419717</td>\n",
       "    </tr>\n",
       "    <tr>\n",
       "      <th>GroupTkt</th>\n",
       "      <td>-0.465338</td>\n",
       "      <td>NaN</td>\n",
       "      <td>-0.503027</td>\n",
       "      <td>0.033150</td>\n",
       "      <td>1.000000</td>\n",
       "      <td>-0.277350</td>\n",
       "      <td>-0.350823</td>\n",
       "      <td>0.391077</td>\n",
       "      <td>0.812740</td>\n",
       "    </tr>\n",
       "    <tr>\n",
       "      <th>Title_Miss</th>\n",
       "      <td>0.326884</td>\n",
       "      <td>NaN</td>\n",
       "      <td>0.290191</td>\n",
       "      <td>-0.836660</td>\n",
       "      <td>-0.277350</td>\n",
       "      <td>1.000000</td>\n",
       "      <td>-0.632456</td>\n",
       "      <td>-0.108465</td>\n",
       "      <td>-0.460142</td>\n",
       "    </tr>\n",
       "    <tr>\n",
       "      <th>Title_Mr</th>\n",
       "      <td>0.027353</td>\n",
       "      <td>NaN</td>\n",
       "      <td>-0.286770</td>\n",
       "      <td>0.755929</td>\n",
       "      <td>-0.350823</td>\n",
       "      <td>-0.632456</td>\n",
       "      <td>1.000000</td>\n",
       "      <td>-0.342997</td>\n",
       "      <td>0.038292</td>\n",
       "    </tr>\n",
       "    <tr>\n",
       "      <th>Title_Mrs</th>\n",
       "      <td>-0.289022</td>\n",
       "      <td>NaN</td>\n",
       "      <td>0.157378</td>\n",
       "      <td>-0.453743</td>\n",
       "      <td>0.391077</td>\n",
       "      <td>-0.108465</td>\n",
       "      <td>-0.342997</td>\n",
       "      <td>1.000000</td>\n",
       "      <td>-0.013134</td>\n",
       "    </tr>\n",
       "    <tr>\n",
       "      <th>Fare_Cat</th>\n",
       "      <td>-0.437469</td>\n",
       "      <td>NaN</td>\n",
       "      <td>-0.755491</td>\n",
       "      <td>0.419717</td>\n",
       "      <td>0.812740</td>\n",
       "      <td>-0.460142</td>\n",
       "      <td>0.038292</td>\n",
       "      <td>-0.013134</td>\n",
       "      <td>1.000000</td>\n",
       "    </tr>\n",
       "  </tbody>\n",
       "</table>\n",
       "</div>"
      ],
      "text/plain": [
       "             PassengerId  Survived    Pclass       Sex  GroupTkt  Title_Miss  \\\n",
       "PassengerId     1.000000       NaN  0.409106 -0.133783 -0.465338    0.326884   \n",
       "Survived             NaN       NaN       NaN       NaN       NaN         NaN   \n",
       "Pclass          0.409106       NaN  1.000000 -0.346844 -0.503027    0.290191   \n",
       "Sex            -0.133783       NaN -0.346844  1.000000  0.033150   -0.836660   \n",
       "GroupTkt       -0.465338       NaN -0.503027  0.033150  1.000000   -0.277350   \n",
       "Title_Miss      0.326884       NaN  0.290191 -0.836660 -0.277350    1.000000   \n",
       "Title_Mr        0.027353       NaN -0.286770  0.755929 -0.350823   -0.632456   \n",
       "Title_Mrs      -0.289022       NaN  0.157378 -0.453743  0.391077   -0.108465   \n",
       "Fare_Cat       -0.437469       NaN -0.755491  0.419717  0.812740   -0.460142   \n",
       "\n",
       "             Title_Mr  Title_Mrs  Fare_Cat  \n",
       "PassengerId  0.027353  -0.289022 -0.437469  \n",
       "Survived          NaN        NaN       NaN  \n",
       "Pclass      -0.286770   0.157378 -0.755491  \n",
       "Sex          0.755929  -0.453743  0.419717  \n",
       "GroupTkt    -0.350823   0.391077  0.812740  \n",
       "Title_Miss  -0.632456  -0.108465 -0.460142  \n",
       "Title_Mr     1.000000  -0.342997  0.038292  \n",
       "Title_Mrs   -0.342997   1.000000 -0.013134  \n",
       "Fare_Cat     0.038292  -0.013134  1.000000  "
      ]
     },
     "execution_count": 260,
     "metadata": {},
     "output_type": "execute_result"
    }
   ],
   "source": [
    "df1=pd.DataFrame(df_train_test_y)\n",
    "df1['old_index']=df1.index\n",
    "df1.reset_index(level=0, inplace=True)\n",
    "df1.drop(columns=['old_index'],inplace=True)\n",
    "df2=pd.DataFrame(df_train_test_y_pred)\n",
    "df2.rename(columns={0:'Survived_pred'},inplace=True)\n",
    "df1 = pd.concat([df1,df2],axis=1)\n",
    "df1=df1.set_index('index')\n",
    "df_train.iloc[list(df1[((df1['Survived']==1) & (df1['Survived_pred']==0))].index)].corr()\n",
    "#df_train['Survived'].isnull().sum()"
   ]
  },
  {
   "cell_type": "code",
   "execution_count": null,
   "metadata": {},
   "outputs": [],
   "source": [
    "df_train"
   ]
  },
  {
   "cell_type": "code",
   "execution_count": 261,
   "metadata": {},
   "outputs": [
    {
     "data": {
      "text/plain": [
       "Int64Index([745, 392, 634, 671, 282, 678, 229, 698, 240, 789, 396, 793, 602,\n",
       "            278, 694, 167, 362, 736, 147, 502, 642, 638, 578, 284, 372, 748,\n",
       "            555, 401,  40, 293, 534, 854, 251, 505, 295,  38],\n",
       "           dtype='int64', name='index')"
      ]
     },
     "execution_count": 261,
     "metadata": {},
     "output_type": "execute_result"
    }
   ],
   "source": [
    "df1[((df1['Survived']==0) & (df1['Survived_pred']==1))].index"
   ]
  },
  {
   "cell_type": "code",
   "execution_count": 262,
   "metadata": {},
   "outputs": [
    {
     "data": {
      "text/plain": [
       "Index(['PassengerId', 'Pclass', 'Sex', 'GroupTkt', 'Title_Miss', 'Title_Mr',\n",
       "       'Title_Mrs', 'Fare_Cat'],\n",
       "      dtype='object')"
      ]
     },
     "execution_count": 262,
     "metadata": {},
     "output_type": "execute_result"
    }
   ],
   "source": [
    "df_test_x.columns"
   ]
  },
  {
   "cell_type": "code",
   "execution_count": 1,
   "metadata": {},
   "outputs": [
    {
     "ename": "NameError",
     "evalue": "name 'df_train' is not defined",
     "output_type": "error",
     "traceback": [
      "\u001b[1;31m---------------------------------------------------------------------------\u001b[0m",
      "\u001b[1;31mNameError\u001b[0m                                 Traceback (most recent call last)",
      "\u001b[1;32m<ipython-input-1-cc89d3742b3f>\u001b[0m in \u001b[0;36m<module>\u001b[1;34m\u001b[0m\n\u001b[0;32m      7\u001b[0m \u001b[1;31m# Perform feature selection\u001b[0m\u001b[1;33m\u001b[0m\u001b[1;33m\u001b[0m\u001b[1;33m\u001b[0m\u001b[0m\n\u001b[0;32m      8\u001b[0m \u001b[0mselector\u001b[0m \u001b[1;33m=\u001b[0m \u001b[0mSelectKBest\u001b[0m\u001b[1;33m(\u001b[0m\u001b[0mf_classif\u001b[0m\u001b[1;33m,\u001b[0m \u001b[0mk\u001b[0m\u001b[1;33m=\u001b[0m\u001b[1;34m'all'\u001b[0m\u001b[1;33m)\u001b[0m\u001b[1;33m\u001b[0m\u001b[1;33m\u001b[0m\u001b[0m\n\u001b[1;32m----> 9\u001b[1;33m \u001b[0mselector\u001b[0m\u001b[1;33m.\u001b[0m\u001b[0mfit\u001b[0m\u001b[1;33m(\u001b[0m\u001b[0mdf_train\u001b[0m\u001b[1;33m[\u001b[0m\u001b[0mpredictors\u001b[0m\u001b[1;33m]\u001b[0m\u001b[1;33m,\u001b[0m \u001b[0mtrain\u001b[0m\u001b[1;33m[\u001b[0m\u001b[1;34m\"Survived\"\u001b[0m\u001b[1;33m]\u001b[0m\u001b[1;33m)\u001b[0m\u001b[1;33m\u001b[0m\u001b[1;33m\u001b[0m\u001b[0m\n\u001b[0m\u001b[0;32m     10\u001b[0m \u001b[1;33m\u001b[0m\u001b[0m\n\u001b[0;32m     11\u001b[0m \u001b[1;31m# Get the raw p-values for each feature, and transform from p-values into scores\u001b[0m\u001b[1;33m\u001b[0m\u001b[1;33m\u001b[0m\u001b[1;33m\u001b[0m\u001b[0m\n",
      "\u001b[1;31mNameError\u001b[0m: name 'df_train' is not defined"
     ]
    }
   ],
   "source": [
    "\n",
    "from sklearn.feature_selection import SelectKBest, f_classif\n",
    "\n",
    "#predictors = ['SibSp','Parch','Sex', 'Age_range','Fare_Cat','Family_Size','Pclass_1','Pclass_2','Pclass_3','Title_Mr','Title_Miss','Title_Mrs','Embarked_C','Embarked_Q','Embarked_S','PassengerId']\n",
    "\n",
    "predictors = ['Sex','Fare_Cat','Pclass','Age_range','Title_Mr','Title_Miss','Title_Mrs','GroupTkt','SibSp','Parch']\n",
    "\n",
    "# Perform feature selection\n",
    "selector = SelectKBest(f_classif, k='all')\n",
    "selector.fit(df_train[predictors], train[\"Survived\"])\n",
    "\n",
    "# Get the raw p-values for each feature, and transform from p-values into scores\n",
    "scores = -np.log10(selector.pvalues_)\n",
    "\n",
    "# Plot the scores.  See how \"Pclass\", \"Sex\", \"Title\", and \"Fare\" are the best?\n",
    "plt.bar(range(len(predictors)), scores)\n",
    "plt.xticks(range(len(predictors)), predictors, rotation='vertical')\n"
   ]
  },
  {
   "cell_type": "code",
   "execution_count": null,
   "metadata": {},
   "outputs": [],
   "source": []
  },
  {
   "cell_type": "code",
   "execution_count": 264,
   "metadata": {},
   "outputs": [],
   "source": [
    "LogReg_model = LogisticRegression(l1_ratio= 0, max_iter = 50, penalty= 'l2', solver='newton-cg')\n",
    "#logreg_cv = LogisticRegressionCV()\n",
    "RFC_model = RandomForestClassifier(n_estimators=42,criterion='gini',min_samples_split=12,max_features='auto',random_state=1,n_jobs=3)\n",
    "knn_model= KNeighborsClassifier(n_neighbors =7,leaf_size=5,metric ='chebyshev', weights = 'uniform',n_jobs= 3)\n",
    "\n",
    "models = [LogReg_model, RFC_model,knn_model]"
   ]
  },
  {
   "cell_type": "code",
   "execution_count": 265,
   "metadata": {},
   "outputs": [
    {
     "name": "stdout",
     "output_type": "stream",
     "text": [
      "model : LogisticRegression(C=1.0, class_weight=None, dual=False, fit_intercept=True,\n",
      "                   intercept_scaling=1, l1_ratio=0, max_iter=50,\n",
      "                   multi_class='auto', n_jobs=None, penalty='l2',\n",
      "                   random_state=None, solver='newton-cg', tol=0.0001, verbose=0,\n",
      "                   warm_start=False)\n",
      "model : RandomForestClassifier(bootstrap=True, ccp_alpha=0.0, class_weight=None,\n",
      "                       criterion='gini', max_depth=None, max_features='auto',\n",
      "                       max_leaf_nodes=None, max_samples=None,\n",
      "                       min_impurity_decrease=0.0, min_impurity_split=None,\n",
      "                       min_samples_leaf=1, min_samples_split=12,\n",
      "                       min_weight_fraction_leaf=0.0, n_estimators=42, n_jobs=3,\n",
      "                       oob_score=False, random_state=1, verbose=0,\n",
      "                       warm_start=False)\n",
      "model : KNeighborsClassifier(algorithm='auto', leaf_size=5, metric='chebyshev',\n",
      "                     metric_params=None, n_jobs=3, n_neighbors=7, p=2,\n",
      "                     weights='uniform')\n",
      "Predictions  [array([0.13874407, 0.73881586, 0.28122518, 0.13281574, 0.71943568,\n",
      "       0.13281873, 0.70586321, 0.26182099, 0.73883343, 0.12191614,\n",
      "       0.13875962, 0.48726946, 0.93799052, 0.26183608, 0.93799204,\n",
      "       0.86166037, 0.28126199, 0.1387705 , 0.69528937, 0.73886104,\n",
      "       0.46281528, 0.4067099 , 0.94071108, 0.46282499, 0.9379996 ,\n",
      "       0.12745695, 0.92771602, 0.13878605, 0.48732472, 0.121944  ,\n",
      "       0.26187882, 0.25222507, 0.70919164, 0.70919432, 0.46286056,\n",
      "       0.13879849, 0.69533898, 0.69534173, 0.13286819, 0.11664568,\n",
      "       0.12747865, 0.48736697, 0.13880938, 0.87299592, 0.93801473,\n",
      "       0.13287868, 0.48738323, 0.13881715, 0.93801776, 0.70923725,\n",
      "       0.46291232, 0.27124363, 0.840924  , 0.92773957, 0.27125134,\n",
      "       0.37147225, 0.13883115, 0.13883271, 0.1219844 , 0.92774481,\n",
      "       0.13883737, 0.28138035, 0.13884048, 0.70601714, 0.78574452,\n",
      "       0.86173789, 0.70602524, 0.4629673 , 0.48745473, 0.93803364,\n",
      "       0.70603604, 0.13885448, 0.69543818, 0.48747098, 0.92775789,\n",
      "       0.46299318, 0.13292516, 0.94350749, 0.28142508, 0.70606034,\n",
      "       0.37154819, 0.46301259, 0.48750024, 0.13887315, 0.28144086,\n",
      "       0.12754378, 0.70607924, 0.69547951, 0.70608464, 0.60167415,\n",
      "       0.71966146, 0.1388856 , 0.93805103, 0.13295065, 0.48753924,\n",
      "       0.13889182, 0.93805406, 0.13295665, 0.70611164, 0.13295965,\n",
      "       0.93805708, 0.26205741, 0.13890271, 0.13890427, 0.7196982 ,\n",
      "       0.12204991, 0.13890894, 0.13891049, 0.13297315, 0.28150664,\n",
      "       0.27139538, 0.70614674, 0.93091773, 0.70615214, 0.93806766,\n",
      "       0.12758722, 0.1389245 , 0.67437843, 0.46313227, 0.86182157,\n",
      "       0.84104231, 0.13893228, 0.93807371, 0.13893539, 0.13893695,\n",
      "       0.67440128, 0.13894006, 0.674407  , 0.28155664, 0.13300465,\n",
      "       0.13300615, 0.80195086, 0.70945988, 0.13895096, 0.13895252,\n",
      "       0.13895407, 0.13895563, 0.28158032, 0.69562001, 0.1167798 ,\n",
      "       0.66324475, 0.92781629, 0.4632099 , 0.26216309, 0.48770176,\n",
      "       0.12210568, 0.46322284, 0.13303165, 0.48771476, 0.60186121,\n",
      "       0.93809487, 0.13897898, 0.13303916, 0.71982678, 0.36004124,\n",
      "       0.13898521, 0.92782935, 0.7062709 , 0.48774727, 0.71984252,\n",
      "       0.706279  , 0.37179428, 0.85380334, 0.13899766, 0.62518599,\n",
      "       0.70954836, 0.47514955, 0.11681737, 0.94357056, 0.6957054 ,\n",
      "       0.13900856, 0.13901012, 0.12766978, 0.13901323, 0.11682677,\n",
      "       0.8342638 , 0.8342656 , 0.46332312, 0.85578364, 0.93811677,\n",
      "       0.2816935 , 0.46333606, 0.93811904, 0.1390288 , 0.93812055,\n",
      "       0.27158836, 0.84115706, 0.13309168, 0.66338421, 0.28171719,\n",
      "       0.26228138, 0.48785453, 0.38377479, 0.28172772, 0.58982561,\n",
      "       0.13904749, 0.78603348, 0.70637884, 0.28174089, 0.72944959,\n",
      "       0.6746155 , 0.38380248, 0.78604661, 0.84118661, 0.28175668,\n",
      "       0.48790004, 0.70640313, 0.28176458, 0.93417652, 0.1390693 ,\n",
      "       0.12219636, 0.13907241, 0.25266945, 0.86196714, 0.70642471,\n",
      "       0.47530853, 0.70643011, 0.46345252, 0.93814622, 0.13313972,\n",
      "       0.8538975 , 0.13314273, 0.87325389, 0.1390911 , 0.94360933,\n",
      "       0.7097092 , 0.13909578, 0.70645978, 0.12222148, 0.28182251,\n",
      "       0.25271367, 0.93419492, 0.13910512, 0.13910668, 0.46350752,\n",
      "       0.1391098 , 0.46351399, 0.13911291, 0.85392672, 0.93816207,\n",
      "       0.94362041, 0.86201047, 0.4635334 , 0.13912226, 0.37204651,\n",
      "       0.4635431 , 0.86201821, 0.25275544, 0.8620213 , 0.72007859,\n",
      "       0.84126828, 0.13318778, 0.46356575, 0.13319078, 0.13319228,\n",
      "       0.13914096, 0.13914252, 0.13319679, 0.85395917, 0.1391472 ,\n",
      "       0.12226615, 0.13915031, 0.86204296, 0.68579261, 0.28191468,\n",
      "       0.13915655, 0.51337643, 0.13915966, 0.69597799, 0.13321481,\n",
      "       0.46362398, 0.1391659 , 0.93818697, 0.67482393, 0.13917057,\n",
      "       0.84131171, 0.28194628, 0.26250044, 0.26250295, 0.28195418,\n",
      "       0.69601102, 0.38404865, 0.70660814, 0.67485248, 0.67485533,\n",
      "       0.13918772, 0.13918928, 0.46367898, 0.13919239, 0.13324486,\n",
      "       0.47555187, 0.70663242, 0.13919863, 0.78624564, 0.13325237,\n",
      "       0.13920331, 0.83448134, 0.12231781, 0.47557782, 0.13920954,\n",
      "       0.1392111 , 0.27188701, 0.26256341, 0.1332659 , 0.70666748,\n",
      "       0.94366538, 0.46374045, 0.38412866, 0.46374692, 0.7202359 ,\n",
      "       0.13327642, 0.13922825, 0.13922981, 0.70669175, 0.93821865,\n",
      "       0.70669714, 0.4637728 , 0.28205428, 0.13923916, 0.25293239,\n",
      "       0.13924228, 0.13924384, 0.28206745, 0.4882836 , 0.92797557,\n",
      "       0.13925008, 0.83453524, 0.46380839, 0.2626289 , 0.28208589,\n",
      "       0.85602752, 0.48830961, 0.13926099, 0.70999859, 0.13926411,\n",
      "       0.48832261, 0.28210434, 0.13926879, 0.2529791 , 0.40770854,\n",
      "       0.28211488, 0.13927503, 0.11705246, 0.93824052, 0.38424255,\n",
      "       0.70677803, 0.28213068, 0.73968353, 0.28213595, 0.84144019,\n",
      "       0.93824579, 0.28214386, 0.25301352, 0.25301598, 0.67505513,\n",
      "       0.48838762, 0.93825032, 0.13929998, 0.13930154, 0.71006823,\n",
      "       0.36065896, 0.85607722, 0.86219761, 0.13335608, 0.93825635,\n",
      "       0.69956481, 0.12795113, 0.66390402, 0.93825936, 0.28219129,\n",
      "       0.28219393, 0.92801643, 0.50181666, 0.28220183, 0.93826388,\n",
      "       0.9280199 , 0.6962752 , 0.28221237, 0.4758374 , 0.36071596,\n",
      "       0.13933586, 0.13933742, 0.72042722, 0.7101325 , 0.28223082,\n",
      "       0.83464121, 0.13934522, 0.28223873, 0.13934834, 0.37248733,\n",
      "       0.46401222, 0.93827669, 0.37249645, 0.28225454, 0.12245335,\n",
      "       0.93827971, 0.13936083, 0.93828121, 0.13936395, 0.13936551,\n",
      "       0.92804163, 0.26281286, 0.92804336, 0.46405429, 0.48854691,\n",
      "       0.28228617, 0.2822888 , 0.46406723, 0.70694786, 0.68620175,\n",
      "       0.70695325, 0.93829176, 0.70695864, 0.13343128, 0.91394724,\n",
      "       0.13939048, 0.13343579, 0.37257248]), array([0.09609519, 0.81489418, 0.15806771, 0.14542031, 0.6550295 ,\n",
      "       0.14542031, 0.55890158, 0.20357954, 0.81489418, 0.18460116,\n",
      "       0.09609519, 0.76001023, 0.95110544, 0.20357954, 0.95110544,\n",
      "       0.78711972, 0.15806771, 0.09609519, 0.28667975, 0.81489418,\n",
      "       0.23192155, 0.47905547, 0.94155843, 0.23192155, 0.95110544,\n",
      "       0.10125613, 0.94642857, 0.09609519, 0.76001023, 0.18460116,\n",
      "       0.20357954, 0.21222389, 0.70941592, 0.70941592, 0.23192155,\n",
      "       0.09609519, 0.28667975, 0.28667975, 0.14542031, 0.42482352,\n",
      "       0.10125613, 0.76001023, 0.09609519, 0.82514742, 0.95110544,\n",
      "       0.14542031, 0.76001023, 0.09609519, 0.95110544, 0.70941592,\n",
      "       0.23192155, 0.31742434, 0.82404487, 0.94642857, 0.31742434,\n",
      "       0.52914067, 0.09609519, 0.09609519, 0.18460116, 0.94642857,\n",
      "       0.09609519, 0.15806771, 0.09609519, 0.55890158, 0.69051846,\n",
      "       0.78711972, 0.55890158, 0.23192155, 0.76001023, 0.95110544,\n",
      "       0.55890158, 0.09609519, 0.28667975, 0.76001023, 0.94642857,\n",
      "       0.23192155, 0.14542031, 0.89513623, 0.15806771, 0.55890158,\n",
      "       0.52914067, 0.23192155, 0.76001023, 0.09609519, 0.15806771,\n",
      "       0.10125613, 0.55890158, 0.28667975, 0.55890158, 0.62489182,\n",
      "       0.6550295 , 0.09609519, 0.95110544, 0.14542031, 0.76001023,\n",
      "       0.09609519, 0.95110544, 0.14542031, 0.55890158, 0.14542031,\n",
      "       0.95110544, 0.20357954, 0.09609519, 0.09609519, 0.6550295 ,\n",
      "       0.18460116, 0.09609519, 0.09609519, 0.14542031, 0.15806771,\n",
      "       0.31742434, 0.55890158, 0.97009637, 0.55890158, 0.95110544,\n",
      "       0.10125613, 0.09609519, 0.25612203, 0.23192155, 0.78711972,\n",
      "       0.82404487, 0.09609519, 0.95110544, 0.09609519, 0.09609519,\n",
      "       0.25612203, 0.09609519, 0.25612203, 0.15806771, 0.14542031,\n",
      "       0.14542031, 0.49588532, 0.70941592, 0.09609519, 0.09609519,\n",
      "       0.09609519, 0.09609519, 0.15806771, 0.28667975, 0.42482352,\n",
      "       0.28360261, 0.94642857, 0.23192155, 0.20357954, 0.76001023,\n",
      "       0.18460116, 0.23192155, 0.14542031, 0.76001023, 0.62489182,\n",
      "       0.95110544, 0.09609519, 0.14542031, 0.6550295 , 0.40168753,\n",
      "       0.09609519, 0.94642857, 0.55890158, 0.76001023, 0.6550295 ,\n",
      "       0.55890158, 0.52914067, 0.7754981 , 0.09609519, 0.32800872,\n",
      "       0.70941592, 0.32107813, 0.42482352, 0.89513623, 0.28667975,\n",
      "       0.09609519, 0.09609519, 0.10125613, 0.09609519, 0.42482352,\n",
      "       0.89484127, 0.89484127, 0.23192155, 0.89713719, 0.95110544,\n",
      "       0.15806771, 0.23192155, 0.95110544, 0.09609519, 0.95110544,\n",
      "       0.31742434, 0.82404487, 0.14542031, 0.28360261, 0.15806771,\n",
      "       0.20357954, 0.76001023, 0.65881351, 0.15806771, 0.61176107,\n",
      "       0.09609519, 0.69051846, 0.55890158, 0.15806771, 0.70394531,\n",
      "       0.25612203, 0.65881351, 0.69051846, 0.82404487, 0.15806771,\n",
      "       0.76001023, 0.55890158, 0.15806771, 0.88803769, 0.09609519,\n",
      "       0.18460116, 0.09609519, 0.21222389, 0.78711972, 0.55890158,\n",
      "       0.32107813, 0.55890158, 0.23192155, 0.95110544, 0.14542031,\n",
      "       0.7754981 , 0.14542031, 0.82514742, 0.09609519, 0.89513623,\n",
      "       0.70941592, 0.09609519, 0.55890158, 0.18460116, 0.15806771,\n",
      "       0.21222389, 0.88803769, 0.09609519, 0.09609519, 0.23192155,\n",
      "       0.09609519, 0.23192155, 0.09609519, 0.7754981 , 0.95110544,\n",
      "       0.89513623, 0.78711972, 0.23192155, 0.09609519, 0.52914067,\n",
      "       0.23192155, 0.78711972, 0.21222389, 0.78711972, 0.6550295 ,\n",
      "       0.82404487, 0.14542031, 0.23192155, 0.14542031, 0.14542031,\n",
      "       0.09609519, 0.09609519, 0.14542031, 0.7754981 , 0.09609519,\n",
      "       0.18460116, 0.09609519, 0.78711972, 0.42593703, 0.15806771,\n",
      "       0.09609519, 0.22628766, 0.09609519, 0.28667975, 0.14542031,\n",
      "       0.23192155, 0.09609519, 0.95110544, 0.25612203, 0.09609519,\n",
      "       0.82404487, 0.15806771, 0.20357954, 0.20357954, 0.15806771,\n",
      "       0.28667975, 0.65881351, 0.55890158, 0.25612203, 0.25612203,\n",
      "       0.09609519, 0.09609519, 0.23192155, 0.09609519, 0.14542031,\n",
      "       0.32107813, 0.55890158, 0.09609519, 0.69051846, 0.14542031,\n",
      "       0.09609519, 0.89484127, 0.18460116, 0.32107813, 0.09609519,\n",
      "       0.09609519, 0.31742434, 0.20357954, 0.14542031, 0.55890158,\n",
      "       0.89513623, 0.23192155, 0.65881351, 0.23192155, 0.6550295 ,\n",
      "       0.14542031, 0.09609519, 0.09609519, 0.55890158, 0.95110544,\n",
      "       0.55890158, 0.23192155, 0.15806771, 0.09609519, 0.21222389,\n",
      "       0.09609519, 0.09609519, 0.15806771, 0.76001023, 0.94642857,\n",
      "       0.09609519, 0.89484127, 0.23192155, 0.20357954, 0.15806771,\n",
      "       0.89713719, 0.76001023, 0.09609519, 0.70941592, 0.09609519,\n",
      "       0.76001023, 0.15806771, 0.09609519, 0.21222389, 0.47905547,\n",
      "       0.15806771, 0.09609519, 0.42482352, 0.95110544, 0.65881351,\n",
      "       0.55890158, 0.15806771, 0.81489418, 0.15806771, 0.82404487,\n",
      "       0.95110544, 0.15806771, 0.21222389, 0.21222389, 0.25612203,\n",
      "       0.76001023, 0.95110544, 0.09609519, 0.09609519, 0.70941592,\n",
      "       0.40168753, 0.89713719, 0.78711972, 0.14542031, 0.95110544,\n",
      "       0.42431844, 0.10125613, 0.28360261, 0.95110544, 0.15806771,\n",
      "       0.15806771, 0.94642857, 0.12571386, 0.15806771, 0.95110544,\n",
      "       0.94642857, 0.28667975, 0.15806771, 0.32107813, 0.40168753,\n",
      "       0.09609519, 0.09609519, 0.6550295 , 0.70941592, 0.15806771,\n",
      "       0.89484127, 0.09609519, 0.15806771, 0.09609519, 0.52914067,\n",
      "       0.23192155, 0.95110544, 0.52914067, 0.15806771, 0.18460116,\n",
      "       0.95110544, 0.09609519, 0.95110544, 0.09609519, 0.09609519,\n",
      "       0.94642857, 0.20357954, 0.94642857, 0.23192155, 0.76001023,\n",
      "       0.15806771, 0.15806771, 0.23192155, 0.55890158, 0.42593703,\n",
      "       0.55890158, 0.95110544, 0.55890158, 0.14542031, 0.89682213,\n",
      "       0.09609519, 0.14542031, 0.52914067]), array([0.28571429, 0.28571429, 0.28571429, 0.28571429, 0.28571429,\n",
      "       0.28571429, 0.28571429, 0.28571429, 0.28571429, 0.28571429,\n",
      "       0.28571429, 0.28571429, 0.28571429, 0.28571429, 0.28571429,\n",
      "       0.28571429, 0.28571429, 0.28571429, 0.28571429, 0.28571429,\n",
      "       0.28571429, 0.28571429, 0.28571429, 0.28571429, 0.28571429,\n",
      "       0.28571429, 0.28571429, 0.28571429, 0.28571429, 0.28571429,\n",
      "       0.28571429, 0.28571429, 0.28571429, 0.28571429, 0.28571429,\n",
      "       0.28571429, 0.28571429, 0.28571429, 0.28571429, 0.28571429,\n",
      "       0.28571429, 0.28571429, 0.28571429, 0.28571429, 0.28571429,\n",
      "       0.28571429, 0.28571429, 0.28571429, 0.28571429, 0.28571429,\n",
      "       0.28571429, 0.28571429, 0.28571429, 0.28571429, 0.28571429,\n",
      "       0.28571429, 0.28571429, 0.28571429, 0.28571429, 0.28571429,\n",
      "       0.28571429, 0.28571429, 0.28571429, 0.28571429, 0.28571429,\n",
      "       0.28571429, 0.28571429, 0.28571429, 0.28571429, 0.28571429,\n",
      "       0.28571429, 0.28571429, 0.28571429, 0.28571429, 0.28571429,\n",
      "       0.28571429, 0.28571429, 0.28571429, 0.28571429, 0.28571429,\n",
      "       0.28571429, 0.28571429, 0.28571429, 0.28571429, 0.28571429,\n",
      "       0.28571429, 0.28571429, 0.28571429, 0.28571429, 0.28571429,\n",
      "       0.28571429, 0.28571429, 0.28571429, 0.28571429, 0.28571429,\n",
      "       0.28571429, 0.28571429, 0.28571429, 0.28571429, 0.28571429,\n",
      "       0.28571429, 0.28571429, 0.28571429, 0.28571429, 0.28571429,\n",
      "       0.28571429, 0.28571429, 0.28571429, 0.28571429, 0.28571429,\n",
      "       0.28571429, 0.28571429, 0.28571429, 0.28571429, 0.28571429,\n",
      "       0.28571429, 0.28571429, 0.28571429, 0.28571429, 0.28571429,\n",
      "       0.28571429, 0.28571429, 0.28571429, 0.28571429, 0.28571429,\n",
      "       0.28571429, 0.28571429, 0.28571429, 0.28571429, 0.28571429,\n",
      "       0.28571429, 0.28571429, 0.28571429, 0.28571429, 0.28571429,\n",
      "       0.28571429, 0.28571429, 0.28571429, 0.28571429, 0.28571429,\n",
      "       0.28571429, 0.28571429, 0.28571429, 0.28571429, 0.28571429,\n",
      "       0.28571429, 0.28571429, 0.28571429, 0.28571429, 0.28571429,\n",
      "       0.28571429, 0.28571429, 0.28571429, 0.28571429, 0.28571429,\n",
      "       0.28571429, 0.28571429, 0.28571429, 0.28571429, 0.28571429,\n",
      "       0.28571429, 0.28571429, 0.28571429, 0.28571429, 0.28571429,\n",
      "       0.28571429, 0.28571429, 0.28571429, 0.28571429, 0.28571429,\n",
      "       0.28571429, 0.28571429, 0.28571429, 0.28571429, 0.28571429,\n",
      "       0.28571429, 0.28571429, 0.28571429, 0.28571429, 0.28571429,\n",
      "       0.28571429, 0.28571429, 0.28571429, 0.28571429, 0.28571429,\n",
      "       0.28571429, 0.28571429, 0.28571429, 0.28571429, 0.28571429,\n",
      "       0.28571429, 0.28571429, 0.28571429, 0.28571429, 0.28571429,\n",
      "       0.28571429, 0.28571429, 0.28571429, 0.28571429, 0.28571429,\n",
      "       0.28571429, 0.28571429, 0.28571429, 0.28571429, 0.28571429,\n",
      "       0.28571429, 0.28571429, 0.28571429, 0.28571429, 0.28571429,\n",
      "       0.28571429, 0.28571429, 0.28571429, 0.28571429, 0.28571429,\n",
      "       0.28571429, 0.28571429, 0.28571429, 0.28571429, 0.28571429,\n",
      "       0.28571429, 0.28571429, 0.28571429, 0.28571429, 0.28571429,\n",
      "       0.28571429, 0.28571429, 0.28571429, 0.28571429, 0.28571429,\n",
      "       0.28571429, 0.28571429, 0.28571429, 0.28571429, 0.28571429,\n",
      "       0.28571429, 0.28571429, 0.28571429, 0.28571429, 0.28571429,\n",
      "       0.28571429, 0.28571429, 0.28571429, 0.28571429, 0.28571429,\n",
      "       0.28571429, 0.28571429, 0.28571429, 0.28571429, 0.28571429,\n",
      "       0.28571429, 0.28571429, 0.28571429, 0.28571429, 0.28571429,\n",
      "       0.28571429, 0.28571429, 0.28571429, 0.28571429, 0.28571429,\n",
      "       0.28571429, 0.28571429, 0.28571429, 0.28571429, 0.28571429,\n",
      "       0.28571429, 0.28571429, 0.28571429, 0.28571429, 0.28571429,\n",
      "       0.28571429, 0.28571429, 0.28571429, 0.28571429, 0.28571429,\n",
      "       0.28571429, 0.28571429, 0.28571429, 0.28571429, 0.28571429,\n",
      "       0.28571429, 0.28571429, 0.28571429, 0.28571429, 0.28571429,\n",
      "       0.28571429, 0.28571429, 0.28571429, 0.28571429, 0.28571429,\n",
      "       0.28571429, 0.28571429, 0.28571429, 0.28571429, 0.28571429,\n",
      "       0.28571429, 0.28571429, 0.28571429, 0.28571429, 0.28571429,\n",
      "       0.28571429, 0.28571429, 0.28571429, 0.28571429, 0.28571429,\n",
      "       0.28571429, 0.28571429, 0.28571429, 0.28571429, 0.28571429,\n",
      "       0.28571429, 0.28571429, 0.28571429, 0.28571429, 0.28571429,\n",
      "       0.28571429, 0.28571429, 0.28571429, 0.28571429, 0.28571429,\n",
      "       0.28571429, 0.28571429, 0.28571429, 0.28571429, 0.28571429,\n",
      "       0.28571429, 0.28571429, 0.28571429, 0.28571429, 0.28571429,\n",
      "       0.28571429, 0.28571429, 0.28571429, 0.28571429, 0.28571429,\n",
      "       0.28571429, 0.28571429, 0.28571429, 0.28571429, 0.28571429,\n",
      "       0.28571429, 0.28571429, 0.28571429, 0.28571429, 0.28571429,\n",
      "       0.28571429, 0.28571429, 0.28571429, 0.28571429, 0.28571429,\n",
      "       0.28571429, 0.28571429, 0.28571429, 0.28571429, 0.28571429,\n",
      "       0.28571429, 0.28571429, 0.28571429, 0.28571429, 0.28571429,\n",
      "       0.28571429, 0.28571429, 0.28571429, 0.28571429, 0.28571429,\n",
      "       0.28571429, 0.28571429, 0.28571429, 0.28571429, 0.28571429,\n",
      "       0.28571429, 0.28571429, 0.28571429, 0.28571429, 0.28571429,\n",
      "       0.28571429, 0.28571429, 0.28571429, 0.28571429, 0.28571429,\n",
      "       0.28571429, 0.28571429, 0.28571429, 0.28571429, 0.28571429,\n",
      "       0.28571429, 0.28571429, 0.28571429, 0.28571429, 0.28571429,\n",
      "       0.28571429, 0.28571429, 0.28571429, 0.28571429, 0.28571429,\n",
      "       0.28571429, 0.28571429, 0.28571429, 0.28571429, 0.28571429,\n",
      "       0.28571429, 0.28571429, 0.28571429, 0.28571429, 0.28571429,\n",
      "       0.28571429, 0.28571429, 0.28571429, 0.28571429, 0.28571429,\n",
      "       0.28571429, 0.28571429, 0.28571429, 0.28571429, 0.28571429,\n",
      "       0.28571429, 0.28571429, 0.28571429])]\n",
      "DF Shape  (3, 418)\n",
      "Predictions DF :             0         1         2\n",
      "0    0.138744  0.096095  0.285714\n",
      "1    0.738816  0.814894  0.285714\n",
      "2    0.281225  0.158068  0.285714\n",
      "3    0.132816  0.145420  0.285714\n",
      "4    0.719436  0.655029  0.285714\n",
      "..        ...       ...       ...\n",
      "413  0.133431  0.145420  0.285714\n",
      "414  0.913947  0.896822  0.285714\n",
      "415  0.139390  0.096095  0.285714\n",
      "416  0.133436  0.145420  0.285714\n",
      "417  0.372572  0.529141  0.285714\n",
      "\n",
      "[418 rows x 3 columns]\n"
     ]
    }
   ],
   "source": [
    "#Blending models\n",
    "\n",
    "trained_models = []\n",
    "for model in models:\n",
    "    print('model :',model)\n",
    "    if (model=='knn_model'):\n",
    "        scaler=StandardScaler()\n",
    "        train_scaled = scaler.fit_transform(df_train_x)\n",
    "        test_scaled = scaler.transform(df_test_x)        \n",
    "        model.fit(train_scaled,df_train_y)\n",
    "    else:\n",
    "        model.fit(df_train_x, df_train_y)\n",
    "    trained_models.append(model)\n",
    "\n",
    "predictions = []\n",
    "for model in trained_models:\n",
    "    if (model=='knn_model'):\n",
    "        predictions.append(model.predict_proba(test_scaled)[:, 1])\n",
    "    else:\n",
    "        predictions.append(model.predict_proba(df_test_x)[:, 1])\n",
    "print('Predictions ',predictions)\n",
    "predictions_df1=pd.DataFrame(predictions)\n",
    "print('DF Shape ',predictions_df1.shape)\n",
    "predictions_df = pd.DataFrame(predictions).T\n",
    "print('Predictions DF :',predictions_df)\n",
    "predictions_df['out'] = predictions_df.mean(axis=1)\n",
    "predictions_df['PassengerId'] = test['PassengerId']\n",
    "predictions_df['out'] = predictions_df['out'].map(lambda s: 1 if s >= 0.5 else 0)\n",
    "\n",
    "predictions_df = predictions_df[['PassengerId', 'out']]\n",
    "predictions_df.columns = ['PassengerId', 'Survived']"
   ]
  },
  {
   "cell_type": "code",
   "execution_count": 266,
   "metadata": {},
   "outputs": [],
   "source": [
    "predictions_df.to_csv('gender_submission.csv',index=False)"
   ]
  },
  {
   "cell_type": "code",
   "execution_count": 267,
   "metadata": {},
   "outputs": [
    {
     "data": {
      "text/plain": [
       "array([[0.57142857, 0.42857143],\n",
       "       [0.57142857, 0.42857143],\n",
       "       [0.57142857, 0.42857143],\n",
       "       [0.57142857, 0.42857143],\n",
       "       [0.57142857, 0.42857143],\n",
       "       [0.57142857, 0.42857143],\n",
       "       [0.57142857, 0.42857143],\n",
       "       [0.57142857, 0.42857143],\n",
       "       [0.57142857, 0.42857143],\n",
       "       [0.57142857, 0.42857143],\n",
       "       [0.57142857, 0.42857143],\n",
       "       [0.57142857, 0.42857143],\n",
       "       [0.57142857, 0.42857143],\n",
       "       [0.57142857, 0.42857143],\n",
       "       [0.57142857, 0.42857143],\n",
       "       [0.57142857, 0.42857143],\n",
       "       [0.57142857, 0.42857143],\n",
       "       [0.57142857, 0.42857143],\n",
       "       [0.57142857, 0.42857143],\n",
       "       [0.57142857, 0.42857143],\n",
       "       [0.57142857, 0.42857143],\n",
       "       [0.57142857, 0.42857143],\n",
       "       [0.57142857, 0.42857143],\n",
       "       [0.57142857, 0.42857143],\n",
       "       [0.57142857, 0.42857143],\n",
       "       [0.57142857, 0.42857143],\n",
       "       [0.57142857, 0.42857143],\n",
       "       [0.57142857, 0.42857143],\n",
       "       [0.57142857, 0.42857143],\n",
       "       [0.57142857, 0.42857143],\n",
       "       [0.57142857, 0.42857143],\n",
       "       [0.57142857, 0.42857143],\n",
       "       [0.57142857, 0.42857143],\n",
       "       [0.57142857, 0.42857143],\n",
       "       [0.57142857, 0.42857143],\n",
       "       [0.57142857, 0.42857143],\n",
       "       [0.57142857, 0.42857143],\n",
       "       [0.57142857, 0.42857143],\n",
       "       [0.57142857, 0.42857143],\n",
       "       [0.57142857, 0.42857143],\n",
       "       [0.57142857, 0.42857143],\n",
       "       [0.57142857, 0.42857143],\n",
       "       [0.57142857, 0.42857143],\n",
       "       [0.57142857, 0.42857143],\n",
       "       [0.57142857, 0.42857143],\n",
       "       [0.57142857, 0.42857143],\n",
       "       [0.57142857, 0.42857143],\n",
       "       [0.57142857, 0.42857143],\n",
       "       [0.57142857, 0.42857143],\n",
       "       [0.57142857, 0.42857143],\n",
       "       [0.57142857, 0.42857143],\n",
       "       [0.57142857, 0.42857143],\n",
       "       [0.57142857, 0.42857143],\n",
       "       [0.57142857, 0.42857143],\n",
       "       [0.57142857, 0.42857143],\n",
       "       [0.57142857, 0.42857143],\n",
       "       [0.57142857, 0.42857143],\n",
       "       [0.57142857, 0.42857143],\n",
       "       [0.57142857, 0.42857143],\n",
       "       [0.57142857, 0.42857143],\n",
       "       [0.57142857, 0.42857143],\n",
       "       [0.57142857, 0.42857143],\n",
       "       [0.57142857, 0.42857143],\n",
       "       [0.57142857, 0.42857143],\n",
       "       [0.57142857, 0.42857143],\n",
       "       [0.57142857, 0.42857143],\n",
       "       [0.57142857, 0.42857143],\n",
       "       [0.57142857, 0.42857143],\n",
       "       [0.57142857, 0.42857143],\n",
       "       [0.57142857, 0.42857143],\n",
       "       [0.57142857, 0.42857143],\n",
       "       [0.57142857, 0.42857143],\n",
       "       [0.57142857, 0.42857143],\n",
       "       [0.57142857, 0.42857143],\n",
       "       [0.57142857, 0.42857143],\n",
       "       [0.57142857, 0.42857143],\n",
       "       [0.57142857, 0.42857143],\n",
       "       [0.57142857, 0.42857143],\n",
       "       [0.57142857, 0.42857143],\n",
       "       [0.57142857, 0.42857143],\n",
       "       [0.57142857, 0.42857143],\n",
       "       [0.57142857, 0.42857143],\n",
       "       [0.57142857, 0.42857143],\n",
       "       [0.57142857, 0.42857143],\n",
       "       [0.57142857, 0.42857143],\n",
       "       [0.57142857, 0.42857143],\n",
       "       [0.57142857, 0.42857143],\n",
       "       [0.57142857, 0.42857143],\n",
       "       [0.57142857, 0.42857143],\n",
       "       [0.57142857, 0.42857143],\n",
       "       [0.57142857, 0.42857143],\n",
       "       [0.57142857, 0.42857143],\n",
       "       [0.57142857, 0.42857143],\n",
       "       [0.57142857, 0.42857143],\n",
       "       [0.57142857, 0.42857143],\n",
       "       [0.57142857, 0.42857143],\n",
       "       [0.57142857, 0.42857143],\n",
       "       [0.57142857, 0.42857143],\n",
       "       [0.57142857, 0.42857143],\n",
       "       [0.57142857, 0.42857143],\n",
       "       [0.57142857, 0.42857143],\n",
       "       [0.57142857, 0.42857143],\n",
       "       [0.57142857, 0.42857143],\n",
       "       [0.57142857, 0.42857143],\n",
       "       [0.57142857, 0.42857143],\n",
       "       [0.57142857, 0.42857143],\n",
       "       [0.57142857, 0.42857143],\n",
       "       [0.57142857, 0.42857143],\n",
       "       [0.57142857, 0.42857143],\n",
       "       [0.57142857, 0.42857143],\n",
       "       [0.57142857, 0.42857143],\n",
       "       [0.57142857, 0.42857143],\n",
       "       [0.57142857, 0.42857143],\n",
       "       [0.57142857, 0.42857143],\n",
       "       [0.57142857, 0.42857143],\n",
       "       [0.57142857, 0.42857143],\n",
       "       [0.57142857, 0.42857143],\n",
       "       [0.57142857, 0.42857143],\n",
       "       [0.57142857, 0.42857143],\n",
       "       [0.57142857, 0.42857143],\n",
       "       [0.57142857, 0.42857143],\n",
       "       [0.57142857, 0.42857143],\n",
       "       [0.57142857, 0.42857143],\n",
       "       [0.57142857, 0.42857143],\n",
       "       [0.57142857, 0.42857143],\n",
       "       [0.57142857, 0.42857143],\n",
       "       [0.57142857, 0.42857143],\n",
       "       [0.57142857, 0.42857143],\n",
       "       [0.57142857, 0.42857143],\n",
       "       [0.57142857, 0.42857143],\n",
       "       [0.57142857, 0.42857143],\n",
       "       [0.57142857, 0.42857143],\n",
       "       [0.57142857, 0.42857143],\n",
       "       [0.57142857, 0.42857143],\n",
       "       [0.57142857, 0.42857143],\n",
       "       [0.57142857, 0.42857143],\n",
       "       [0.57142857, 0.42857143],\n",
       "       [0.57142857, 0.42857143],\n",
       "       [0.57142857, 0.42857143],\n",
       "       [0.57142857, 0.42857143],\n",
       "       [0.57142857, 0.42857143],\n",
       "       [0.57142857, 0.42857143],\n",
       "       [0.57142857, 0.42857143],\n",
       "       [0.57142857, 0.42857143],\n",
       "       [0.57142857, 0.42857143],\n",
       "       [0.57142857, 0.42857143],\n",
       "       [0.57142857, 0.42857143],\n",
       "       [0.57142857, 0.42857143],\n",
       "       [0.57142857, 0.42857143],\n",
       "       [0.57142857, 0.42857143],\n",
       "       [0.57142857, 0.42857143],\n",
       "       [0.57142857, 0.42857143],\n",
       "       [0.57142857, 0.42857143],\n",
       "       [0.57142857, 0.42857143],\n",
       "       [0.57142857, 0.42857143],\n",
       "       [0.57142857, 0.42857143],\n",
       "       [0.57142857, 0.42857143],\n",
       "       [0.57142857, 0.42857143],\n",
       "       [0.57142857, 0.42857143],\n",
       "       [0.57142857, 0.42857143],\n",
       "       [0.57142857, 0.42857143],\n",
       "       [0.57142857, 0.42857143],\n",
       "       [0.57142857, 0.42857143],\n",
       "       [0.57142857, 0.42857143],\n",
       "       [0.57142857, 0.42857143],\n",
       "       [0.57142857, 0.42857143],\n",
       "       [0.57142857, 0.42857143],\n",
       "       [0.57142857, 0.42857143],\n",
       "       [0.57142857, 0.42857143],\n",
       "       [0.57142857, 0.42857143],\n",
       "       [0.57142857, 0.42857143],\n",
       "       [0.57142857, 0.42857143],\n",
       "       [0.57142857, 0.42857143],\n",
       "       [0.57142857, 0.42857143],\n",
       "       [0.57142857, 0.42857143],\n",
       "       [0.57142857, 0.42857143],\n",
       "       [0.57142857, 0.42857143],\n",
       "       [0.57142857, 0.42857143],\n",
       "       [0.57142857, 0.42857143],\n",
       "       [0.57142857, 0.42857143],\n",
       "       [0.57142857, 0.42857143],\n",
       "       [0.57142857, 0.42857143],\n",
       "       [0.57142857, 0.42857143],\n",
       "       [0.57142857, 0.42857143],\n",
       "       [0.57142857, 0.42857143],\n",
       "       [0.57142857, 0.42857143],\n",
       "       [0.57142857, 0.42857143],\n",
       "       [0.57142857, 0.42857143],\n",
       "       [0.57142857, 0.42857143],\n",
       "       [0.57142857, 0.42857143],\n",
       "       [0.57142857, 0.42857143],\n",
       "       [0.57142857, 0.42857143],\n",
       "       [0.57142857, 0.42857143],\n",
       "       [0.57142857, 0.42857143],\n",
       "       [0.57142857, 0.42857143],\n",
       "       [0.57142857, 0.42857143],\n",
       "       [0.57142857, 0.42857143],\n",
       "       [0.57142857, 0.42857143],\n",
       "       [0.57142857, 0.42857143],\n",
       "       [0.57142857, 0.42857143],\n",
       "       [0.57142857, 0.42857143],\n",
       "       [0.57142857, 0.42857143],\n",
       "       [0.57142857, 0.42857143],\n",
       "       [0.57142857, 0.42857143],\n",
       "       [0.57142857, 0.42857143],\n",
       "       [0.57142857, 0.42857143],\n",
       "       [0.57142857, 0.42857143],\n",
       "       [0.57142857, 0.42857143],\n",
       "       [0.57142857, 0.42857143],\n",
       "       [0.57142857, 0.42857143],\n",
       "       [0.57142857, 0.42857143],\n",
       "       [0.57142857, 0.42857143],\n",
       "       [0.57142857, 0.42857143],\n",
       "       [0.57142857, 0.42857143],\n",
       "       [0.57142857, 0.42857143],\n",
       "       [0.57142857, 0.42857143],\n",
       "       [0.57142857, 0.42857143],\n",
       "       [0.57142857, 0.42857143],\n",
       "       [0.57142857, 0.42857143],\n",
       "       [0.57142857, 0.42857143],\n",
       "       [0.57142857, 0.42857143],\n",
       "       [0.57142857, 0.42857143],\n",
       "       [0.57142857, 0.42857143],\n",
       "       [0.57142857, 0.42857143],\n",
       "       [0.57142857, 0.42857143],\n",
       "       [0.57142857, 0.42857143],\n",
       "       [0.57142857, 0.42857143],\n",
       "       [0.57142857, 0.42857143],\n",
       "       [0.57142857, 0.42857143],\n",
       "       [0.57142857, 0.42857143],\n",
       "       [0.57142857, 0.42857143],\n",
       "       [0.57142857, 0.42857143],\n",
       "       [0.57142857, 0.42857143],\n",
       "       [0.57142857, 0.42857143],\n",
       "       [0.57142857, 0.42857143],\n",
       "       [0.57142857, 0.42857143],\n",
       "       [0.57142857, 0.42857143],\n",
       "       [0.57142857, 0.42857143],\n",
       "       [0.57142857, 0.42857143],\n",
       "       [0.57142857, 0.42857143],\n",
       "       [0.57142857, 0.42857143],\n",
       "       [0.57142857, 0.42857143],\n",
       "       [0.57142857, 0.42857143],\n",
       "       [0.57142857, 0.42857143],\n",
       "       [0.57142857, 0.42857143],\n",
       "       [0.57142857, 0.42857143],\n",
       "       [0.57142857, 0.42857143],\n",
       "       [0.57142857, 0.42857143],\n",
       "       [0.57142857, 0.42857143],\n",
       "       [0.57142857, 0.42857143],\n",
       "       [0.57142857, 0.42857143],\n",
       "       [0.57142857, 0.42857143],\n",
       "       [0.57142857, 0.42857143],\n",
       "       [0.57142857, 0.42857143],\n",
       "       [0.57142857, 0.42857143],\n",
       "       [0.57142857, 0.42857143],\n",
       "       [0.57142857, 0.42857143],\n",
       "       [0.57142857, 0.42857143],\n",
       "       [0.57142857, 0.42857143],\n",
       "       [0.57142857, 0.42857143],\n",
       "       [0.57142857, 0.42857143],\n",
       "       [0.57142857, 0.42857143],\n",
       "       [0.57142857, 0.42857143],\n",
       "       [0.57142857, 0.42857143],\n",
       "       [0.57142857, 0.42857143],\n",
       "       [0.57142857, 0.42857143],\n",
       "       [0.57142857, 0.42857143],\n",
       "       [0.57142857, 0.42857143],\n",
       "       [0.57142857, 0.42857143],\n",
       "       [0.57142857, 0.42857143],\n",
       "       [0.57142857, 0.42857143],\n",
       "       [0.57142857, 0.42857143],\n",
       "       [0.57142857, 0.42857143],\n",
       "       [0.57142857, 0.42857143],\n",
       "       [0.57142857, 0.42857143],\n",
       "       [0.57142857, 0.42857143],\n",
       "       [0.57142857, 0.42857143],\n",
       "       [0.57142857, 0.42857143],\n",
       "       [0.57142857, 0.42857143],\n",
       "       [0.57142857, 0.42857143],\n",
       "       [0.57142857, 0.42857143],\n",
       "       [0.57142857, 0.42857143],\n",
       "       [0.57142857, 0.42857143],\n",
       "       [0.57142857, 0.42857143],\n",
       "       [0.57142857, 0.42857143],\n",
       "       [0.57142857, 0.42857143],\n",
       "       [0.57142857, 0.42857143],\n",
       "       [0.57142857, 0.42857143],\n",
       "       [0.57142857, 0.42857143],\n",
       "       [0.57142857, 0.42857143],\n",
       "       [0.57142857, 0.42857143],\n",
       "       [0.57142857, 0.42857143],\n",
       "       [0.57142857, 0.42857143],\n",
       "       [0.57142857, 0.42857143],\n",
       "       [0.57142857, 0.42857143],\n",
       "       [0.57142857, 0.42857143],\n",
       "       [0.57142857, 0.42857143],\n",
       "       [0.57142857, 0.42857143],\n",
       "       [0.57142857, 0.42857143],\n",
       "       [0.57142857, 0.42857143],\n",
       "       [0.57142857, 0.42857143],\n",
       "       [0.57142857, 0.42857143],\n",
       "       [0.57142857, 0.42857143],\n",
       "       [0.57142857, 0.42857143],\n",
       "       [0.57142857, 0.42857143],\n",
       "       [0.57142857, 0.42857143],\n",
       "       [0.57142857, 0.42857143],\n",
       "       [0.57142857, 0.42857143],\n",
       "       [0.57142857, 0.42857143],\n",
       "       [0.57142857, 0.42857143],\n",
       "       [0.57142857, 0.42857143],\n",
       "       [0.57142857, 0.42857143],\n",
       "       [0.57142857, 0.42857143],\n",
       "       [0.57142857, 0.42857143],\n",
       "       [0.57142857, 0.42857143],\n",
       "       [0.57142857, 0.42857143],\n",
       "       [0.57142857, 0.42857143],\n",
       "       [0.57142857, 0.42857143],\n",
       "       [0.57142857, 0.42857143],\n",
       "       [0.57142857, 0.42857143],\n",
       "       [0.57142857, 0.42857143],\n",
       "       [0.57142857, 0.42857143],\n",
       "       [0.57142857, 0.42857143],\n",
       "       [0.57142857, 0.42857143],\n",
       "       [0.57142857, 0.42857143],\n",
       "       [0.57142857, 0.42857143],\n",
       "       [0.57142857, 0.42857143],\n",
       "       [0.57142857, 0.42857143],\n",
       "       [0.57142857, 0.42857143],\n",
       "       [0.57142857, 0.42857143],\n",
       "       [0.57142857, 0.42857143],\n",
       "       [0.57142857, 0.42857143],\n",
       "       [0.57142857, 0.42857143],\n",
       "       [0.57142857, 0.42857143],\n",
       "       [0.57142857, 0.42857143],\n",
       "       [0.57142857, 0.42857143],\n",
       "       [0.57142857, 0.42857143],\n",
       "       [0.57142857, 0.42857143],\n",
       "       [0.57142857, 0.42857143],\n",
       "       [0.57142857, 0.42857143],\n",
       "       [0.57142857, 0.42857143],\n",
       "       [0.57142857, 0.42857143],\n",
       "       [0.57142857, 0.42857143],\n",
       "       [0.57142857, 0.42857143],\n",
       "       [0.57142857, 0.42857143],\n",
       "       [0.57142857, 0.42857143],\n",
       "       [0.57142857, 0.42857143],\n",
       "       [0.57142857, 0.42857143],\n",
       "       [0.57142857, 0.42857143],\n",
       "       [0.57142857, 0.42857143],\n",
       "       [0.57142857, 0.42857143],\n",
       "       [0.57142857, 0.42857143],\n",
       "       [0.57142857, 0.42857143],\n",
       "       [0.57142857, 0.42857143],\n",
       "       [0.57142857, 0.42857143],\n",
       "       [0.57142857, 0.42857143],\n",
       "       [0.57142857, 0.42857143],\n",
       "       [0.57142857, 0.42857143],\n",
       "       [0.57142857, 0.42857143],\n",
       "       [0.57142857, 0.42857143],\n",
       "       [0.57142857, 0.42857143],\n",
       "       [0.57142857, 0.42857143],\n",
       "       [0.57142857, 0.42857143],\n",
       "       [0.57142857, 0.42857143],\n",
       "       [0.57142857, 0.42857143],\n",
       "       [0.57142857, 0.42857143],\n",
       "       [0.57142857, 0.42857143],\n",
       "       [0.57142857, 0.42857143],\n",
       "       [0.57142857, 0.42857143],\n",
       "       [0.57142857, 0.42857143],\n",
       "       [0.57142857, 0.42857143],\n",
       "       [0.57142857, 0.42857143],\n",
       "       [0.57142857, 0.42857143],\n",
       "       [0.57142857, 0.42857143],\n",
       "       [0.57142857, 0.42857143],\n",
       "       [0.57142857, 0.42857143],\n",
       "       [0.57142857, 0.42857143],\n",
       "       [0.57142857, 0.42857143],\n",
       "       [0.57142857, 0.42857143],\n",
       "       [0.57142857, 0.42857143],\n",
       "       [0.57142857, 0.42857143],\n",
       "       [0.57142857, 0.42857143],\n",
       "       [0.57142857, 0.42857143],\n",
       "       [0.57142857, 0.42857143],\n",
       "       [0.57142857, 0.42857143],\n",
       "       [0.57142857, 0.42857143],\n",
       "       [0.57142857, 0.42857143],\n",
       "       [0.57142857, 0.42857143],\n",
       "       [0.57142857, 0.42857143],\n",
       "       [0.57142857, 0.42857143],\n",
       "       [0.57142857, 0.42857143],\n",
       "       [0.57142857, 0.42857143],\n",
       "       [0.57142857, 0.42857143],\n",
       "       [0.57142857, 0.42857143],\n",
       "       [0.57142857, 0.42857143],\n",
       "       [0.57142857, 0.42857143],\n",
       "       [0.57142857, 0.42857143],\n",
       "       [0.57142857, 0.42857143],\n",
       "       [0.57142857, 0.42857143],\n",
       "       [0.57142857, 0.42857143],\n",
       "       [0.57142857, 0.42857143],\n",
       "       [0.57142857, 0.42857143],\n",
       "       [0.57142857, 0.42857143],\n",
       "       [0.57142857, 0.42857143],\n",
       "       [0.57142857, 0.42857143],\n",
       "       [0.57142857, 0.42857143],\n",
       "       [0.57142857, 0.42857143],\n",
       "       [0.57142857, 0.42857143],\n",
       "       [0.57142857, 0.42857143],\n",
       "       [0.57142857, 0.42857143],\n",
       "       [0.57142857, 0.42857143],\n",
       "       [0.57142857, 0.42857143],\n",
       "       [0.57142857, 0.42857143],\n",
       "       [0.57142857, 0.42857143],\n",
       "       [0.57142857, 0.42857143],\n",
       "       [0.57142857, 0.42857143],\n",
       "       [0.57142857, 0.42857143],\n",
       "       [0.57142857, 0.42857143]])"
      ]
     },
     "execution_count": 267,
     "metadata": {},
     "output_type": "execute_result"
    }
   ],
   "source": [
    "model.predict_proba(test_scaled)"
   ]
  },
  {
   "cell_type": "code",
   "execution_count": 268,
   "metadata": {},
   "outputs": [
    {
     "data": {
      "text/plain": [
       "AdaBoostClassifier(algorithm='SAMME.R', base_estimator=None, learning_rate=1.0,\n",
       "                   n_estimators=50, random_state=None)"
      ]
     },
     "execution_count": 268,
     "metadata": {},
     "output_type": "execute_result"
    }
   ],
   "source": [
    "# Adaboost\n",
    "model=AdaBoostClassifier()\n",
    "model.fit(df_train_x, df_train_y)"
   ]
  },
  {
   "cell_type": "code",
   "execution_count": 269,
   "metadata": {},
   "outputs": [
    {
     "data": {
      "text/plain": [
       "dict_keys(['algorithm', 'base_estimator', 'learning_rate', 'n_estimators', 'random_state'])"
      ]
     },
     "execution_count": 269,
     "metadata": {},
     "output_type": "execute_result"
    }
   ],
   "source": [
    "model.get_params().keys()"
   ]
  },
  {
   "cell_type": "code",
   "execution_count": 270,
   "metadata": {},
   "outputs": [],
   "source": [
    "param_grid = { 'n_estimators':[10,20,30,50], 'learning_rate':[0.05,0.25,0.50,0.75,1,2]}"
   ]
  },
  {
   "cell_type": "code",
   "execution_count": 271,
   "metadata": {},
   "outputs": [
    {
     "name": "stdout",
     "output_type": "stream",
     "text": [
      "RFC best parameters : {'learning_rate': 0.25, 'n_estimators': 20}\n"
     ]
    }
   ],
   "source": [
    "CV_AdaBoostModel = GridSearchCV(estimator=model, param_grid=param_grid,n_jobs=3, cv= 5)\n",
    "CV_AdaBoostModel.fit(train_1_scaled, df_train_1_y)\n",
    "print('RFC best parameters :', CV_AdaBoostModel.best_params_)"
   ]
  },
  {
   "cell_type": "code",
   "execution_count": 275,
   "metadata": {},
   "outputs": [],
   "source": [
    "# There was a column 'old_index' and 'index' in df_train_test_y. Not sure how this was added to this df\n",
    "df_train_test_y.drop(columns=['old_index'],inplace=True)\n",
    "df_train_test_y=df_train_test_y.set_index('index')"
   ]
  },
  {
   "cell_type": "code",
   "execution_count": 276,
   "metadata": {},
   "outputs": [
    {
     "name": "stdout",
     "output_type": "stream",
     "text": [
      "train_test  confusion_matrix \n",
      " [[79 36]\n",
      " [18 73]]\n",
      "train_test  accuracy_score     :  0.7378640776699029\n",
      "train_test  recall_score       :  0.8021978021978022\n",
      "train_test  precision_score    :  0.6697247706422018\n",
      "train_test  train f1_score     :  0.7300000000000001\n",
      "train_test  train roc_auc_score:  0.7445771619684665\n",
      "train_test  classification report \n",
      "               precision    recall  f1-score   support\n",
      "\n",
      "         0.0       0.81      0.69      0.75       115\n",
      "         1.0       0.67      0.80      0.73        91\n",
      "\n",
      "    accuracy                           0.74       206\n",
      "   macro avg       0.74      0.74      0.74       206\n",
      "weighted avg       0.75      0.74      0.74       206\n",
      "\n"
     ]
    },
    {
     "data": {
      "text/plain": [
       "<sklearn.metrics._plot.roc_curve.RocCurveDisplay at 0x203cc64b688>"
      ]
     },
     "execution_count": 276,
     "metadata": {},
     "output_type": "execute_result"
    },
    {
     "data": {
      "image/png": "[encoded data removed]",
      "text/plain": [
       "<Figure size 432x288 with 1 Axes>"
      ]
     },
     "metadata": {
      "needs_background": "light"
     },
     "output_type": "display_data"
    }
   ],
   "source": [
    "model=AdaBoostClassifier(n_estimators=20,learning_rate=0.25)\n",
    "scaler = StandardScaler()\n",
    "train_scaled = scaler.fit_transform(df_train_x)\n",
    "train_1_scaled = scaler.transform(df_train_1_x)\n",
    "train_test_scaled = scaler.transform(df_train_test_x)\n",
    "rfc_model.fit(train_1_scaled,df_train_1_y)\n",
    "df_train_test_y_pred=rfc_model.predict(train_test_scaled)\n",
    "metric_res('train_test',df_train_test_y,df_train_test_y_pred)\n",
    "plot_roc_curve(rfc_model, train_test_scaled, df_train_test_y)\n"
   ]
  },
  {
   "cell_type": "code",
   "execution_count": 277,
   "metadata": {},
   "outputs": [
    {
     "data": {
      "text/html": [
       "<div>\n",
       "<style scoped>\n",
       "    .dataframe tbody tr th:only-of-type {\n",
       "        vertical-align: middle;\n",
       "    }\n",
       "\n",
       "    .dataframe tbody tr th {\n",
       "        vertical-align: top;\n",
       "    }\n",
       "\n",
       "    .dataframe thead th {\n",
       "        text-align: right;\n",
       "    }\n",
       "</style>\n",
       "<table border=\"1\" class=\"dataframe\">\n",
       "  <thead>\n",
       "    <tr style=\"text-align: right;\">\n",
       "      <th></th>\n",
       "      <th>Survived</th>\n",
       "    </tr>\n",
       "    <tr>\n",
       "      <th>index</th>\n",
       "      <th></th>\n",
       "    </tr>\n",
       "  </thead>\n",
       "  <tbody>\n",
       "    <tr>\n",
       "      <th>842</th>\n",
       "      <td>1.0</td>\n",
       "    </tr>\n",
       "    <tr>\n",
       "      <th>590</th>\n",
       "      <td>0.0</td>\n",
       "    </tr>\n",
       "    <tr>\n",
       "      <th>518</th>\n",
       "      <td>1.0</td>\n",
       "    </tr>\n",
       "    <tr>\n",
       "      <th>37</th>\n",
       "      <td>0.0</td>\n",
       "    </tr>\n",
       "    <tr>\n",
       "      <th>159</th>\n",
       "      <td>0.0</td>\n",
       "    </tr>\n",
       "  </tbody>\n",
       "</table>\n",
       "</div>"
      ],
      "text/plain": [
       "       Survived\n",
       "index          \n",
       "842         1.0\n",
       "590         0.0\n",
       "518         1.0\n",
       "37          0.0\n",
       "159         0.0"
      ]
     },
     "execution_count": 277,
     "metadata": {},
     "output_type": "execute_result"
    }
   ],
   "source": [
    "df_train_test_y.head()"
   ]
  },
  {
   "cell_type": "code",
   "execution_count": 282,
   "metadata": {},
   "outputs": [
    {
     "data": {
      "text/plain": [
       "GradientBoostingClassifier(ccp_alpha=0.0, criterion='friedman_mse', init=None,\n",
       "                           learning_rate=0.1, loss='deviance', max_depth=3,\n",
       "                           max_features=None, max_leaf_nodes=None,\n",
       "                           min_impurity_decrease=0.0, min_impurity_split=None,\n",
       "                           min_samples_leaf=1, min_samples_split=2,\n",
       "                           min_weight_fraction_leaf=0.0, n_estimators=100,\n",
       "                           n_iter_no_change=None, presort='deprecated',\n",
       "                           random_state=None, subsample=1.0, tol=0.0001,\n",
       "                           validation_fraction=0.1, verbose=0,\n",
       "                           warm_start=False)"
      ]
     },
     "execution_count": 282,
     "metadata": {},
     "output_type": "execute_result"
    }
   ],
   "source": [
    "#GradientBoosting\n",
    "model=GradientBoostingClassifier()\n",
    "model.fit(df_train_x, df_train_y)\n"
   ]
  },
  {
   "cell_type": "code",
   "execution_count": 283,
   "metadata": {},
   "outputs": [
    {
     "data": {
      "text/plain": [
       "dict_keys(['ccp_alpha', 'criterion', 'init', 'learning_rate', 'loss', 'max_depth', 'max_features', 'max_leaf_nodes', 'min_impurity_decrease', 'min_impurity_split', 'min_samples_leaf', 'min_samples_split', 'min_weight_fraction_leaf', 'n_estimators', 'n_iter_no_change', 'presort', 'random_state', 'subsample', 'tol', 'validation_fraction', 'verbose', 'warm_start'])"
      ]
     },
     "execution_count": 283,
     "metadata": {},
     "output_type": "execute_result"
    }
   ],
   "source": [
    "model.get_params().keys()"
   ]
  },
  {
   "cell_type": "code",
   "execution_count": 288,
   "metadata": {},
   "outputs": [],
   "source": [
    "param_grid = { 'n_estimators':[3,5,8,10,20,30,50], 'max_depth':[1,2,3,5,10,20,30],'max_features' :['auto']}"
   ]
  },
  {
   "cell_type": "code",
   "execution_count": 289,
   "metadata": {},
   "outputs": [
    {
     "name": "stdout",
     "output_type": "stream",
     "text": [
      "Fitting 5 folds for each of 49 candidates, totalling 245 fits\n"
     ]
    },
    {
     "name": "stderr",
     "output_type": "stream",
     "text": [
      "[Parallel(n_jobs=3)]: Using backend LokyBackend with 3 concurrent workers.\n",
      "[Parallel(n_jobs=3)]: Done 178 tasks      | elapsed:    3.0s\n"
     ]
    },
    {
     "name": "stdout",
     "output_type": "stream",
     "text": [
      "RFC best parameters : {'max_depth': 2, 'max_features': 'auto', 'n_estimators': 50}\n"
     ]
    },
    {
     "name": "stderr",
     "output_type": "stream",
     "text": [
      "[Parallel(n_jobs=3)]: Done 245 out of 245 | elapsed:    5.7s finished\n"
     ]
    }
   ],
   "source": [
    "CV_GBModel = GridSearchCV(estimator=model, param_grid=param_grid,n_jobs=3, cv= 5,verbose=2)\n",
    "CV_GBModel.fit(train_1_scaled, df_train_1_y)\n",
    "print('RFC best parameters :', CV_GBModel.best_params_)"
   ]
  },
  {
   "cell_type": "code",
   "execution_count": 299,
   "metadata": {},
   "outputs": [],
   "source": [
    "GB_Model = GradientBoostingClassifier(max_depth=2,\n",
    "                           max_features='auto',\n",
    "                           n_estimators=50,\n",
    "                           random_state=None, \n",
    "                           verbose=3,\n",
    "                           warm_start=False)"
   ]
  },
  {
   "cell_type": "code",
   "execution_count": 303,
   "metadata": {},
   "outputs": [
    {
     "name": "stdout",
     "output_type": "stream",
     "text": [
      "      Iter       Train Loss   Remaining Time \n",
      "         1           1.3089            0.05s\n",
      "         2           1.2470            0.05s\n",
      "         3           1.1954            0.05s\n",
      "         4           1.1523            0.05s\n",
      "         5           1.1154            0.05s\n",
      "         6           1.0844            0.05s\n",
      "         7           1.0578            0.05s\n",
      "         8           1.0350            0.05s\n",
      "         9           1.0153            0.05s\n",
      "        10           0.9981            0.04s\n",
      "        11           0.9833            0.04s\n",
      "        12           0.9698            0.04s\n",
      "        13           0.9583            0.04s\n",
      "        14           0.9492            0.04s\n",
      "        15           0.9415            0.04s\n",
      "        16           0.9346            0.04s\n",
      "        17           0.9267            0.04s\n",
      "        18           0.9199            0.04s\n",
      "        19           0.9152            0.04s\n",
      "        20           0.9078            0.04s\n",
      "        21           0.9039            0.04s\n",
      "        22           0.8979            0.04s\n",
      "        23           0.8939            0.04s\n",
      "        24           0.8897            0.03s\n",
      "        25           0.8850            0.03s\n",
      "        26           0.8827            0.03s\n",
      "        27           0.8789            0.03s\n",
      "        28           0.8767            0.03s\n",
      "        29           0.8736            0.03s\n",
      "        30           0.8717            0.03s\n",
      "        31           0.8676            0.03s\n",
      "        32           0.8648            0.02s\n",
      "        33           0.8624            0.02s\n",
      "        34           0.8593            0.02s\n",
      "        35           0.8580            0.02s\n",
      "        36           0.8554            0.02s\n",
      "        37           0.8531            0.02s\n",
      "        38           0.8504            0.02s\n",
      "        39           0.8474            0.01s\n",
      "        40           0.8467            0.01s\n",
      "        41           0.8449            0.01s\n",
      "        42           0.8443            0.01s\n",
      "        43           0.8424            0.01s\n",
      "        44           0.8401            0.01s\n",
      "        45           0.8380            0.01s\n",
      "        46           0.8368            0.01s\n",
      "        47           0.8353            0.00s\n",
      "        48           0.8349            0.00s\n",
      "        49           0.8336            0.00s\n",
      "        50           0.8326            0.00s\n",
      "train_test  confusion_matrix \n",
      " [[79 36]\n",
      " [18 73]]\n",
      "train_test  accuracy_score     :  0.7378640776699029\n",
      "train_test  recall_score       :  0.8021978021978022\n",
      "train_test  precision_score    :  0.6697247706422018\n",
      "train_test  train f1_score     :  0.7300000000000001\n",
      "train_test  train roc_auc_score:  0.7445771619684665\n",
      "train_test  classification report \n",
      "               precision    recall  f1-score   support\n",
      "\n",
      "         0.0       0.81      0.69      0.75       115\n",
      "         1.0       0.67      0.80      0.73        91\n",
      "\n",
      "    accuracy                           0.74       206\n",
      "   macro avg       0.74      0.74      0.74       206\n",
      "weighted avg       0.75      0.74      0.74       206\n",
      "\n"
     ]
    },
    {
     "data": {
      "text/plain": [
       "<sklearn.metrics._plot.roc_curve.RocCurveDisplay at 0x203ca38f288>"
      ]
     },
     "execution_count": 303,
     "metadata": {},
     "output_type": "execute_result"
    },
    {
     "data": {
      "image/png": "[encoded data removed]",
      "text/plain": [
       "<Figure size 432x288 with 1 Axes>"
      ]
     },
     "metadata": {
      "needs_background": "light"
     },
     "output_type": "display_data"
    }
   ],
   "source": [
    "scaler = StandardScaler()\n",
    "train_scaled = scaler.fit_transform(df_train_x)\n",
    "train_1_scaled = scaler.transform(df_train_1_x)\n",
    "train_test_scaled = scaler.transform(df_train_test_x)\n",
    "test_scaled = scaler.transform(df_test_x)\n",
    "GB_Model.fit(train_1_scaled, df_train_1_y)\n",
    "df_train_test_y_pred=rfc_model.predict(train_test_scaled)\n",
    "metric_res('train_test',df_train_test_y,df_train_test_y_pred)\n",
    "plot_roc_curve(rfc_model, train_test_scaled, df_train_test_y)\n"
   ]
  },
  {
   "cell_type": "code",
   "execution_count": 307,
   "metadata": {},
   "outputs": [
    {
     "name": "stdout",
     "output_type": "stream",
     "text": [
      "********************************************************************************\n",
      "Model Name :  GradientBoostingClassifier\n",
      "train  confusion_matrix \n",
      " [[308  34]\n",
      " [ 45 297]]\n",
      "train  accuracy_score     :  0.8845029239766082\n",
      "train  recall_score       :  0.868421052631579\n",
      "train  precision_score    :  0.8972809667673716\n",
      "train  train f1_score     :  0.8826151560178307\n",
      "train  train roc_auc_score:  0.8845029239766082\n",
      "train  classification report \n",
      "               precision    recall  f1-score   support\n",
      "\n",
      "         0.0       0.87      0.90      0.89       342\n",
      "         1.0       0.90      0.87      0.88       342\n",
      "\n",
      "    accuracy                           0.88       684\n",
      "   macro avg       0.88      0.88      0.88       684\n",
      "weighted avg       0.88      0.88      0.88       684\n",
      "\n",
      "test   confusion_matrix \n",
      " [[102  13]\n",
      " [  9  82]]\n",
      "test   accuracy_score     :  0.8932038834951457\n",
      "test   recall_score       :  0.9010989010989011\n",
      "test   precision_score    :  0.8631578947368421\n",
      "test   train f1_score     :  0.881720430107527\n",
      "test   train roc_auc_score:  0.8940277114190157\n",
      "test   classification report \n",
      "               precision    recall  f1-score   support\n",
      "\n",
      "         0.0       0.92      0.89      0.90       115\n",
      "         1.0       0.86      0.90      0.88        91\n",
      "\n",
      "    accuracy                           0.89       206\n",
      "   macro avg       0.89      0.89      0.89       206\n",
      "weighted avg       0.89      0.89      0.89       206\n",
      "\n"
     ]
    }
   ],
   "source": [
    "model_name, accuracy, f1score = run_model_validate(model,train_scaled, df_train_y, train_test_scaled, df_train_test_y)"
   ]
  },
  {
   "cell_type": "code",
   "execution_count": 308,
   "metadata": {},
   "outputs": [],
   "source": [
    "submission_file_generation(model_name,test_scaled)"
   ]
  },
  {
   "cell_type": "code",
   "execution_count": 174,
   "metadata": {},
   "outputs": [
    {
     "name": "stdout",
     "output_type": "stream",
     "text": [
      "********************************************************************************\n",
      "Model Name :  XGBClassifier\n",
      "train  confusion_matrix \n",
      " [[315  27]\n",
      " [ 63 279]]\n",
      "train  accuracy_score     :  0.868421052631579\n",
      "train  recall_score       :  0.8157894736842105\n",
      "train  precision_score    :  0.9117647058823529\n",
      "train  train f1_score     :  0.861111111111111\n",
      "train  train roc_auc_score:  0.868421052631579\n",
      "train  classification report \n",
      "               precision    recall  f1-score   support\n",
      "\n",
      "         0.0       0.83      0.92      0.88       342\n",
      "         1.0       0.91      0.82      0.86       342\n",
      "\n",
      "    accuracy                           0.87       684\n",
      "   macro avg       0.87      0.87      0.87       684\n",
      "weighted avg       0.87      0.87      0.87       684\n",
      "\n",
      "test   confusion_matrix \n",
      " [[105  10]\n",
      " [ 19  72]]\n",
      "test   accuracy_score     :  0.8592233009708737\n",
      "test   recall_score       :  0.7912087912087912\n",
      "test   precision_score    :  0.8780487804878049\n",
      "test   train f1_score     :  0.8323699421965318\n",
      "test   train roc_auc_score:  0.8521261347348303\n",
      "test   classification report \n",
      "               precision    recall  f1-score   support\n",
      "\n",
      "         0.0       0.85      0.91      0.88       115\n",
      "         1.0       0.88      0.79      0.83        91\n",
      "\n",
      "    accuracy                           0.86       206\n",
      "   macro avg       0.86      0.85      0.86       206\n",
      "weighted avg       0.86      0.86      0.86       206\n",
      "\n"
     ]
    }
   ],
   "source": [
    "model=XGBClassifier()\n",
    "model_name, accuracy, f1score = run_model_validate(model,train_scaled, df_train_y, train_test_scaled, df_train_test_y)"
   ]
  },
  {
   "cell_type": "code",
   "execution_count": 198,
   "metadata": {},
   "outputs": [
    {
     "data": {
      "text/plain": [
       "array([[ 0.92449317,  0.85917508, -0.49764921, ..., -0.4650645 ,\n",
       "         0.78996734, -1.4375059 ],\n",
       "       [ 0.92449317, -1.16390713,  0.42079219, ...,  2.15023938,\n",
       "         0.78996734, -1.4375059 ],\n",
       "       [-0.23536965,  0.85917508, -0.49764921, ..., -0.4650645 ,\n",
       "         1.966305  , -0.54859539],\n",
       "       ...,\n",
       "       [ 0.92449317,  0.85917508, -0.49764921, ..., -0.4650645 ,\n",
       "         0.78996734, -1.4375059 ],\n",
       "       [ 0.92449317,  0.85917508, -0.49764921, ..., -0.4650645 ,\n",
       "        -0.38637032, -0.54859539],\n",
       "       [ 0.92449317,  0.85917508,  0.42079219, ..., -0.4650645 ,\n",
       "        -1.56270798,  0.34031511]])"
      ]
     },
     "execution_count": 198,
     "metadata": {},
     "output_type": "execute_result"
    }
   ],
   "source": []
  },
  {
   "cell_type": "code",
   "execution_count": 175,
   "metadata": {},
   "outputs": [],
   "source": [
    "submission_file_generation(model_name,test_scaled)"
   ]
  },
  {
   "cell_type": "code",
   "execution_count": 182,
   "metadata": {},
   "outputs": [
    {
     "name": "stdout",
     "output_type": "stream",
     "text": [
      "<class 'pandas.core.frame.DataFrame'>\n",
      "RangeIndex: 891 entries, 0 to 890\n",
      "Data columns (total 12 columns):\n",
      " #   Column       Non-Null Count  Dtype  \n",
      "---  ------       --------------  -----  \n",
      " 0   PassengerId  891 non-null    int64  \n",
      " 1   Survived     891 non-null    int64  \n",
      " 2   Pclass       891 non-null    int64  \n",
      " 3   Name         891 non-null    object \n",
      " 4   Sex          891 non-null    object \n",
      " 5   Age          714 non-null    float64\n",
      " 6   SibSp        891 non-null    int64  \n",
      " 7   Parch        891 non-null    int64  \n",
      " 8   Ticket       891 non-null    object \n",
      " 9   Fare         891 non-null    float64\n",
      " 10  Cabin        204 non-null    object \n",
      " 11  Embarked     889 non-null    object \n",
      "dtypes: float64(2), int64(5), object(5)\n",
      "memory usage: 83.7+ KB\n"
     ]
    }
   ],
   "source": [
    "train.info()"
   ]
  },
  {
   "cell_type": "code",
   "execution_count": 183,
   "metadata": {},
   "outputs": [
    {
     "name": "stdout",
     "output_type": "stream",
     "text": [
      "<class 'pandas.core.frame.DataFrame'>\n",
      "RangeIndex: 418 entries, 0 to 417\n",
      "Data columns (total 11 columns):\n",
      " #   Column       Non-Null Count  Dtype  \n",
      "---  ------       --------------  -----  \n",
      " 0   PassengerId  418 non-null    int64  \n",
      " 1   Pclass       418 non-null    int64  \n",
      " 2   Name         418 non-null    object \n",
      " 3   Sex          418 non-null    object \n",
      " 4   Age          332 non-null    float64\n",
      " 5   SibSp        418 non-null    int64  \n",
      " 6   Parch        418 non-null    int64  \n",
      " 7   Ticket       418 non-null    object \n",
      " 8   Fare         417 non-null    float64\n",
      " 9   Cabin        91 non-null     object \n",
      " 10  Embarked     418 non-null    object \n",
      "dtypes: float64(2), int64(4), object(5)\n",
      "memory usage: 36.0+ KB\n"
     ]
    }
   ],
   "source": [
    "test.info()"
   ]
  },
  {
   "cell_type": "code",
   "execution_count": 207,
   "metadata": {},
   "outputs": [],
   "source": [
    "train_y=train['Survived']\n",
    "test_x=test\n"
   ]
  },
  {
   "cell_type": "code",
   "execution_count": 208,
   "metadata": {},
   "outputs": [],
   "source": [
    "train_x = train.drop(['Name', 'Ticket', 'Cabin','Survived'],axis=1) \n",
    "test_x = test_x.drop(['Name', 'Ticket', 'Cabin'],axis=1) "
   ]
  },
  {
   "cell_type": "code",
   "execution_count": null,
   "metadata": {},
   "outputs": [],
   "source": []
  },
  {
   "cell_type": "code",
   "execution_count": 209,
   "metadata": {},
   "outputs": [],
   "source": [
    "test_x['Sex']=np.where(test_x['Sex']=='male',1,0)\n",
    "train_x['Sex']=np.where(train_x['Sex'] == 'male',1,0)"
   ]
  },
  {
   "cell_type": "code",
   "execution_count": 211,
   "metadata": {},
   "outputs": [],
   "source": [
    "embarked_order = {'S' : 0, 'C' : 1, 'Q' : 2}\n",
    "train_x['Embarked'] = train_x['Embarked'].map(embarked_order)\n"
   ]
  },
  {
   "cell_type": "code",
   "execution_count": 219,
   "metadata": {},
   "outputs": [],
   "source": [
    "test_x['Embarked'] = test_x['Embarked'].map(embarked_order)"
   ]
  },
  {
   "cell_type": "code",
   "execution_count": null,
   "metadata": {},
   "outputs": [],
   "source": [
    "df_to_encode=df_all['Embarked']\n",
    "encoded=pd.get_dummies(df_to_encode,prefix='Embarked',prefix_sep='_')"
   ]
  },
  {
   "cell_type": "code",
   "execution_count": null,
   "metadata": {},
   "outputs": [],
   "source": []
  },
  {
   "cell_type": "code",
   "execution_count": 212,
   "metadata": {},
   "outputs": [],
   "source": [
    "model=XGBClassifier()"
   ]
  },
  {
   "cell_type": "code",
   "execution_count": 213,
   "metadata": {},
   "outputs": [
    {
     "data": {
      "text/plain": [
       "XGBClassifier(base_score=0.5, booster='gbtree', colsample_bylevel=1,\n",
       "              colsample_bynode=1, colsample_bytree=1, gamma=0, gpu_id=-1,\n",
       "              importance_type='gain', interaction_constraints='',\n",
       "              learning_rate=0.300000012, max_delta_step=0, max_depth=6,\n",
       "              min_child_weight=1, missing=nan, monotone_constraints='()',\n",
       "              n_estimators=100, n_jobs=0, num_parallel_tree=1,\n",
       "              objective='binary:logistic', random_state=0, reg_alpha=0,\n",
       "              reg_lambda=1, scale_pos_weight=1, subsample=1,\n",
       "              tree_method='exact', validate_parameters=1, verbosity=None)"
      ]
     },
     "execution_count": 213,
     "metadata": {},
     "output_type": "execute_result"
    }
   ],
   "source": [
    "model.fit(train_x,train_y)"
   ]
  },
  {
   "cell_type": "code",
   "execution_count": null,
   "metadata": {},
   "outputs": [],
   "source": []
  },
  {
   "cell_type": "code",
   "execution_count": 220,
   "metadata": {},
   "outputs": [],
   "source": [
    "test_y_pred = model.predict(test_x)"
   ]
  },
  {
   "cell_type": "code",
   "execution_count": 224,
   "metadata": {},
   "outputs": [],
   "source": [
    "train_y_pred = model.predict(train_x)"
   ]
  },
  {
   "cell_type": "code",
   "execution_count": 225,
   "metadata": {},
   "outputs": [
    {
     "name": "stdout",
     "output_type": "stream",
     "text": [
      "train  confusion_matrix \n",
      " [[549   0]\n",
      " [  1 341]]\n",
      "train  accuracy_score     :  0.9988776655443322\n",
      "train  recall_score       :  0.9970760233918129\n",
      "train  precision_score    :  1.0\n",
      "train  train f1_score     :  0.9985358711566619\n",
      "train  train roc_auc_score:  0.9985380116959064\n",
      "train  classification report \n",
      "               precision    recall  f1-score   support\n",
      "\n",
      "           0       1.00      1.00      1.00       549\n",
      "           1       1.00      1.00      1.00       342\n",
      "\n",
      "    accuracy                           1.00       891\n",
      "   macro avg       1.00      1.00      1.00       891\n",
      "weighted avg       1.00      1.00      1.00       891\n",
      "\n"
     ]
    }
   ],
   "source": [
    "metric_res('train',train_y,train_y_pred)"
   ]
  },
  {
   "cell_type": "code",
   "execution_count": 221,
   "metadata": {},
   "outputs": [],
   "source": [
    "test_y_pred = pd.DataFrame(test_y_pred)\n",
    "test_y_pred.rename(columns={0:'Survived'},inplace=True)"
   ]
  },
  {
   "cell_type": "code",
   "execution_count": 222,
   "metadata": {},
   "outputs": [],
   "source": [
    "\n",
    "gender_submission=pd.concat([pd.DataFrame(test['PassengerId']),test_y_pred],axis=1)\n",
    "gender_submission=gender_submission.astype({'Survived':int})"
   ]
  },
  {
   "cell_type": "code",
   "execution_count": 223,
   "metadata": {},
   "outputs": [],
   "source": [
    "gender_submission.to_csv('gender_submission.csv',index=False)"
   ]
  },
  {
   "cell_type": "code",
   "execution_count": null,
   "metadata": {},
   "outputs": [],
   "source": []
  }
 ],
 "metadata": {
  "kernelspec": {
   "display_name": "Python 3",
   "language": "python",
   "name": "python3"
  },
  "language_info": {
   "codemirror_mode": {
    "name": "ipython",
    "version": 3
   },
   "file_extension": ".py",
   "mimetype": "text/x-python",
   "name": "python",
   "nbconvert_exporter": "python",
   "pygments_lexer": "ipython3",
   "version": "3.7.6"
  }
 },
 "nbformat": 4,
 "nbformat_minor": 4
}
