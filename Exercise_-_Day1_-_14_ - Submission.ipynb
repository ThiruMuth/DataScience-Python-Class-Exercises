{
 "cells": [
  {
   "cell_type": "markdown",
   "metadata": {},
   "source": [
    "### The questions for the exercises are given above the cells and the expected output is given below the cell. Please type the code inserting a new cell below the question because if you run the expected output cell the output would vanish! Happy learning! "
   ]
  },
  {
   "cell_type": "markdown",
   "metadata": {},
   "source": [
    "## Exercise Question 1: Given an input list removes the element at index 4 and add it to the 2nd position and also, at the end of the list"
   ]
  },
  {
   "cell_type": "code",
   "execution_count": 13,
   "metadata": {},
   "outputs": [
    {
     "name": "stdout",
     "output_type": "stream",
     "text": [
      "Original list [34, 54, 67, 89, 11, 43, 94]\n",
      "List After removing element at index 4 [34, 54, 67, 89, 43, 94]\n",
      "List after Adding element at index 2 [34, 54, 11, 67, 89, 43, 94]\n",
      "List after Adding element at last [34, 54, 11, 67, 89, 43, 94, 11]\n"
     ]
    }
   ],
   "source": [
    "original_list = [34, 54, 67, 89, 11, 43, 94]\n",
    "print(\"Original list\", original_list)\n",
    "original_list.pop(4)\n",
    "print(\"List After removing element at index 4\", original_list)\n",
    "original_list.insert(2,11)\n",
    "print(\"List after Adding element at index 2\", original_list)\n",
    "original_list.append(11)\n",
    "print(\"List after Adding element at last\", original_list)"
   ]
  },
  {
   "cell_type": "code",
   "execution_count": 1,
   "metadata": {},
   "outputs": [
    {
     "name": "stdout",
     "output_type": "stream",
     "text": [
      "Original list  [34, 54, 67, 89, 11, 43, 94]\n",
      "List After removing element at index 4  [34, 54, 67, 89, 43, 94]\n",
      "List after Adding element at index 2  [34, 54, 11, 67, 89, 43, 94]\n",
      "List after Adding element at last  [34, 54, 11, 67, 89, 43, 94, 11]\n"
     ]
    }
   ],
   "source": []
  },
  {
   "cell_type": "markdown",
   "metadata": {},
   "source": [
    "## Exercise Question 2: Given a Python list you should be able to display Python list in the following order"
   ]
  },
  {
   "cell_type": "code",
   "execution_count": 12,
   "metadata": {},
   "outputs": [
    {
     "name": "stdout",
     "output_type": "stream",
     "text": [
      "The Original List is:  [100, 200, 300, 400, 500]\n",
      "The Expected result is:  [500, 400, 300, 200, 100]\n"
     ]
    }
   ],
   "source": [
    "original_list = [100, 200, 300, 400, 500]\n",
    "print(\"The Original List is: \", original_list)\n",
    "## original_list.sort(reverse=True)\n",
    "original_list.reverse()\n",
    "print(\"The Expected result is: \", original_list)"
   ]
  },
  {
   "cell_type": "code",
   "execution_count": 2,
   "metadata": {},
   "outputs": [
    {
     "name": "stdout",
     "output_type": "stream",
     "text": [
      "The Original List is: [100, 200, 300, 400, 500]\n",
      "The Expected result is:  [500, 400, 300, 200, 100]\n"
     ]
    }
   ],
   "source": []
  },
  {
   "cell_type": "markdown",
   "metadata": {},
   "source": [
    "## Exercise Question 3: Concatenate (join) two lists in the following order\n"
   ]
  },
  {
   "cell_type": "code",
   "execution_count": 11,
   "metadata": {},
   "outputs": [
    {
     "name": "stdout",
     "output_type": "stream",
     "text": [
      "The original list1:  ['Hello ', 'take ']\n",
      "The original list2:  ['Dear', 'Sir']\n",
      "The Expected result is: ['Hello ', 'take ', 'Dear', 'Sir']\n"
     ]
    }
   ],
   "source": [
    "original_list1 = ['Hello ', 'take ']\n",
    "original_list2 = ['Dear', 'Sir']\n",
    "print(\"The original list1: \",original_list1)\n",
    "print(\"The original list2: \",original_list2)\n",
    "# print(\"The Expected result is:\", original_list1+original_list2)\n",
    "original_list1.extend(original_list2)\n",
    "print(\"The Expected result is:\", original_list1)"
   ]
  },
  {
   "cell_type": "code",
   "execution_count": 3,
   "metadata": {},
   "outputs": [
    {
     "name": "stdout",
     "output_type": "stream",
     "text": [
      "The original list1: ['Hello ', 'take ']\n",
      "The original list2: ['Dear', 'Sir']\n",
      "The Expected result is: ['Hello ', 'take ', 'Dear', 'Sir']\n"
     ]
    }
   ],
   "source": []
  },
  {
   "cell_type": "markdown",
   "metadata": {},
   "source": [
    "## Exercise Question 4: Add item 7000 after 6000 in the following Python List"
   ]
  },
  {
   "cell_type": "code",
   "execution_count": 10,
   "metadata": {},
   "outputs": [
    {
     "name": "stdout",
     "output_type": "stream",
     "text": [
      "The original List is:  [10, 20, [300, 400, [5000, 6000], 500], 30, 40]\n",
      "The expected list is:  [10, 20, [300, 400, [5000, 6000, 7000], 500], 30, 40]\n",
      "-------------------------- 2nd Method using nested list index----------------------------\n",
      "The original list is:  [10, 20, [300, 400, [5000, 6000], 500], 30, 40]\n",
      "The expected list is:  [10, 20, [300, 400, [5000, 6000, 7000], 500], 30, 40]\n"
     ]
    }
   ],
   "source": [
    "original_list = [10, 20, [300, 400, [5000, 6000], 500], 30, 40]\n",
    "print(\"The original List is: \", original_list)\n",
    "\n",
    "# \"To retain the original list as it is and to have the content in a working variable\"\n",
    "original_list_copy = original_list.copy()\n",
    "\n",
    "# \"to get the inside list\"\n",
    "inside_list = original_list_copy.pop(2)\n",
    "\n",
    "# \"to get the innermost list\"\n",
    "innermost_list = inside_list.pop(2)\n",
    "\n",
    "# \"to add 7000 to the innermost list after 6000\")\n",
    "innermost_list.append(7000)\n",
    "\n",
    "# \"to insert the updated innermost_list to inside_list after 400\" \n",
    "inside_list.insert(2,innermost_list)\n",
    "\n",
    "\n",
    "original_list_copy.insert(2,inside_list)\n",
    "print(\"The expected list is: \",original_list_copy)\n",
    "\n",
    "\n",
    "\n",
    "print ('-------------------------- 2nd Method using nested list index----------------------------')\n",
    "\n",
    "\n",
    "original_list = [10, 20, [300, 400, [5000, 6000], 500], 30, 40]\n",
    "print (\"The original list is: \", original_list)\n",
    "original_list_copy = original_list.copy()\n",
    "original_list_copy[2][2].append(7000)\n",
    "print (\"The expected list is: \", original_list_copy)"
   ]
  },
  {
   "cell_type": "code",
   "execution_count": 12,
   "metadata": {},
   "outputs": [
    {
     "name": "stdout",
     "output_type": "stream",
     "text": [
      "The original list is: [10, 20, [300, 400, [5000, 6000], 500], 30, 40]\n",
      "The expected list is: [10, 20, [300, 400, [5000, 6000, 7000], 500], 30, 40]\n"
     ]
    }
   ],
   "source": []
  },
  {
   "cell_type": "markdown",
   "metadata": {},
   "source": [
    "## Exercise Question 5: Given a nested list extend it with adding sub list [\"h\", \"i\", \"j\"] in a such a way that it will look like the"
   ]
  },
  {
   "cell_type": "code",
   "execution_count": 14,
   "metadata": {},
   "outputs": [
    {
     "name": "stdout",
     "output_type": "stream",
     "text": [
      "The Original List is:  ['a', 'b', ['c', ['d', 'e', ['f', 'g'], 'k'], 'l'], 'm', 'n']\n",
      "The expected list is:  ['a', 'b', ['c', ['d', 'e', ['f', 'g', 'h', 'i', 'j'], 'k'], 'l'], 'm', 'n']\n",
      "-------------------------2nd method using nested list index------------------------------\n",
      "The original list is: ['a', 'b', ['c', ['d', 'e', ['f', 'g'], 'k'], 'l'], 'm', 'n']\n",
      "The expected list is: ['a', 'b', ['c', ['d', 'e', ['f', 'g', 'h', 'i', 'j'], 'k'], 'l'], 'm', 'n']\n"
     ]
    }
   ],
   "source": [
    "original_list = ['a', 'b', ['c', ['d', 'e', ['f', 'g'], 'k'], 'l'], 'm', 'n']\n",
    "print(\"The Original List is: \", original_list)\n",
    " \n",
    "## To retain the original list as it is and to have the content in a working variable\n",
    "original_list_copy = original_list.copy()\n",
    "\n",
    "## to get the inside list\n",
    "inside_list = original_list_copy.pop(2)\n",
    "\n",
    "## to get the inside list 2\n",
    "inside_list2 = inside_list.pop(1)\n",
    "\n",
    "## to get the innermost list\n",
    "innermost_list = inside_list2.pop(2)\n",
    "\n",
    "## to add 'h','i','j' to the innermost list after 'f','g'\n",
    "innermost_list.append(\"h\")\n",
    "innermost_list.append(\"i\")\n",
    "innermost_list.append(\"j\")\n",
    "\n",
    "## to insert the updated innermost_list to inside_list2 after 'e'\n",
    "inside_list2.insert(2,innermost_list)\n",
    "\n",
    "## to insert the updated inner_list2 to inside the inner_list after 'c'\n",
    "inside_list.insert(1,inside_list2)\n",
    "\n",
    "## to insert the updated inside_list to the original_list_copy to get the expected_list\n",
    "original_list_copy.insert(2,inside_list)\n",
    "print(\"The expected list is: \",original_list_copy)\n",
    "\n",
    "print ('-------------------------2nd method using nested list index------------------------------')\n",
    "\n",
    "original_list = ['a', 'b', ['c', ['d', 'e', ['f', 'g'], 'k'], 'l'], 'm', 'n']\n",
    "['c', 'l']\n",
    "print (\"The original list is:\", original_list)\n",
    "## To retain the original list content as it is & \n",
    "## to store the base content for expected list copying the original list\n",
    "expected_list = original_list.copy()\n",
    "## Adding the elements 'h','i','j' to the innermost list by the nested list index position, using extend \n",
    "expected_list[2][1][2].extend([\"h\",\"i\",\"j\"])\n",
    "\n",
    "print (\"The expected list is:\", expected_list)"
   ]
  },
  {
   "cell_type": "code",
   "execution_count": 14,
   "metadata": {},
   "outputs": [
    {
     "name": "stdout",
     "output_type": "stream",
     "text": [
      "The original List is: ['a', 'b', ['c', ['d', 'e', ['f', 'g'], 'k'], 'l'], 'm', 'n']\n",
      "The expected result is: ['a', 'b', ['c', ['d', 'e', ['f', 'g', 'h', 'i', 'j'], 'k'], 'l'], 'm', 'n']\n"
     ]
    }
   ],
   "source": []
  },
  {
   "cell_type": "markdown",
   "metadata": {},
   "source": [
    "## Exercise Question 6: Given a Python list, find value 20 in the list, and if it is present, replace it with 200. Only update the first occurrence of a value"
   ]
  },
  {
   "cell_type": "code",
   "execution_count": 8,
   "metadata": {},
   "outputs": [
    {
     "name": "stdout",
     "output_type": "stream",
     "text": [
      "The original list is: [5, 10, 15, 20, 25, 50, 20]\n",
      "The expected output is: [5, 10, 15, 200, 25, 50, 20]\n"
     ]
    }
   ],
   "source": [
    "original_list = [5, 10, 15, 20, 25, 50, 20]\n",
    "print (\"The original list is:\",original_list)\n",
    "original_list_copy = original_list.copy()\n",
    "##position = original_list_copy.index(20) -- to find the index position where 20 occurs first in the list\n",
    "## the following statement replaces the first occurence of value 20 in the list with 200 \n",
    "original_list_copy[original_list_copy.index(20)] = 200\n",
    "print (\"The expected output is:\",original_list_copy)"
   ]
  },
  {
   "cell_type": "code",
   "execution_count": 15,
   "metadata": {},
   "outputs": [
    {
     "name": "stdout",
     "output_type": "stream",
     "text": [
      "The original list is: [5, 10, 15, 20, 25, 50, 20]\n",
      "The expected output is: [5, 10, 15, 200, 25, 50, 20]\n"
     ]
    }
   ],
   "source": []
  },
  {
   "cell_type": "code",
   "execution_count": null,
   "metadata": {},
   "outputs": [],
   "source": []
  }
 ],
 "metadata": {
  "kernelspec": {
   "display_name": "Python 3",
   "language": "python",
   "name": "python3"
  },
  "language_info": {
   "codemirror_mode": {
    "name": "ipython",
    "version": 3
   },
   "file_extension": ".py",
   "mimetype": "text/x-python",
   "name": "python",
   "nbconvert_exporter": "python",
   "pygments_lexer": "ipython3",
   "version": "3.7.6"
  }
 },
 "nbformat": 4,
 "nbformat_minor": 4
}
